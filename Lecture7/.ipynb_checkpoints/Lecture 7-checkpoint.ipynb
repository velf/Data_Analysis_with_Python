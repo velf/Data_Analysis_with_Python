{
 "cells": [
  {
   "cell_type": "markdown",
   "metadata": {},
   "source": [
    "### Advanced Statstics and Machine Learning with Python \n",
    "\n",
    "\n",
    "At this class we will get our hands on the [`sckit-learn`](http://scikit-learn.org/) machine learning library. We will cover the following methods:\n",
    "* Principal Component Analysis\n",
    "* Logistic Regression\n",
    "* Decision Trees (as machine learning technique with training and test sets)\n",
    "\n",
    "Scikit-learn provides a range of supervised and unsupervised learning algorithms via a consistent interface in Python. \n",
    "\n",
    "\n",
    "<div class=\"frontmatter text-center\">\n",
    "<img src=\"scikit.png\" width=\"800px\"/>\n",
    "</div>"
   ]
  },
  {
   "cell_type": "code",
   "execution_count": 2,
   "metadata": {
    "collapsed": false
   },
   "outputs": [
    {
     "name": "stderr",
     "output_type": "stream",
     "text": [
      "/home/orsi/anaconda2/lib/python2.7/site-packages/matplotlib/font_manager.py:273: UserWarning: Matplotlib is building the font cache using fc-list. This may take a moment.\n",
      "  warnings.warn('Matplotlib is building the font cache using fc-list. This may take a moment.')\n"
     ]
    }
   ],
   "source": [
    "import pandas as pd\n",
    "import numpy as np\n",
    "import matplotlib.pyplot as plt\n",
    "import savReaderWriter\n",
    "import seaborn\n",
    "\n",
    "%matplotlib inline"
   ]
  },
  {
   "cell_type": "markdown",
   "metadata": {},
   "source": [
    "### Please read the ESS7e02.sav file, from the last class as a dataframe"
   ]
  },
  {
   "cell_type": "code",
   "execution_count": 3,
   "metadata": {
    "collapsed": false
   },
   "outputs": [],
   "source": [
    "with savReaderWriter.SavReader('ESS7e02.spss/ESS7e02.sav') as reader:\n",
    "    header = reader.header\n",
    "    #print header\n",
    "    records = reader.all()\n",
    "ESS=pd.DataFrame(records, columns=header)"
   ]
  },
  {
   "cell_type": "code",
   "execution_count": 4,
   "metadata": {
    "collapsed": false
   },
   "outputs": [
    {
     "data": {
      "text/html": [
       "<div>\n",
       "<table border=\"1\" class=\"dataframe\">\n",
       "  <thead>\n",
       "    <tr style=\"text-align: right;\">\n",
       "      <th></th>\n",
       "      <th>name</th>\n",
       "      <th>essround</th>\n",
       "      <th>edition</th>\n",
       "      <th>proddate</th>\n",
       "      <th>idno</th>\n",
       "      <th>cntry</th>\n",
       "      <th>tvtot</th>\n",
       "      <th>tvpol</th>\n",
       "      <th>ppltrst</th>\n",
       "      <th>pplfair</th>\n",
       "      <th>...</th>\n",
       "      <th>inwtm</th>\n",
       "      <th>spltadmf</th>\n",
       "      <th>supqad1</th>\n",
       "      <th>supqad2</th>\n",
       "      <th>supqdd</th>\n",
       "      <th>supqmm</th>\n",
       "      <th>supqyr</th>\n",
       "      <th>dweight</th>\n",
       "      <th>pspwght</th>\n",
       "      <th>pweight</th>\n",
       "    </tr>\n",
       "  </thead>\n",
       "  <tbody>\n",
       "    <tr>\n",
       "      <th>0</th>\n",
       "      <td>ESS7e02</td>\n",
       "      <td>7.0</td>\n",
       "      <td>2.0</td>\n",
       "      <td>26.05.2016</td>\n",
       "      <td>1.0</td>\n",
       "      <td>AT</td>\n",
       "      <td>4.0</td>\n",
       "      <td>1.0</td>\n",
       "      <td>7.0</td>\n",
       "      <td>7.0</td>\n",
       "      <td>...</td>\n",
       "      <td>49.0</td>\n",
       "      <td>1.0</td>\n",
       "      <td>6.0</td>\n",
       "      <td>1.0</td>\n",
       "      <td>24.0</td>\n",
       "      <td>3.0</td>\n",
       "      <td>2015.0</td>\n",
       "      <td>0.938075</td>\n",
       "      <td>1.027638</td>\n",
       "      <td>0.406019</td>\n",
       "    </tr>\n",
       "    <tr>\n",
       "      <th>1</th>\n",
       "      <td>ESS7e02</td>\n",
       "      <td>7.0</td>\n",
       "      <td>2.0</td>\n",
       "      <td>26.05.2016</td>\n",
       "      <td>2.0</td>\n",
       "      <td>AT</td>\n",
       "      <td>7.0</td>\n",
       "      <td>3.0</td>\n",
       "      <td>5.0</td>\n",
       "      <td>5.0</td>\n",
       "      <td>...</td>\n",
       "      <td>67.0</td>\n",
       "      <td>1.0</td>\n",
       "      <td>6.0</td>\n",
       "      <td>1.0</td>\n",
       "      <td>26.0</td>\n",
       "      <td>3.0</td>\n",
       "      <td>2015.0</td>\n",
       "      <td>0.938075</td>\n",
       "      <td>1.017542</td>\n",
       "      <td>0.406019</td>\n",
       "    </tr>\n",
       "    <tr>\n",
       "      <th>2</th>\n",
       "      <td>ESS7e02</td>\n",
       "      <td>7.0</td>\n",
       "      <td>2.0</td>\n",
       "      <td>26.05.2016</td>\n",
       "      <td>3.0</td>\n",
       "      <td>AT</td>\n",
       "      <td>6.0</td>\n",
       "      <td>2.0</td>\n",
       "      <td>6.0</td>\n",
       "      <td>8.0</td>\n",
       "      <td>...</td>\n",
       "      <td>58.0</td>\n",
       "      <td>2.0</td>\n",
       "      <td>6.0</td>\n",
       "      <td>1.0</td>\n",
       "      <td>26.0</td>\n",
       "      <td>3.0</td>\n",
       "      <td>2015.0</td>\n",
       "      <td>0.938075</td>\n",
       "      <td>1.631601</td>\n",
       "      <td>0.406019</td>\n",
       "    </tr>\n",
       "    <tr>\n",
       "      <th>3</th>\n",
       "      <td>ESS7e02</td>\n",
       "      <td>7.0</td>\n",
       "      <td>2.0</td>\n",
       "      <td>26.05.2016</td>\n",
       "      <td>4.0</td>\n",
       "      <td>AT</td>\n",
       "      <td>3.0</td>\n",
       "      <td>1.0</td>\n",
       "      <td>5.0</td>\n",
       "      <td>3.0</td>\n",
       "      <td>...</td>\n",
       "      <td>43.0</td>\n",
       "      <td>1.0</td>\n",
       "      <td>6.0</td>\n",
       "      <td>1.0</td>\n",
       "      <td>24.0</td>\n",
       "      <td>3.0</td>\n",
       "      <td>2015.0</td>\n",
       "      <td>0.938075</td>\n",
       "      <td>1.333318</td>\n",
       "      <td>0.406019</td>\n",
       "    </tr>\n",
       "    <tr>\n",
       "      <th>4</th>\n",
       "      <td>ESS7e02</td>\n",
       "      <td>7.0</td>\n",
       "      <td>2.0</td>\n",
       "      <td>26.05.2016</td>\n",
       "      <td>5.0</td>\n",
       "      <td>AT</td>\n",
       "      <td>2.0</td>\n",
       "      <td>2.0</td>\n",
       "      <td>3.0</td>\n",
       "      <td>7.0</td>\n",
       "      <td>...</td>\n",
       "      <td>54.0</td>\n",
       "      <td>2.0</td>\n",
       "      <td>6.0</td>\n",
       "      <td>1.0</td>\n",
       "      <td>24.0</td>\n",
       "      <td>3.0</td>\n",
       "      <td>2015.0</td>\n",
       "      <td>0.938075</td>\n",
       "      <td>0.638633</td>\n",
       "      <td>0.406019</td>\n",
       "    </tr>\n",
       "  </tbody>\n",
       "</table>\n",
       "<p>5 rows × 601 columns</p>\n",
       "</div>"
      ],
      "text/plain": [
       "      name  essround edition    proddate  idno cntry  tvtot  tvpol  ppltrst  \\\n",
       "0  ESS7e02       7.0     2.0  26.05.2016   1.0    AT    4.0    1.0      7.0   \n",
       "1  ESS7e02       7.0     2.0  26.05.2016   2.0    AT    7.0    3.0      5.0   \n",
       "2  ESS7e02       7.0     2.0  26.05.2016   3.0    AT    6.0    2.0      6.0   \n",
       "3  ESS7e02       7.0     2.0  26.05.2016   4.0    AT    3.0    1.0      5.0   \n",
       "4  ESS7e02       7.0     2.0  26.05.2016   5.0    AT    2.0    2.0      3.0   \n",
       "\n",
       "   pplfair    ...     inwtm  spltadmf  supqad1  supqad2  supqdd  supqmm  \\\n",
       "0      7.0    ...      49.0       1.0      6.0      1.0    24.0     3.0   \n",
       "1      5.0    ...      67.0       1.0      6.0      1.0    26.0     3.0   \n",
       "2      8.0    ...      58.0       2.0      6.0      1.0    26.0     3.0   \n",
       "3      3.0    ...      43.0       1.0      6.0      1.0    24.0     3.0   \n",
       "4      7.0    ...      54.0       2.0      6.0      1.0    24.0     3.0   \n",
       "\n",
       "   supqyr   dweight   pspwght   pweight  \n",
       "0  2015.0  0.938075  1.027638  0.406019  \n",
       "1  2015.0  0.938075  1.017542  0.406019  \n",
       "2  2015.0  0.938075  1.631601  0.406019  \n",
       "3  2015.0  0.938075  1.333318  0.406019  \n",
       "4  2015.0  0.938075  0.638633  0.406019  \n",
       "\n",
       "[5 rows x 601 columns]"
      ]
     },
     "execution_count": 4,
     "metadata": {},
     "output_type": "execute_result"
    }
   ],
   "source": [
    "ESS.head()"
   ]
  },
  {
   "cell_type": "markdown",
   "metadata": {},
   "source": [
    "### Principal Component Analysis\n",
    "\n",
    "We will use the questions about political activity and trust.\n",
    "PCA is used to decompose a multivariate dataset in a set of successive orthogonal components that explain a maximum amount of the variance. In scikit-learn, PCA is implemented as a transformer object that learns `n` components in its fit method, and can be used on new data to project it on these components.\n"
   ]
  },
  {
   "cell_type": "code",
   "execution_count": 5,
   "metadata": {
    "collapsed": true
   },
   "outputs": [],
   "source": [
    "pol_activity_vars=['psppsgv','actrolg','psppipl','cptppol', 'ptcpplt','etapapl']"
   ]
  },
  {
   "cell_type": "code",
   "execution_count": 6,
   "metadata": {
    "collapsed": false
   },
   "outputs": [],
   "source": [
    "pol_trust_vars=['trstplc','trstep' ,'trstlgl','trstplt', 'trstprt', 'trstun']"
   ]
  },
  {
   "cell_type": "code",
   "execution_count": 7,
   "metadata": {
    "collapsed": true
   },
   "outputs": [],
   "source": [
    "needed=['psppsgv','actrolg','psppipl','cptppol', 'ptcpplt','etapapl', 'psppsgv','actrolg','psppipl','cptppol', 'ptcpplt','etapapl']"
   ]
  },
  {
   "cell_type": "code",
   "execution_count": 8,
   "metadata": {
    "collapsed": false
   },
   "outputs": [],
   "source": [
    "data=ESS[needed]"
   ]
  },
  {
   "cell_type": "code",
   "execution_count": 9,
   "metadata": {
    "collapsed": false,
    "scrolled": true
   },
   "outputs": [
    {
     "data": {
      "text/html": [
       "<div>\n",
       "<table border=\"1\" class=\"dataframe\">\n",
       "  <thead>\n",
       "    <tr style=\"text-align: right;\">\n",
       "      <th></th>\n",
       "      <th>psppsgv</th>\n",
       "      <th>actrolg</th>\n",
       "      <th>psppipl</th>\n",
       "      <th>cptppol</th>\n",
       "      <th>ptcpplt</th>\n",
       "      <th>etapapl</th>\n",
       "      <th>psppsgv</th>\n",
       "      <th>actrolg</th>\n",
       "      <th>psppipl</th>\n",
       "      <th>cptppol</th>\n",
       "      <th>ptcpplt</th>\n",
       "      <th>etapapl</th>\n",
       "    </tr>\n",
       "  </thead>\n",
       "  <tbody>\n",
       "    <tr>\n",
       "      <th>0</th>\n",
       "      <td>0.0</td>\n",
       "      <td>4.0</td>\n",
       "      <td>2.0</td>\n",
       "      <td>7.0</td>\n",
       "      <td>2.0</td>\n",
       "      <td>6.0</td>\n",
       "      <td>0.0</td>\n",
       "      <td>4.0</td>\n",
       "      <td>2.0</td>\n",
       "      <td>7.0</td>\n",
       "      <td>2.0</td>\n",
       "      <td>6.0</td>\n",
       "    </tr>\n",
       "    <tr>\n",
       "      <th>1</th>\n",
       "      <td>5.0</td>\n",
       "      <td>5.0</td>\n",
       "      <td>1.0</td>\n",
       "      <td>5.0</td>\n",
       "      <td>3.0</td>\n",
       "      <td>3.0</td>\n",
       "      <td>5.0</td>\n",
       "      <td>5.0</td>\n",
       "      <td>1.0</td>\n",
       "      <td>5.0</td>\n",
       "      <td>3.0</td>\n",
       "      <td>3.0</td>\n",
       "    </tr>\n",
       "    <tr>\n",
       "      <th>2</th>\n",
       "      <td>3.0</td>\n",
       "      <td>0.0</td>\n",
       "      <td>0.0</td>\n",
       "      <td>6.0</td>\n",
       "      <td>2.0</td>\n",
       "      <td>0.0</td>\n",
       "      <td>3.0</td>\n",
       "      <td>0.0</td>\n",
       "      <td>0.0</td>\n",
       "      <td>6.0</td>\n",
       "      <td>2.0</td>\n",
       "      <td>0.0</td>\n",
       "    </tr>\n",
       "    <tr>\n",
       "      <th>3</th>\n",
       "      <td>3.0</td>\n",
       "      <td>7.0</td>\n",
       "      <td>4.0</td>\n",
       "      <td>5.0</td>\n",
       "      <td>1.0</td>\n",
       "      <td>3.0</td>\n",
       "      <td>3.0</td>\n",
       "      <td>7.0</td>\n",
       "      <td>4.0</td>\n",
       "      <td>5.0</td>\n",
       "      <td>1.0</td>\n",
       "      <td>3.0</td>\n",
       "    </tr>\n",
       "    <tr>\n",
       "      <th>4</th>\n",
       "      <td>0.0</td>\n",
       "      <td>0.0</td>\n",
       "      <td>0.0</td>\n",
       "      <td>0.0</td>\n",
       "      <td>4.0</td>\n",
       "      <td>8.0</td>\n",
       "      <td>0.0</td>\n",
       "      <td>0.0</td>\n",
       "      <td>0.0</td>\n",
       "      <td>0.0</td>\n",
       "      <td>4.0</td>\n",
       "      <td>8.0</td>\n",
       "    </tr>\n",
       "  </tbody>\n",
       "</table>\n",
       "</div>"
      ],
      "text/plain": [
       "   psppsgv  actrolg  psppipl  cptppol  ptcpplt  etapapl  psppsgv  actrolg  \\\n",
       "0      0.0      4.0      2.0      7.0      2.0      6.0      0.0      4.0   \n",
       "1      5.0      5.0      1.0      5.0      3.0      3.0      5.0      5.0   \n",
       "2      3.0      0.0      0.0      6.0      2.0      0.0      3.0      0.0   \n",
       "3      3.0      7.0      4.0      5.0      1.0      3.0      3.0      7.0   \n",
       "4      0.0      0.0      0.0      0.0      4.0      8.0      0.0      0.0   \n",
       "\n",
       "   psppipl  cptppol  ptcpplt  etapapl  \n",
       "0      2.0      7.0      2.0      6.0  \n",
       "1      1.0      5.0      3.0      3.0  \n",
       "2      0.0      6.0      2.0      0.0  \n",
       "3      4.0      5.0      1.0      3.0  \n",
       "4      0.0      0.0      4.0      8.0  "
      ]
     },
     "execution_count": 9,
     "metadata": {},
     "output_type": "execute_result"
    }
   ],
   "source": [
    "data.head()"
   ]
  },
  {
   "cell_type": "code",
   "execution_count": 10,
   "metadata": {
    "collapsed": true
   },
   "outputs": [],
   "source": [
    "import numpy as np\n",
    "from sklearn.decomposition import PCA\n",
    "import pandas as pd\n",
    "import matplotlib.pyplot as plt\n",
    "from sklearn.preprocessing import scale\n",
    "%matplotlib inline"
   ]
  },
  {
   "cell_type": "code",
   "execution_count": 11,
   "metadata": {
    "collapsed": false,
    "scrolled": true
   },
   "outputs": [
    {
     "data": {
      "image/png": "[encoded data removed]",
      "text/plain": [
       "<matplotlib.figure.Figure at 0x7fb469bbff10>"
      ]
     },
     "metadata": {},
     "output_type": "display_data"
    }
   ],
   "source": [
    "#convert it to numpy arrays\n",
    "X=data.values\n",
    "\n",
    "#Scaling the values\n",
    "X = scale(X)\n",
    "\n",
    "pca = PCA(n_components=10)\n",
    "\n",
    "pca.fit(X)\n",
    "\n",
    "#The amount of variance that each PC explains\n",
    "var= pca.explained_variance_ratio_\n",
    "\n",
    "#Cumulative Variance explains\n",
    "var1=np.cumsum(np.round(pca.explained_variance_ratio_, decimals=4))\n",
    "plt.plot(var1, linestyle='--',color='r', label='Cumulative Variance explains')\n",
    "plt.bar(np.arange(len(var)),var, width=0.6, alpha=0.7,\n",
    "                 color='b',\n",
    "                 label='Explained Variance by PCs')\n",
    "\n",
    "plt.xlabel('Principal Components')\n",
    "plt.ylabel('Explained Variance')\n",
    "plt.title('Explained Variance Ratios by PCs')\n",
    "plt.legend(loc='center left', bbox_to_anchor=(1, 0.5))\n",
    "plt.xticks( np.arange(len(var)) + 0.3, ['PC %d' %i for i in range(1,len(var))])\n",
    "#plt.xticks(var + bar_width, ('A', 'B', 'C', 'D', 'E')\n",
    "\n",
    "plt.tight_layout()\n",
    "plt.show()"
   ]
  },
  {
   "cell_type": "code",
   "execution_count": 12,
   "metadata": {
    "collapsed": false
   },
   "outputs": [
    {
     "data": {
      "text/plain": [
       "[44.151751708626371,\n",
       " 14.927806942523771,\n",
       " 12.587341646769584,\n",
       " 11.035632437681645,\n",
       " 8.8536539246312014,\n",
       " 8.4438133397674413,\n",
       " 1.1489930647364321e-30,\n",
       " 8.8579272635208113e-31,\n",
       " 3.7242901128995979e-31,\n",
       " 1.9175113548491294e-31]"
      ]
     },
     "execution_count": 12,
     "metadata": {},
     "output_type": "execute_result"
    }
   ],
   "source": [
    "[(i*100) for i in pca.explained_variance_ratio_]"
   ]
  },
  {
   "cell_type": "markdown",
   "metadata": {},
   "source": [
    "So the firs PC explain 44% the secon 15% abt the third 13%. Let's keep only the first one."
   ]
  },
  {
   "cell_type": "code",
   "execution_count": 13,
   "metadata": {
    "collapsed": false
   },
   "outputs": [],
   "source": [
    "pca = PCA(n_components=1)\n",
    "ESS['PCA1']=pca.fit_transform(X)"
   ]
  },
  {
   "cell_type": "code",
   "execution_count": 14,
   "metadata": {
    "collapsed": false
   },
   "outputs": [
    {
     "data": {
      "text/plain": [
       "40185"
      ]
     },
     "execution_count": 14,
     "metadata": {},
     "output_type": "execute_result"
    }
   ],
   "source": [
    "len(ESS.PCA1)"
   ]
  },
  {
   "cell_type": "markdown",
   "metadata": {},
   "source": [
    "## Logistic Regression\n",
    "\n",
    "To run `logistic regressions` these two libaries are the most popualr ones:\n",
    "\n",
    "  - statsmodels similarly to linear regressions\n",
    "  - sckit-learn logistic regression module, which is better for machine learning problems\n",
    "        \n",
    "For a non-learning model, we will use the statsmodels one, becaouse its output is much easier to understand"
   ]
  },
  {
   "cell_type": "code",
   "execution_count": 15,
   "metadata": {
    "collapsed": true
   },
   "outputs": [],
   "source": [
    "import statsmodels.api as sm"
   ]
  },
  {
   "cell_type": "code",
   "execution_count": 16,
   "metadata": {
    "collapsed": false
   },
   "outputs": [],
   "source": [
    "#Let's create our depdendent dummy variable: if the respondent voted at the last elections 1, else 0.\n",
    "ESS['voted'] = np.where(ESS['vote']==1.0, 1.0, 0.0)"
   ]
  },
  {
   "cell_type": "code",
   "execution_count": 17,
   "metadata": {
    "collapsed": false
   },
   "outputs": [
    {
     "data": {
      "text/plain": [
       "count    40185.000000\n",
       "mean         0.693468\n",
       "std          0.461059\n",
       "min          0.000000\n",
       "25%          0.000000\n",
       "50%          1.000000\n",
       "75%          1.000000\n",
       "max          1.000000\n",
       "Name: voted, dtype: float64"
      ]
     },
     "execution_count": 17,
     "metadata": {},
     "output_type": "execute_result"
    }
   ],
   "source": [
    "ESS.voted.describe()"
   ]
  },
  {
   "cell_type": "code",
   "execution_count": 18,
   "metadata": {
    "collapsed": false
   },
   "outputs": [],
   "source": [
    "needed=['PCA1','gndr','agea', 'eisced','regunit', 'voted']"
   ]
  },
  {
   "cell_type": "code",
   "execution_count": 19,
   "metadata": {
    "collapsed": false
   },
   "outputs": [],
   "source": [
    "data2=ESS[needed]"
   ]
  },
  {
   "cell_type": "code",
   "execution_count": 20,
   "metadata": {
    "collapsed": false
   },
   "outputs": [
    {
     "data": {
      "text/html": [
       "<div>\n",
       "<table border=\"1\" class=\"dataframe\">\n",
       "  <thead>\n",
       "    <tr style=\"text-align: right;\">\n",
       "      <th></th>\n",
       "      <th>PCA1</th>\n",
       "      <th>gndr</th>\n",
       "      <th>agea</th>\n",
       "      <th>eisced</th>\n",
       "      <th>regunit</th>\n",
       "      <th>voted</th>\n",
       "    </tr>\n",
       "  </thead>\n",
       "  <tbody>\n",
       "    <tr>\n",
       "      <th>0</th>\n",
       "      <td>-0.514061</td>\n",
       "      <td>1.0</td>\n",
       "      <td>51.0</td>\n",
       "      <td>3.0</td>\n",
       "      <td>2.0</td>\n",
       "      <td>1.0</td>\n",
       "    </tr>\n",
       "    <tr>\n",
       "      <th>1</th>\n",
       "      <td>-0.442968</td>\n",
       "      <td>1.0</td>\n",
       "      <td>67.0</td>\n",
       "      <td>1.0</td>\n",
       "      <td>2.0</td>\n",
       "      <td>1.0</td>\n",
       "    </tr>\n",
       "    <tr>\n",
       "      <th>2</th>\n",
       "      <td>-0.938466</td>\n",
       "      <td>2.0</td>\n",
       "      <td>89.0</td>\n",
       "      <td>1.0</td>\n",
       "      <td>2.0</td>\n",
       "      <td>1.0</td>\n",
       "    </tr>\n",
       "    <tr>\n",
       "      <th>3</th>\n",
       "      <td>-0.381271</td>\n",
       "      <td>1.0</td>\n",
       "      <td>32.0</td>\n",
       "      <td>3.0</td>\n",
       "      <td>2.0</td>\n",
       "      <td>1.0</td>\n",
       "    </tr>\n",
       "    <tr>\n",
       "      <th>4</th>\n",
       "      <td>-1.022879</td>\n",
       "      <td>2.0</td>\n",
       "      <td>56.0</td>\n",
       "      <td>3.0</td>\n",
       "      <td>2.0</td>\n",
       "      <td>1.0</td>\n",
       "    </tr>\n",
       "  </tbody>\n",
       "</table>\n",
       "</div>"
      ],
      "text/plain": [
       "       PCA1  gndr  agea  eisced  regunit  voted\n",
       "0 -0.514061   1.0  51.0     3.0      2.0    1.0\n",
       "1 -0.442968   1.0  67.0     1.0      2.0    1.0\n",
       "2 -0.938466   2.0  89.0     1.0      2.0    1.0\n",
       "3 -0.381271   1.0  32.0     3.0      2.0    1.0\n",
       "4 -1.022879   2.0  56.0     3.0      2.0    1.0"
      ]
     },
     "execution_count": 20,
     "metadata": {},
     "output_type": "execute_result"
    }
   ],
   "source": [
    "data2.head()"
   ]
  },
  {
   "cell_type": "code",
   "execution_count": 21,
   "metadata": {
    "collapsed": false
   },
   "outputs": [
    {
     "data": {
      "text/html": [
       "<div>\n",
       "<table border=\"1\" class=\"dataframe\">\n",
       "  <thead>\n",
       "    <tr style=\"text-align: right;\">\n",
       "      <th></th>\n",
       "      <th>PCA1</th>\n",
       "      <th>gndr</th>\n",
       "      <th>agea</th>\n",
       "      <th>eisced</th>\n",
       "      <th>regunit</th>\n",
       "      <th>voted</th>\n",
       "    </tr>\n",
       "  </thead>\n",
       "  <tbody>\n",
       "    <tr>\n",
       "      <th>count</th>\n",
       "      <td>4.018500e+04</td>\n",
       "      <td>40185.000000</td>\n",
       "      <td>40185.000000</td>\n",
       "      <td>40185.000000</td>\n",
       "      <td>40185.000000</td>\n",
       "      <td>40185.000000</td>\n",
       "    </tr>\n",
       "    <tr>\n",
       "      <th>mean</th>\n",
       "      <td>-3.575838e-16</td>\n",
       "      <td>1.534229</td>\n",
       "      <td>51.621849</td>\n",
       "      <td>4.332786</td>\n",
       "      <td>2.384571</td>\n",
       "      <td>0.693468</td>\n",
       "    </tr>\n",
       "    <tr>\n",
       "      <th>std</th>\n",
       "      <td>2.301813e+00</td>\n",
       "      <td>0.528671</td>\n",
       "      <td>50.665639</td>\n",
       "      <td>5.870035</td>\n",
       "      <td>0.792736</td>\n",
       "      <td>0.461059</td>\n",
       "    </tr>\n",
       "    <tr>\n",
       "      <th>min</th>\n",
       "      <td>-1.489654e+00</td>\n",
       "      <td>1.000000</td>\n",
       "      <td>14.000000</td>\n",
       "      <td>1.000000</td>\n",
       "      <td>1.000000</td>\n",
       "      <td>0.000000</td>\n",
       "    </tr>\n",
       "    <tr>\n",
       "      <th>25%</th>\n",
       "      <td>-8.995940e-01</td>\n",
       "      <td>1.000000</td>\n",
       "      <td>34.000000</td>\n",
       "      <td>2.000000</td>\n",
       "      <td>2.000000</td>\n",
       "      <td>0.000000</td>\n",
       "    </tr>\n",
       "    <tr>\n",
       "      <th>50%</th>\n",
       "      <td>-4.311193e-01</td>\n",
       "      <td>2.000000</td>\n",
       "      <td>50.000000</td>\n",
       "      <td>4.000000</td>\n",
       "      <td>2.000000</td>\n",
       "      <td>1.000000</td>\n",
       "    </tr>\n",
       "    <tr>\n",
       "      <th>75%</th>\n",
       "      <td>6.038304e-02</td>\n",
       "      <td>2.000000</td>\n",
       "      <td>64.000000</td>\n",
       "      <td>5.000000</td>\n",
       "      <td>3.000000</td>\n",
       "      <td>1.000000</td>\n",
       "    </tr>\n",
       "    <tr>\n",
       "      <th>max</th>\n",
       "      <td>2.641415e+01</td>\n",
       "      <td>9.000000</td>\n",
       "      <td>999.000000</td>\n",
       "      <td>99.000000</td>\n",
       "      <td>4.000000</td>\n",
       "      <td>1.000000</td>\n",
       "    </tr>\n",
       "  </tbody>\n",
       "</table>\n",
       "</div>"
      ],
      "text/plain": [
       "               PCA1          gndr          agea        eisced       regunit  \\\n",
       "count  4.018500e+04  40185.000000  40185.000000  40185.000000  40185.000000   \n",
       "mean  -3.575838e-16      1.534229     51.621849      4.332786      2.384571   \n",
       "std    2.301813e+00      0.528671     50.665639      5.870035      0.792736   \n",
       "min   -1.489654e+00      1.000000     14.000000      1.000000      1.000000   \n",
       "25%   -8.995940e-01      1.000000     34.000000      2.000000      2.000000   \n",
       "50%   -4.311193e-01      2.000000     50.000000      4.000000      2.000000   \n",
       "75%    6.038304e-02      2.000000     64.000000      5.000000      3.000000   \n",
       "max    2.641415e+01      9.000000    999.000000     99.000000      4.000000   \n",
       "\n",
       "              voted  \n",
       "count  40185.000000  \n",
       "mean       0.693468  \n",
       "std        0.461059  \n",
       "min        0.000000  \n",
       "25%        0.000000  \n",
       "50%        1.000000  \n",
       "75%        1.000000  \n",
       "max        1.000000  "
      ]
     },
     "execution_count": 21,
     "metadata": {},
     "output_type": "execute_result"
    }
   ],
   "source": [
    "data2.describe()"
   ]
  },
  {
   "cell_type": "markdown",
   "metadata": {},
   "source": [
    "#### EXERCISE -Recode Na values (9,999,9999) from the databse into nans."
   ]
  },
  {
   "cell_type": "code",
   "execution_count": 22,
   "metadata": {
    "collapsed": false
   },
   "outputs": [
    {
     "name": "stderr",
     "output_type": "stream",
     "text": [
      "/home/orsi/anaconda2/lib/python2.7/site-packages/ipykernel/__main__.py:1: SettingWithCopyWarning: \n",
      "A value is trying to be set on a copy of a slice from a DataFrame.\n",
      "Try using .loc[row_indexer,col_indexer] = value instead\n",
      "\n",
      "See the caveats in the documentation: http://pandas.pydata.org/pandas-docs/stable/indexing.html#indexing-view-versus-copy\n",
      "  if __name__ == '__main__':\n",
      "/home/orsi/anaconda2/lib/python2.7/site-packages/ipykernel/__main__.py:2: SettingWithCopyWarning: \n",
      "A value is trying to be set on a copy of a slice from a DataFrame.\n",
      "Try using .loc[row_indexer,col_indexer] = value instead\n",
      "\n",
      "See the caveats in the documentation: http://pandas.pydata.org/pandas-docs/stable/indexing.html#indexing-view-versus-copy\n",
      "  from ipykernel import kernelapp as app\n",
      "/home/orsi/anaconda2/lib/python2.7/site-packages/ipykernel/__main__.py:3: SettingWithCopyWarning: \n",
      "A value is trying to be set on a copy of a slice from a DataFrame.\n",
      "Try using .loc[row_indexer,col_indexer] = value instead\n",
      "\n",
      "See the caveats in the documentation: http://pandas.pydata.org/pandas-docs/stable/indexing.html#indexing-view-versus-copy\n",
      "  app.launch_new_instance()\n"
     ]
    }
   ],
   "source": [
    "data2['gndr']=np.where(data2['gndr']==9.0, np.nan, data2['gndr'])\n",
    "data2['agea']=np.where(data2['agea']==999.0, np.nan, data2['agea'])\n",
    "data2['eisced']=np.where(data2['eisced']>=8.0, np.nan, data2['eisced'])"
   ]
  },
  {
   "cell_type": "code",
   "execution_count": 23,
   "metadata": {
    "collapsed": false
   },
   "outputs": [
    {
     "name": "stderr",
     "output_type": "stream",
     "text": [
      "/home/orsi/anaconda2/lib/python2.7/site-packages/numpy/lib/function_base.py:3834: RuntimeWarning: Invalid value encountered in percentile\n",
      "  RuntimeWarning)\n"
     ]
    },
    {
     "data": {
      "text/html": [
       "<div>\n",
       "<table border=\"1\" class=\"dataframe\">\n",
       "  <thead>\n",
       "    <tr style=\"text-align: right;\">\n",
       "      <th></th>\n",
       "      <th>PCA1</th>\n",
       "      <th>gndr</th>\n",
       "      <th>agea</th>\n",
       "      <th>eisced</th>\n",
       "      <th>regunit</th>\n",
       "      <th>voted</th>\n",
       "    </tr>\n",
       "  </thead>\n",
       "  <tbody>\n",
       "    <tr>\n",
       "      <th>count</th>\n",
       "      <td>4.018500e+04</td>\n",
       "      <td>40163.000000</td>\n",
       "      <td>40086.000000</td>\n",
       "      <td>39919.000000</td>\n",
       "      <td>40185.000000</td>\n",
       "      <td>40185.000000</td>\n",
       "    </tr>\n",
       "    <tr>\n",
       "      <th>mean</th>\n",
       "      <td>-3.575838e-16</td>\n",
       "      <td>1.530140</td>\n",
       "      <td>49.282118</td>\n",
       "      <td>3.889902</td>\n",
       "      <td>2.384571</td>\n",
       "      <td>0.693468</td>\n",
       "    </tr>\n",
       "    <tr>\n",
       "      <th>std</th>\n",
       "      <td>2.301813e+00</td>\n",
       "      <td>0.499097</td>\n",
       "      <td>18.740531</td>\n",
       "      <td>1.847424</td>\n",
       "      <td>0.792736</td>\n",
       "      <td>0.461059</td>\n",
       "    </tr>\n",
       "    <tr>\n",
       "      <th>min</th>\n",
       "      <td>-1.489654e+00</td>\n",
       "      <td>1.000000</td>\n",
       "      <td>14.000000</td>\n",
       "      <td>1.000000</td>\n",
       "      <td>1.000000</td>\n",
       "      <td>0.000000</td>\n",
       "    </tr>\n",
       "    <tr>\n",
       "      <th>25%</th>\n",
       "      <td>-8.995940e-01</td>\n",
       "      <td>NaN</td>\n",
       "      <td>NaN</td>\n",
       "      <td>NaN</td>\n",
       "      <td>2.000000</td>\n",
       "      <td>0.000000</td>\n",
       "    </tr>\n",
       "    <tr>\n",
       "      <th>50%</th>\n",
       "      <td>-4.311193e-01</td>\n",
       "      <td>NaN</td>\n",
       "      <td>NaN</td>\n",
       "      <td>NaN</td>\n",
       "      <td>2.000000</td>\n",
       "      <td>1.000000</td>\n",
       "    </tr>\n",
       "    <tr>\n",
       "      <th>75%</th>\n",
       "      <td>6.038304e-02</td>\n",
       "      <td>NaN</td>\n",
       "      <td>NaN</td>\n",
       "      <td>NaN</td>\n",
       "      <td>3.000000</td>\n",
       "      <td>1.000000</td>\n",
       "    </tr>\n",
       "    <tr>\n",
       "      <th>max</th>\n",
       "      <td>2.641415e+01</td>\n",
       "      <td>2.000000</td>\n",
       "      <td>114.000000</td>\n",
       "      <td>7.000000</td>\n",
       "      <td>4.000000</td>\n",
       "      <td>1.000000</td>\n",
       "    </tr>\n",
       "  </tbody>\n",
       "</table>\n",
       "</div>"
      ],
      "text/plain": [
       "               PCA1          gndr          agea        eisced       regunit  \\\n",
       "count  4.018500e+04  40163.000000  40086.000000  39919.000000  40185.000000   \n",
       "mean  -3.575838e-16      1.530140     49.282118      3.889902      2.384571   \n",
       "std    2.301813e+00      0.499097     18.740531      1.847424      0.792736   \n",
       "min   -1.489654e+00      1.000000     14.000000      1.000000      1.000000   \n",
       "25%   -8.995940e-01           NaN           NaN           NaN      2.000000   \n",
       "50%   -4.311193e-01           NaN           NaN           NaN      2.000000   \n",
       "75%    6.038304e-02           NaN           NaN           NaN      3.000000   \n",
       "max    2.641415e+01      2.000000    114.000000      7.000000      4.000000   \n",
       "\n",
       "              voted  \n",
       "count  40185.000000  \n",
       "mean       0.693468  \n",
       "std        0.461059  \n",
       "min        0.000000  \n",
       "25%        0.000000  \n",
       "50%        1.000000  \n",
       "75%        1.000000  \n",
       "max        1.000000  "
      ]
     },
     "execution_count": 23,
     "metadata": {},
     "output_type": "execute_result"
    }
   ],
   "source": [
    "data2.describe()"
   ]
  },
  {
   "cell_type": "code",
   "execution_count": 24,
   "metadata": {
    "collapsed": false
   },
   "outputs": [
    {
     "data": {
      "text/plain": [
       "2.0    16675\n",
       "3.0    15639\n",
       "1.0     5309\n",
       "4.0     2562\n",
       "Name: regunit, dtype: int64"
      ]
     },
     "execution_count": 24,
     "metadata": {},
     "output_type": "execute_result"
    }
   ],
   "source": [
    "data2.regunit.value_counts()"
   ]
  },
  {
   "cell_type": "code",
   "execution_count": 25,
   "metadata": {
    "collapsed": false
   },
   "outputs": [
    {
     "name": "stdout",
     "output_type": "stream",
     "text": [
      "voted       0.0       1.0      All\n",
      "gndr                              \n",
      "1.0    0.142469  0.327391  0.46986\n",
      "2.0    0.163882  0.366258  0.53014\n",
      "All    0.306352  0.693648  1.00000\n"
     ]
    }
   ],
   "source": [
    "print pd.crosstab(data2['gndr'], data2['voted'], margins=True, normalize=True)"
   ]
  },
  {
   "cell_type": "code",
   "execution_count": 26,
   "metadata": {
    "collapsed": false
   },
   "outputs": [
    {
     "name": "stdout",
     "output_type": "stream",
     "text": [
      "   eisced_1.0  eisced_2.0  eisced_3.0  eisced_4.0  eisced_5.0  eisced_6.0  \\\n",
      "0         0.0         0.0         1.0         0.0         0.0         0.0   \n",
      "1         1.0         0.0         0.0         0.0         0.0         0.0   \n",
      "2         1.0         0.0         0.0         0.0         0.0         0.0   \n",
      "3         0.0         0.0         1.0         0.0         0.0         0.0   \n",
      "4         0.0         0.0         1.0         0.0         0.0         0.0   \n",
      "\n",
      "   eisced_7.0  \n",
      "0         0.0  \n",
      "1         0.0  \n",
      "2         0.0  \n",
      "3         0.0  \n",
      "4         0.0  \n"
     ]
    }
   ],
   "source": [
    "dummy_eisced = pd.get_dummies(data2['eisced'], prefix='eisced')\n",
    "print dummy_eisced.head()"
   ]
  },
  {
   "cell_type": "code",
   "execution_count": 27,
   "metadata": {
    "collapsed": true
   },
   "outputs": [],
   "source": [
    "dummy_regunit = pd.get_dummies(data2['regunit'], prefix='regunit')"
   ]
  },
  {
   "cell_type": "code",
   "execution_count": 28,
   "metadata": {
    "collapsed": false
   },
   "outputs": [],
   "source": [
    "dummies=dummy_regunit.join(dummy_eisced)"
   ]
  },
  {
   "cell_type": "code",
   "execution_count": 29,
   "metadata": {
    "collapsed": false
   },
   "outputs": [
    {
     "name": "stderr",
     "output_type": "stream",
     "text": [
      "/home/orsi/anaconda2/lib/python2.7/site-packages/ipykernel/__main__.py:1: SettingWithCopyWarning: \n",
      "A value is trying to be set on a copy of a slice from a DataFrame.\n",
      "Try using .loc[row_indexer,col_indexer] = value instead\n",
      "\n",
      "See the caveats in the documentation: http://pandas.pydata.org/pandas-docs/stable/indexing.html#indexing-view-versus-copy\n",
      "  if __name__ == '__main__':\n"
     ]
    }
   ],
   "source": [
    "data2['gender']=np.where(data2['gndr']==1.0, 0.0, 1.0)"
   ]
  },
  {
   "cell_type": "code",
   "execution_count": 30,
   "metadata": {
    "collapsed": false
   },
   "outputs": [
    {
     "data": {
      "text/html": [
       "<div>\n",
       "<table border=\"1\" class=\"dataframe\">\n",
       "  <thead>\n",
       "    <tr style=\"text-align: right;\">\n",
       "      <th></th>\n",
       "      <th>PCA1</th>\n",
       "      <th>gndr</th>\n",
       "      <th>agea</th>\n",
       "      <th>eisced</th>\n",
       "      <th>regunit</th>\n",
       "      <th>voted</th>\n",
       "      <th>gender</th>\n",
       "    </tr>\n",
       "  </thead>\n",
       "  <tbody>\n",
       "    <tr>\n",
       "      <th>0</th>\n",
       "      <td>-0.514061</td>\n",
       "      <td>1.0</td>\n",
       "      <td>51.0</td>\n",
       "      <td>3.0</td>\n",
       "      <td>2.0</td>\n",
       "      <td>1.0</td>\n",
       "      <td>0.0</td>\n",
       "    </tr>\n",
       "    <tr>\n",
       "      <th>1</th>\n",
       "      <td>-0.442968</td>\n",
       "      <td>1.0</td>\n",
       "      <td>67.0</td>\n",
       "      <td>1.0</td>\n",
       "      <td>2.0</td>\n",
       "      <td>1.0</td>\n",
       "      <td>0.0</td>\n",
       "    </tr>\n",
       "    <tr>\n",
       "      <th>2</th>\n",
       "      <td>-0.938466</td>\n",
       "      <td>2.0</td>\n",
       "      <td>89.0</td>\n",
       "      <td>1.0</td>\n",
       "      <td>2.0</td>\n",
       "      <td>1.0</td>\n",
       "      <td>1.0</td>\n",
       "    </tr>\n",
       "    <tr>\n",
       "      <th>3</th>\n",
       "      <td>-0.381271</td>\n",
       "      <td>1.0</td>\n",
       "      <td>32.0</td>\n",
       "      <td>3.0</td>\n",
       "      <td>2.0</td>\n",
       "      <td>1.0</td>\n",
       "      <td>0.0</td>\n",
       "    </tr>\n",
       "    <tr>\n",
       "      <th>4</th>\n",
       "      <td>-1.022879</td>\n",
       "      <td>2.0</td>\n",
       "      <td>56.0</td>\n",
       "      <td>3.0</td>\n",
       "      <td>2.0</td>\n",
       "      <td>1.0</td>\n",
       "      <td>1.0</td>\n",
       "    </tr>\n",
       "  </tbody>\n",
       "</table>\n",
       "</div>"
      ],
      "text/plain": [
       "       PCA1  gndr  agea  eisced  regunit  voted  gender\n",
       "0 -0.514061   1.0  51.0     3.0      2.0    1.0     0.0\n",
       "1 -0.442968   1.0  67.0     1.0      2.0    1.0     0.0\n",
       "2 -0.938466   2.0  89.0     1.0      2.0    1.0     1.0\n",
       "3 -0.381271   1.0  32.0     3.0      2.0    1.0     0.0\n",
       "4 -1.022879   2.0  56.0     3.0      2.0    1.0     1.0"
      ]
     },
     "execution_count": 30,
     "metadata": {},
     "output_type": "execute_result"
    }
   ],
   "source": [
    "data2.head()"
   ]
  },
  {
   "cell_type": "code",
   "execution_count": 31,
   "metadata": {
    "collapsed": true
   },
   "outputs": [],
   "source": [
    "cols_to_keep=['PCA1','agea','voted','gender']"
   ]
  },
  {
   "cell_type": "code",
   "execution_count": 32,
   "metadata": {
    "collapsed": false
   },
   "outputs": [],
   "source": [
    "regr_data=data2[cols_to_keep].join(dummies)"
   ]
  },
  {
   "cell_type": "code",
   "execution_count": 33,
   "metadata": {
    "collapsed": true
   },
   "outputs": [],
   "source": [
    "regr_data['intercept'] = 1.0"
   ]
  },
  {
   "cell_type": "code",
   "execution_count": 34,
   "metadata": {
    "collapsed": false
   },
   "outputs": [],
   "source": [
    "dep_variables=[u'PCA1', u'agea', u'gender', u'regunit_1.0', u'regunit_2.0',\n",
    "       u'regunit_3.0', u'regunit_4.0', u'eisced_1.0', u'eisced_2.0',\n",
    "       u'eisced_3.0', u'eisced_4.0', u'eisced_5.0', u'eisced_6.0',\n",
    "       u'eisced_7.0', 'intercept']"
   ]
  },
  {
   "cell_type": "code",
   "execution_count": 35,
   "metadata": {
    "collapsed": false
   },
   "outputs": [
    {
     "name": "stdout",
     "output_type": "stream",
     "text": [
      "Optimization terminated successfully.\n",
      "         Current function value: 0.543782\n",
      "         Iterations 6\n"
     ]
    }
   ],
   "source": [
    "import statsmodels.api as sm\n",
    "train_cols = dep_variables\n",
    "# Index([u'PCA1', u'gndr', u'agea', u'eisced', u'regunit'], dtype='object')\n",
    "\n",
    "logit = sm.Logit(regr_data['voted'], regr_data[train_cols], missing='drop')\n",
    "\n",
    "# fit the model\n",
    "result = logit.fit()"
   ]
  },
  {
   "cell_type": "code",
   "execution_count": 36,
   "metadata": {
    "collapsed": false,
    "scrolled": true
   },
   "outputs": [
    {
     "name": "stdout",
     "output_type": "stream",
     "text": [
      "                           Logit Regression Results                           \n",
      "==============================================================================\n",
      "Dep. Variable:                  voted   No. Observations:                40086\n",
      "Model:                          Logit   Df Residuals:                    40072\n",
      "Method:                           MLE   Df Model:                           13\n",
      "Date:                Thu, 25 Aug 2016   Pseudo R-squ.:                  0.1174\n",
      "Time:                        09:39:00   Log-Likelihood:                -21798.\n",
      "converged:                       True   LL-Null:                       -24696.\n",
      "                                        LLR p-value:                     0.000\n",
      "===============================================================================\n",
      "                  coef    std err          z      P>|z|      [95.0% Conf. Int.]\n",
      "-------------------------------------------------------------------------------\n",
      "PCA1           -0.0433      0.005     -8.741      0.000        -0.053    -0.034\n",
      "agea            0.0396      0.001     56.622      0.000         0.038     0.041\n",
      "gender         -0.1169      0.024     -4.958      0.000        -0.163    -0.071\n",
      "regunit_1.0    -0.3784   1.23e+06  -3.07e-07      1.000     -2.42e+06  2.42e+06\n",
      "regunit_2.0    -0.3564   1.23e+06  -2.89e-07      1.000     -2.42e+06  2.42e+06\n",
      "regunit_3.0    -0.7181   1.23e+06  -5.82e-07      1.000     -2.42e+06  2.42e+06\n",
      "regunit_4.0     0.3601   1.23e+06   2.92e-07      1.000     -2.42e+06  2.42e+06\n",
      "eisced_1.0     -0.2024      0.144     -1.405      0.160        -0.485     0.080\n",
      "eisced_2.0     -0.0915      0.142     -0.645      0.519        -0.369     0.186\n",
      "eisced_3.0      0.4945      0.142      3.489      0.000         0.217     0.772\n",
      "eisced_4.0      0.6181      0.142      4.359      0.000         0.340     0.896\n",
      "eisced_5.0      0.9493      0.143      6.648      0.000         0.669     1.229\n",
      "eisced_6.0      1.3993      0.145      9.668      0.000         1.116     1.683\n",
      "eisced_7.0      1.3492      0.145      9.329      0.000         1.066     1.633\n",
      "intercept      -1.0928   1.23e+06  -8.86e-07      1.000     -2.42e+06  2.42e+06\n",
      "===============================================================================\n"
     ]
    }
   ],
   "source": [
    "print result.summary()"
   ]
  },
  {
   "cell_type": "code",
   "execution_count": 37,
   "metadata": {
    "collapsed": false
   },
   "outputs": [
    {
     "name": "stdout",
     "output_type": "stream",
     "text": [
      "                        0             1\n",
      "PCA1        -5.299023e-02 -3.357857e-02\n",
      "agea         3.821631e-02  4.095690e-02\n",
      "gender      -1.631190e-01 -7.068829e-02\n",
      "regunit_1.0 -2.417108e+06  2.417108e+06\n",
      "regunit_2.0 -2.417108e+06  2.417108e+06\n",
      "regunit_3.0 -2.417109e+06  2.417107e+06\n",
      "regunit_4.0 -2.417108e+06  2.417108e+06\n",
      "eisced_1.0  -4.847241e-01  7.993690e-02\n",
      "eisced_2.0  -3.694236e-01  1.864731e-01\n",
      "eisced_3.0   2.166722e-01  7.722515e-01\n",
      "eisced_4.0   3.401366e-01  8.959903e-01\n",
      "eisced_5.0   6.693991e-01  1.229170e+00\n",
      "eisced_6.0   1.115598e+00  1.682912e+00\n",
      "eisced_7.0   1.065761e+00  1.632672e+00\n",
      "intercept   -2.417109e+06  2.417107e+06\n"
     ]
    }
   ],
   "source": [
    "print result.conf_int()"
   ]
  },
  {
   "cell_type": "markdown",
   "metadata": {},
   "source": [
    "older, more educated women vote with higher probability"
   ]
  },
  {
   "cell_type": "code",
   "execution_count": 38,
   "metadata": {
    "collapsed": false,
    "scrolled": true
   },
   "outputs": [
    {
     "name": "stdout",
     "output_type": "stream",
     "text": [
      "PCA1           0.957639\n",
      "agea           1.040381\n",
      "gender         0.889671\n",
      "regunit_1.0    0.684981\n",
      "regunit_2.0    0.700173\n",
      "regunit_3.0    0.487692\n",
      "regunit_4.0    1.433468\n",
      "eisced_1.0     0.816773\n",
      "eisced_2.0     0.912584\n",
      "eisced_3.0     1.639616\n",
      "eisced_4.0     1.855332\n",
      "eisced_5.0     2.583860\n",
      "eisced_6.0     4.052181\n",
      "eisced_7.0     3.854405\n",
      "intercept      0.335287\n",
      "dtype: float64\n"
     ]
    }
   ],
   "source": [
    "# odds ratios only\n",
    "print np.exp(result.params)"
   ]
  },
  {
   "cell_type": "code",
   "execution_count": 39,
   "metadata": {
    "collapsed": false
   },
   "outputs": [
    {
     "name": "stdout",
     "output_type": "stream",
     "text": [
      "                 2.5%     97.5%        OR\n",
      "PCA1         0.948389  0.966979  0.957639\n",
      "agea         1.038956  1.041807  1.040381\n",
      "gender       0.849490  0.931752  0.889671\n",
      "regunit_1.0  0.000000       inf  0.684981\n",
      "regunit_2.0  0.000000       inf  0.700173\n",
      "regunit_3.0  0.000000       inf  0.487692\n",
      "regunit_4.0  0.000000       inf  1.433468\n",
      "eisced_1.0   0.615867  1.083219  0.816773\n",
      "eisced_2.0   0.691133  1.204992  0.912584\n",
      "eisced_3.0   1.241937  2.164634  1.639616\n",
      "eisced_4.0   1.405139  2.449761  1.855332\n",
      "eisced_5.0   1.953063  3.418391  2.583860\n",
      "eisced_6.0   3.051393  5.381205  4.052181\n",
      "eisced_7.0   2.903047  5.117531  3.854405\n",
      "intercept    0.000000       inf  0.335287\n"
     ]
    }
   ],
   "source": [
    "# odds ratios and 95% CI\n",
    "params = result.params\n",
    "conf = result.conf_int()\n",
    "conf['OR'] = params\n",
    "conf.columns = ['2.5%', '97.5%', 'OR']\n",
    "print np.exp(conf)"
   ]
  },
  {
   "cell_type": "markdown",
   "metadata": {},
   "source": [
    "More sources about Logistic Regression \n",
    "* [Explanantion with stata outputs](http://www.ats.ucla.edu/stat/stata/library/sg124.pdf) \n",
    "* [A python example](http://blog.yhat.com/posts/logistic-regression-and-python.html) \n",
    "* [How to explain logistic regression results to non-statistical audience](http://www.theanalysisfactor.com/explaining-logistic-regression/)"
   ]
  },
  {
   "cell_type": "markdown",
   "metadata": {},
   "source": [
    "### What is Machine Learning?\n",
    "\n",
    "\"Machine learning is a subfield of computer science that evolved from the study of pattern recognition and computational learning theory in artificial intelligence. In 1959, Arthur Samuel defined machine learning as a \"**Field of study that gives computers the ability to learn without being explicitly programmed**\".Machine learning explores the study and construction of algorithms that can learn from and make predictions on data. Such algorithms operate by building a model from example inputs in order to make data-driven predictions or decisions, rather than following strictly static program instructions.\" Source: [Wikipedia](https://en.wikipedia.org/wiki/Machine_learning)\n",
    "\n",
    "\n",
    "More sources: \n",
    "\n",
    "- [python-machine-learning-book on github](https://github.com/rasbt/python-machine-learning-book)\n",
    "- [Learning scikit-learn: Machine Learning in Python](https://www.amazon.com/dp/1783281936?tag=inspiredalgor-20) \n",
    "- [Statistics, Data Mining, and Machine Learning in Astronomy: A Practical Python Guide for the Analysis of Survey Data](https://www.amazon.com/dp/0691151687?tag=inspiredalgor-20)\n",
    "- [Recent course on Coursera](https://www.coursera.org/learn/machine-learning)"
   ]
  },
  {
   "cell_type": "markdown",
   "metadata": {},
   "source": [
    "### Decision Tree\n",
    "\n",
    "[Decision Trees (DTs)](http://scikit-learn.org/stable/modules/tree.html) are a non-parametric supervised learning method used for classification and regression. The goal is to create a model that predicts the value of a target variable by learning simple decision rules inferred from the data features."
   ]
  },
  {
   "cell_type": "code",
   "execution_count": 40,
   "metadata": {
    "collapsed": true
   },
   "outputs": [],
   "source": [
    "from sklearn.tree import DecisionTreeClassifier, export_graphviz\n",
    "from sklearn import cross_validation"
   ]
  },
  {
   "cell_type": "markdown",
   "metadata": {},
   "source": [
    "We will use the same dataset as for the logistic regression to se ehow the Decision Tree Classifier works.\n",
    "Our dependent variable is 'voted' the independentss all the rest."
   ]
  },
  {
   "cell_type": "code",
   "execution_count": 42,
   "metadata": {
    "collapsed": false
   },
   "outputs": [
    {
     "data": {
      "text/html": [
       "<div>\n",
       "<table border=\"1\" class=\"dataframe\">\n",
       "  <thead>\n",
       "    <tr style=\"text-align: right;\">\n",
       "      <th></th>\n",
       "      <th>PCA1</th>\n",
       "      <th>gndr</th>\n",
       "      <th>agea</th>\n",
       "      <th>eisced</th>\n",
       "      <th>regunit</th>\n",
       "      <th>voted</th>\n",
       "      <th>gender</th>\n",
       "    </tr>\n",
       "  </thead>\n",
       "  <tbody>\n",
       "    <tr>\n",
       "      <th>count</th>\n",
       "      <td>4.018500e+04</td>\n",
       "      <td>40163.000000</td>\n",
       "      <td>40086.000000</td>\n",
       "      <td>39919.000000</td>\n",
       "      <td>40185.000000</td>\n",
       "      <td>40185.000000</td>\n",
       "      <td>40185.000000</td>\n",
       "    </tr>\n",
       "    <tr>\n",
       "      <th>mean</th>\n",
       "      <td>-3.575838e-16</td>\n",
       "      <td>1.530140</td>\n",
       "      <td>49.282118</td>\n",
       "      <td>3.889902</td>\n",
       "      <td>2.384571</td>\n",
       "      <td>0.693468</td>\n",
       "      <td>0.530397</td>\n",
       "    </tr>\n",
       "    <tr>\n",
       "      <th>std</th>\n",
       "      <td>2.301813e+00</td>\n",
       "      <td>0.499097</td>\n",
       "      <td>18.740531</td>\n",
       "      <td>1.847424</td>\n",
       "      <td>0.792736</td>\n",
       "      <td>0.461059</td>\n",
       "      <td>0.499081</td>\n",
       "    </tr>\n",
       "    <tr>\n",
       "      <th>min</th>\n",
       "      <td>-1.489654e+00</td>\n",
       "      <td>1.000000</td>\n",
       "      <td>14.000000</td>\n",
       "      <td>1.000000</td>\n",
       "      <td>1.000000</td>\n",
       "      <td>0.000000</td>\n",
       "      <td>0.000000</td>\n",
       "    </tr>\n",
       "    <tr>\n",
       "      <th>25%</th>\n",
       "      <td>-8.995940e-01</td>\n",
       "      <td>NaN</td>\n",
       "      <td>NaN</td>\n",
       "      <td>NaN</td>\n",
       "      <td>2.000000</td>\n",
       "      <td>0.000000</td>\n",
       "      <td>0.000000</td>\n",
       "    </tr>\n",
       "    <tr>\n",
       "      <th>50%</th>\n",
       "      <td>-4.311193e-01</td>\n",
       "      <td>NaN</td>\n",
       "      <td>NaN</td>\n",
       "      <td>NaN</td>\n",
       "      <td>2.000000</td>\n",
       "      <td>1.000000</td>\n",
       "      <td>1.000000</td>\n",
       "    </tr>\n",
       "    <tr>\n",
       "      <th>75%</th>\n",
       "      <td>6.038304e-02</td>\n",
       "      <td>NaN</td>\n",
       "      <td>NaN</td>\n",
       "      <td>NaN</td>\n",
       "      <td>3.000000</td>\n",
       "      <td>1.000000</td>\n",
       "      <td>1.000000</td>\n",
       "    </tr>\n",
       "    <tr>\n",
       "      <th>max</th>\n",
       "      <td>2.641415e+01</td>\n",
       "      <td>2.000000</td>\n",
       "      <td>114.000000</td>\n",
       "      <td>7.000000</td>\n",
       "      <td>4.000000</td>\n",
       "      <td>1.000000</td>\n",
       "      <td>1.000000</td>\n",
       "    </tr>\n",
       "  </tbody>\n",
       "</table>\n",
       "</div>"
      ],
      "text/plain": [
       "               PCA1          gndr          agea        eisced       regunit  \\\n",
       "count  4.018500e+04  40163.000000  40086.000000  39919.000000  40185.000000   \n",
       "mean  -3.575838e-16      1.530140     49.282118      3.889902      2.384571   \n",
       "std    2.301813e+00      0.499097     18.740531      1.847424      0.792736   \n",
       "min   -1.489654e+00      1.000000     14.000000      1.000000      1.000000   \n",
       "25%   -8.995940e-01           NaN           NaN           NaN      2.000000   \n",
       "50%   -4.311193e-01           NaN           NaN           NaN      2.000000   \n",
       "75%    6.038304e-02           NaN           NaN           NaN      3.000000   \n",
       "max    2.641415e+01      2.000000    114.000000      7.000000      4.000000   \n",
       "\n",
       "              voted        gender  \n",
       "count  40185.000000  40185.000000  \n",
       "mean       0.693468      0.530397  \n",
       "std        0.461059      0.499081  \n",
       "min        0.000000      0.000000  \n",
       "25%        0.000000      0.000000  \n",
       "50%        1.000000      1.000000  \n",
       "75%        1.000000      1.000000  \n",
       "max        1.000000      1.000000  "
      ]
     },
     "execution_count": 42,
     "metadata": {},
     "output_type": "execute_result"
    }
   ],
   "source": [
    "data2.describe()"
   ]
  },
  {
   "cell_type": "code",
   "execution_count": 46,
   "metadata": {
    "collapsed": true
   },
   "outputs": [],
   "source": [
    "TreeData=data2.dropna()"
   ]
  },
  {
   "cell_type": "code",
   "execution_count": 47,
   "metadata": {
    "collapsed": false
   },
   "outputs": [
    {
     "data": {
      "text/html": [
       "<div>\n",
       "<table border=\"1\" class=\"dataframe\">\n",
       "  <thead>\n",
       "    <tr style=\"text-align: right;\">\n",
       "      <th></th>\n",
       "      <th>PCA1</th>\n",
       "      <th>gndr</th>\n",
       "      <th>agea</th>\n",
       "      <th>eisced</th>\n",
       "      <th>regunit</th>\n",
       "      <th>voted</th>\n",
       "      <th>gender</th>\n",
       "    </tr>\n",
       "  </thead>\n",
       "  <tbody>\n",
       "    <tr>\n",
       "      <th>count</th>\n",
       "      <td>39811.000000</td>\n",
       "      <td>39811.000000</td>\n",
       "      <td>39811.000000</td>\n",
       "      <td>39811.000000</td>\n",
       "      <td>39811.000000</td>\n",
       "      <td>39811.000000</td>\n",
       "      <td>39811.000000</td>\n",
       "    </tr>\n",
       "    <tr>\n",
       "      <th>mean</th>\n",
       "      <td>-0.007113</td>\n",
       "      <td>1.529929</td>\n",
       "      <td>49.270327</td>\n",
       "      <td>3.890658</td>\n",
       "      <td>2.384743</td>\n",
       "      <td>0.694707</td>\n",
       "      <td>0.529929</td>\n",
       "    </tr>\n",
       "    <tr>\n",
       "      <th>std</th>\n",
       "      <td>2.280054</td>\n",
       "      <td>0.499110</td>\n",
       "      <td>18.717280</td>\n",
       "      <td>1.847006</td>\n",
       "      <td>0.790039</td>\n",
       "      <td>0.460537</td>\n",
       "      <td>0.499110</td>\n",
       "    </tr>\n",
       "    <tr>\n",
       "      <th>min</th>\n",
       "      <td>-1.489654</td>\n",
       "      <td>1.000000</td>\n",
       "      <td>14.000000</td>\n",
       "      <td>1.000000</td>\n",
       "      <td>1.000000</td>\n",
       "      <td>0.000000</td>\n",
       "      <td>0.000000</td>\n",
       "    </tr>\n",
       "    <tr>\n",
       "      <th>25%</th>\n",
       "      <td>-0.899028</td>\n",
       "      <td>1.000000</td>\n",
       "      <td>34.000000</td>\n",
       "      <td>2.000000</td>\n",
       "      <td>2.000000</td>\n",
       "      <td>0.000000</td>\n",
       "      <td>0.000000</td>\n",
       "    </tr>\n",
       "    <tr>\n",
       "      <th>50%</th>\n",
       "      <td>-0.430881</td>\n",
       "      <td>2.000000</td>\n",
       "      <td>49.000000</td>\n",
       "      <td>4.000000</td>\n",
       "      <td>2.000000</td>\n",
       "      <td>1.000000</td>\n",
       "      <td>1.000000</td>\n",
       "    </tr>\n",
       "    <tr>\n",
       "      <th>75%</th>\n",
       "      <td>0.059680</td>\n",
       "      <td>2.000000</td>\n",
       "      <td>64.000000</td>\n",
       "      <td>5.000000</td>\n",
       "      <td>3.000000</td>\n",
       "      <td>1.000000</td>\n",
       "      <td>1.000000</td>\n",
       "    </tr>\n",
       "    <tr>\n",
       "      <th>max</th>\n",
       "      <td>26.414152</td>\n",
       "      <td>2.000000</td>\n",
       "      <td>114.000000</td>\n",
       "      <td>7.000000</td>\n",
       "      <td>4.000000</td>\n",
       "      <td>1.000000</td>\n",
       "      <td>1.000000</td>\n",
       "    </tr>\n",
       "  </tbody>\n",
       "</table>\n",
       "</div>"
      ],
      "text/plain": [
       "               PCA1          gndr          agea        eisced       regunit  \\\n",
       "count  39811.000000  39811.000000  39811.000000  39811.000000  39811.000000   \n",
       "mean      -0.007113      1.529929     49.270327      3.890658      2.384743   \n",
       "std        2.280054      0.499110     18.717280      1.847006      0.790039   \n",
       "min       -1.489654      1.000000     14.000000      1.000000      1.000000   \n",
       "25%       -0.899028      1.000000     34.000000      2.000000      2.000000   \n",
       "50%       -0.430881      2.000000     49.000000      4.000000      2.000000   \n",
       "75%        0.059680      2.000000     64.000000      5.000000      3.000000   \n",
       "max       26.414152      2.000000    114.000000      7.000000      4.000000   \n",
       "\n",
       "              voted        gender  \n",
       "count  39811.000000  39811.000000  \n",
       "mean       0.694707      0.529929  \n",
       "std        0.460537      0.499110  \n",
       "min        0.000000      0.000000  \n",
       "25%        0.000000      0.000000  \n",
       "50%        1.000000      1.000000  \n",
       "75%        1.000000      1.000000  \n",
       "max        1.000000      1.000000  "
      ]
     },
     "execution_count": 47,
     "metadata": {},
     "output_type": "execute_result"
    }
   ],
   "source": [
    "TreeData.describe()"
   ]
  },
  {
   "cell_type": "code",
   "execution_count": 88,
   "metadata": {
    "collapsed": true
   },
   "outputs": [],
   "source": [
    "#dependent\n",
    "y = TreeData['voted']\n",
    "#independent\n",
    "X =TreeData[['gndr', 'agea', 'eisced', 'regunit']]"
   ]
  },
  {
   "cell_type": "markdown",
   "metadata": {},
   "source": [
    "DecisionTreeClassifier is capable of both binary (where the labels are [-1, 1]) classification and multiclass (where the labels are [0, ..., K-1]) classification."
   ]
  },
  {
   "cell_type": "code",
   "execution_count": 89,
   "metadata": {
    "collapsed": false
   },
   "outputs": [
    {
     "name": "stdout",
     "output_type": "stream",
     "text": [
      "Accuracy:\n",
      "0.764462083344\n"
     ]
    }
   ],
   "source": [
    "dt = DecisionTreeClassifier(min_samples_split=2)\n",
    "dt.fit(X, y)\n",
    "print ('Accuracy:')\n",
    "print (dt.score(X, y))"
   ]
  },
  {
   "cell_type": "markdown",
   "metadata": {},
   "source": [
    "### [Cross-Validation](http://scikit-learn.org/stable/modules/cross_validation.html)\n",
    "\n",
    "We did not say how deep the tree can go down, that is why the accuracy is really high and we did no cross-validation. **Learning the parameters of a prediction function and testing it on the same data is a methodological mistake**: a model that would just repeat the labels of the samples that it has just seen would have a perfect score but would fail to predict anything useful on yet-unseen data. This situation is called **overfitting**. To avoid it, it is common practice when *performing a (supervised) machine learning experiment* to hold out part of the available data as a test set X_test, y_test. Note that the word “experiment” is not intended to denote academic use only, because even in commercial settings machine learning usually starts out experimentally.\n",
    "\n",
    "When evaluating different settings (“hyperparameters”) for estimators, there is still a risk of overfitting on the test set because the parameters can be tweaked until the estimator performs optimally. This way, knowledge about the test set can “leak” into the model and evaluation metrics no longer report on generalization performance. To solve this problem, yet another part of the dataset can be held out as a so-called “validation set”: training proceeds on the training set, after which evaluation is done on the validation set, and when the experiment seems to be successful, final evaluation can be done on the test set.\n",
    "\n",
    "However, by partitioning the available data into three sets, we drastically reduce the number of samples which can be used for learning the model, and the results can depend on a particular random choice for the pair of (train, validation) sets.\n",
    "\n",
    "A test set should still be held out for final evaluation, but the validation set is no longer needed when doing CV. In the basic approach, called k-fold CV, the training set is split into k smaller sets (other approaches are described below, but generally follow the same principles). The following procedure is followed for each of the k “folds”:\n",
    "\n",
    "* A model is trained using k-1 of the folds as training data;\n",
    "* the resulting model is validated on the remaining part of the data (i.e., it is used as a test set to compute a performance measure such as accuracy).\n",
    "\n",
    "The performance measure reported by `k-fold cross-validation` is then the average of the values computed in the loop. This approach can be computationally expensive, but does not waste too much data (as it is the case when fixing an arbitrary test set), which is a major advantage in problem such as inverse inference where the number of samples is very small.\n"
   ]
  },
  {
   "cell_type": "code",
   "execution_count": 90,
   "metadata": {
    "collapsed": true
   },
   "outputs": [],
   "source": [
    "#Basically we split our dataset into test and train\n",
    "X_train, X_test, y_train, y_test = cross_validation.train_test_split(X, y, test_size=0.7)"
   ]
  },
  {
   "cell_type": "code",
   "execution_count": 91,
   "metadata": {
    "collapsed": false
   },
   "outputs": [
    {
     "data": {
      "text/plain": [
       "((11943, 4), (11943,))"
      ]
     },
     "execution_count": 91,
     "metadata": {},
     "output_type": "execute_result"
    }
   ],
   "source": [
    "X_train.shape, y_train.shape"
   ]
  },
  {
   "cell_type": "code",
   "execution_count": 92,
   "metadata": {
    "collapsed": false
   },
   "outputs": [
    {
     "data": {
      "text/plain": [
       "((27868, 4), (27868,))"
      ]
     },
     "execution_count": 92,
     "metadata": {},
     "output_type": "execute_result"
    }
   ],
   "source": [
    "X_test.shape, y_test.shape"
   ]
  },
  {
   "cell_type": "code",
   "execution_count": 93,
   "metadata": {
    "collapsed": false
   },
   "outputs": [
    {
     "data": {
      "text/plain": [
       "DecisionTreeClassifier(class_weight=None, criterion='gini', max_depth=3,\n",
       "            max_features=None, max_leaf_nodes=None, min_samples_leaf=1,\n",
       "            min_samples_split=2, min_weight_fraction_leaf=0.0,\n",
       "            presort=False, random_state=None, splitter='best')"
      ]
     },
     "execution_count": 93,
     "metadata": {},
     "output_type": "execute_result"
    }
   ],
   "source": [
    "#Now we let only 3 depth and fit on the training sets\n",
    "clf = DecisionTreeClassifier(min_samples_split=2, max_depth=3)\n",
    "clf.fit(X_train, y_train)"
   ]
  },
  {
   "cell_type": "code",
   "execution_count": 94,
   "metadata": {
    "collapsed": false
   },
   "outputs": [
    {
     "name": "stdout",
     "output_type": "stream",
     "text": [
      "Accuracy_test:\n",
      "0.741782689823\n",
      "Accuracy_train:\n",
      "0.745206397053\n"
     ]
    }
   ],
   "source": [
    "print ('Accuracy_test:') \n",
    "print (clf.score(X_test, y_test))\n",
    "print ('Accuracy_train:')\n",
    "print (clf.score(X_train, y_train))"
   ]
  },
  {
   "cell_type": "code",
   "execution_count": 95,
   "metadata": {
    "collapsed": false
   },
   "outputs": [
    {
     "name": "stdout",
     "output_type": "stream",
     "text": [
      "[ 0.71747865  0.73932697  0.7496233   0.74811652  0.7500628   0.72720422\n",
      "  0.7535795   0.74497487  0.75150754  0.73643216]\n"
     ]
    }
   ],
   "source": [
    "scores = cross_validation.cross_val_score(clf, X, y, cv=10)\n",
    "print (scores)"
   ]
  },
  {
   "cell_type": "code",
   "execution_count": 82,
   "metadata": {
    "collapsed": false
   },
   "outputs": [
    {
     "name": "stdout",
     "output_type": "stream",
     "text": [
      "Accuracy: 0.74 (+/- 0.02)\n"
     ]
    }
   ],
   "source": [
    "print(\"Accuracy: %0.2f (+/- %0.2f)\" % (scores.mean(), scores.std() * 2))"
   ]
  },
  {
   "cell_type": "markdown",
   "metadata": {},
   "source": [
    "### Visualize the Tree\n",
    "\n",
    "In order to viualize the tree you need an other program called [Graphiz](http://www.graphviz.org/)"
   ]
  },
  {
   "cell_type": "code",
   "execution_count": 96,
   "metadata": {
    "collapsed": true
   },
   "outputs": [],
   "source": [
    "from __future__ import print_function\n",
    "\n",
    "import os\n",
    "import subprocess\n",
    "\n",
    "import pandas as pd\n",
    "import numpy as np\n",
    "from sklearn.tree import DecisionTreeClassifier, export_graphviz"
   ]
  },
  {
   "cell_type": "code",
   "execution_count": 84,
   "metadata": {
    "collapsed": true
   },
   "outputs": [],
   "source": [
    "def visualize_tree(tree, feature_names):\n",
    "    with open(\"dt.dot\", 'w') as f:\n",
    "        export_graphviz(tree, out_file=f,\n",
    "                        feature_names=feature_names)\n",
    "\n",
    "    command = [\"dot\", \"-Tpng\", \"dt.dot\", \"-o\", \"dt.png\"]\n",
    "    try:\n",
    "        subprocess.check_call(command)\n",
    "    except:\n",
    "        exit"
   ]
  },
  {
   "cell_type": "code",
   "execution_count": 97,
   "metadata": {
    "collapsed": true
   },
   "outputs": [],
   "source": [
    "feature_names=['gndr', 'agea', 'eisced', 'regunit']"
   ]
  },
  {
   "cell_type": "code",
   "execution_count": 99,
   "metadata": {
    "collapsed": false
   },
   "outputs": [],
   "source": [
    "visualize_tree(clf, feature_names)"
   ]
  },
  {
   "cell_type": "code",
   "execution_count": 100,
   "metadata": {
    "collapsed": false
   },
   "outputs": [
    {
     "data": {
      "image/png": "[encoded data removed]",
      "text/plain": [
       "<IPython.core.display.Image object>"
      ]
     },
     "execution_count": 100,
     "metadata": {},
     "output_type": "execute_result"
    }
   ],
   "source": [
    "from IPython.display import Image\n",
    "Image(filename='dt.png')"
   ]
  },
  {
   "cell_type": "markdown",
   "metadata": {},
   "source": [
    "## Homework\n",
    "\n",
    "- Please, read the [NetworkX Documentation](http://networkx.readthedocs.io/en/networkx-1.11/tutorial/)\n",
    "- Try to install the [community extension for networkx](http://perso.crans.org/aynaud/communities/) (not trivial, you should do it through the command line using the bitbucket source file)\n",
    "- Write a half page long description about your final project and send me until tomorrow 3 pm"
   ]
  }
 ],
 "metadata": {
  "kernelspec": {
   "display_name": "Python [Root]",
   "language": "python",
   "name": "Python [Root]"
  },
  "language_info": {
   "codemirror_mode": {
    "name": "ipython",
    "version": 2
   },
   "file_extension": ".py",
   "mimetype": "text/x-python",
   "name": "python",
   "nbconvert_exporter": "python",
   "pygments_lexer": "ipython2",
   "version": "2.7.12"
  }
 },
 "nbformat": 4,
 "nbformat_minor": 0
}
