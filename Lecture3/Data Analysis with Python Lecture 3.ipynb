{
 "cells": [
  {
   "cell_type": "markdown",
   "metadata": {},
   "source": [
    "# Stalk on yourself!\n",
    "- #### Today we refresh our knowledge about dictionaries\n",
    "- #### Learn how to read and write files \n",
    "- #### And we will parse your Facebook Timeline and visualize it!"
   ]
  },
  {
   "cell_type": "markdown",
   "metadata": {},
   "source": [
    "## DICTIONARIES - reminder\n",
    "\n",
    "* The best to think of a dictionary as an unordered set of `{key: value}` pairs, with the requirement that the keys are unique (within one dictionary).  \n",
    "* The syntax for dictionaries is `{key1 : value1, ...}`\n",
    "* Probably the most convinient data structure for social scientists (Think aaabout keys like variable names, and about values as the values of the variable)\n",
    "* Values can be any type of data (int, str, list, tuples even dictionaries)\n",
    "* Unlike sequences, which are indexed by a range of numbers, dictionaries are indexed by keys, which can be any immutable type; strings and numbers can always be keys. \n",
    "* Tuples can be used as keys if they contain only strings, numbers, or tuples; if a tuple contains any mutable object either directly or indirectly, it cannot be used as a key. \n",
    "* You can’t use lists as keys, since lists can be modified in place using index assignments, slice assignments, or methods like append() and extend()."
   ]
  },
  {
   "cell_type": "markdown",
   "metadata": {},
   "source": [
    "<img src=\"dictionary.png\" >"
   ]
  },
  {
   "cell_type": "code",
   "execution_count": 1,
   "metadata": {
    "collapsed": false
   },
   "outputs": [
    {
     "name": "stdout",
     "output_type": "stream",
     "text": [
      "<type 'dict'>\n",
      "{'bananas': 1, 'oranges': 2, 'apples': 3}\n"
     ]
    }
   ],
   "source": [
    "counts = {\"bananas\" : 1,\n",
    "          \"oranges\" : 2,\n",
    "          \"apples\" : 3,}\n",
    "\n",
    "print(type(counts))\n",
    "print(counts)"
   ]
  },
  {
   "cell_type": "code",
   "execution_count": 10,
   "metadata": {
    "collapsed": false
   },
   "outputs": [
    {
     "name": "stdout",
     "output_type": "stream",
     "text": [
      "1\n",
      "I don't know what a strawberry is\n"
     ]
    }
   ],
   "source": [
    "if 'bananas' in counts: print counts['bananas']\n",
    "if 'strawberries' in counts: print counts['strawberries']\n",
    "else: print \"I don\\'t know what a strawberry is\""
   ]
  },
  {
   "cell_type": "code",
   "execution_count": 13,
   "metadata": {
    "collapsed": false
   },
   "outputs": [
    {
     "data": {
      "text/plain": [
       "['bananas', 'oranges', 'apples']"
      ]
     },
     "execution_count": 13,
     "metadata": {},
     "output_type": "execute_result"
    }
   ],
   "source": [
    "counts.keys()"
   ]
  },
  {
   "cell_type": "code",
   "execution_count": 14,
   "metadata": {
    "collapsed": false
   },
   "outputs": [
    {
     "data": {
      "text/plain": [
       "[1, 2, 3]"
      ]
     },
     "execution_count": 14,
     "metadata": {},
     "output_type": "execute_result"
    }
   ],
   "source": [
    "counts.values()"
   ]
  },
  {
   "cell_type": "code",
   "execution_count": 15,
   "metadata": {
    "collapsed": false
   },
   "outputs": [
    {
     "name": "stdout",
     "output_type": "stream",
     "text": [
      "bananas 1\n",
      "oranges 2\n",
      "apples 3\n"
     ]
    }
   ],
   "source": [
    "#Iteration\n",
    "for key in counts: \n",
    "    print key, counts[key]"
   ]
  },
  {
   "cell_type": "code",
   "execution_count": 17,
   "metadata": {
    "collapsed": false
   },
   "outputs": [
    {
     "name": "stdout",
     "output_type": "stream",
     "text": [
      "1\n",
      "2\n",
      "3\n"
     ]
    }
   ],
   "source": [
    "for value in counts.values():\n",
    "    print value"
   ]
  },
  {
   "cell_type": "code",
   "execution_count": 22,
   "metadata": {
    "collapsed": false
   },
   "outputs": [
    {
     "name": "stdout",
     "output_type": "stream",
     "text": [
      "bananas 1\n",
      "oranges 2\n",
      "apples 3\n"
     ]
    }
   ],
   "source": [
    "# If you want both\n",
    "for key,value in counts.items():\n",
    "    print key,value"
   ]
  },
  {
   "cell_type": "code",
   "execution_count": 23,
   "metadata": {
    "collapsed": false
   },
   "outputs": [
    {
     "name": "stdout",
     "output_type": "stream",
     "text": [
      "1\n",
      "2\n",
      "3\n"
     ]
    }
   ],
   "source": [
    "for value in sorted(counts.values()):\n",
    "    print value"
   ]
  },
  {
   "cell_type": "markdown",
   "metadata": {},
   "source": [
    "## What kind of data types do we know so far? \n",
    "\n",
    "* str\n",
    "* int\n",
    "* float\n",
    "* list\n",
    "* tuple\n",
    "* dictionary\n",
    "\n",
    "Chossing the appropriate data type is a key in data analysis, especially during the cleaning/parsing part."
   ]
  },
  {
   "cell_type": "markdown",
   "metadata": {},
   "source": [
    "## READING AND WRITING FILES"
   ]
  },
  {
   "cell_type": "code",
   "execution_count": 25,
   "metadata": {
    "collapsed": false
   },
   "outputs": [
    {
     "name": "stdout",
     "output_type": "stream",
     "text": [
      "X\tY\r\n",
      "bananas\t3\r\n",
      "apples\t5\r\n",
      "orange\tnone\r\n"
     ]
    }
   ],
   "source": [
    "cat example.txt #cat shows what is in the file"
   ]
  },
  {
   "cell_type": "code",
   "execution_count": 26,
   "metadata": {
    "collapsed": false
   },
   "outputs": [
    {
     "name": "stdout",
     "output_type": "stream",
     "text": [
      "<open file 'example.txt', mode 'r' at 0x7f2ea4423660>\n"
     ]
    }
   ],
   "source": [
    "f = open('example.txt')\n",
    "print f"
   ]
  },
  {
   "cell_type": "code",
   "execution_count": 27,
   "metadata": {
    "collapsed": false
   },
   "outputs": [
    {
     "data": {
      "text/plain": [
       "'X\\tY\\nbananas\\t3\\napples\\t5\\norange\\tnone\\n'"
      ]
     },
     "execution_count": 27,
     "metadata": {},
     "output_type": "execute_result"
    }
   ],
   "source": [
    "f.read()"
   ]
  },
  {
   "cell_type": "code",
   "execution_count": 28,
   "metadata": {
    "collapsed": true
   },
   "outputs": [],
   "source": [
    "f.close()"
   ]
  },
  {
   "cell_type": "code",
   "execution_count": 33,
   "metadata": {
    "collapsed": false
   },
   "outputs": [
    {
     "data": {
      "text/plain": [
       "'X\\tY\\n'"
      ]
     },
     "execution_count": 33,
     "metadata": {},
     "output_type": "execute_result"
    }
   ],
   "source": [
    "f = open('example.txt')\n",
    "\"\"\"What do we see here?\"\"\"\n",
    "f.readline()"
   ]
  },
  {
   "cell_type": "code",
   "execution_count": 34,
   "metadata": {
    "collapsed": false
   },
   "outputs": [
    {
     "data": {
      "text/plain": [
       "'bananas\\t3\\n'"
      ]
     },
     "execution_count": 34,
     "metadata": {},
     "output_type": "execute_result"
    }
   ],
   "source": [
    "f.readline()"
   ]
  },
  {
   "cell_type": "code",
   "execution_count": 35,
   "metadata": {
    "collapsed": false
   },
   "outputs": [
    {
     "data": {
      "text/plain": [
       "'apples\\t5\\n'"
      ]
     },
     "execution_count": 35,
     "metadata": {},
     "output_type": "execute_result"
    }
   ],
   "source": [
    "f.readline()"
   ]
  },
  {
   "cell_type": "code",
   "execution_count": 36,
   "metadata": {
    "collapsed": true
   },
   "outputs": [],
   "source": [
    "f.close()"
   ]
  },
  {
   "cell_type": "markdown",
   "metadata": {},
   "source": [
    "To read a file we have to iterate through all lines., if we want to read it."
   ]
  },
  {
   "cell_type": "code",
   "execution_count": 37,
   "metadata": {
    "collapsed": false
   },
   "outputs": [
    {
     "name": "stdout",
     "output_type": "stream",
     "text": [
      "X\tY\n",
      "\n",
      "bananas\t3\n",
      "\n",
      "apples\t5\n",
      "\n",
      "orange\tnone\n",
      "\n"
     ]
    }
   ],
   "source": [
    "f = open('example.txt')\n",
    "for line in f: \n",
    "    print line\n",
    "f.close()"
   ]
  },
  {
   "cell_type": "code",
   "execution_count": 39,
   "metadata": {
    "collapsed": false
   },
   "outputs": [],
   "source": [
    "fout=open('writing.txt','w')\n",
    "fout.write('This is a test\\n')\n",
    "fout.close()"
   ]
  },
  {
   "cell_type": "code",
   "execution_count": 40,
   "metadata": {
    "collapsed": false
   },
   "outputs": [
    {
     "name": "stdout",
     "output_type": "stream",
     "text": [
      "This is a test\r\n"
     ]
    }
   ],
   "source": [
    "cat writing.txt"
   ]
  },
  {
   "cell_type": "code",
   "execution_count": 41,
   "metadata": {
    "collapsed": true
   },
   "outputs": [],
   "source": [
    "fout=open('another_writing.txt','w')\n",
    "fout.write('This is a list of numbers\\n')\n",
    "for i in range(10):\n",
    "    fout.write(str(i))\n",
    "fout.close()"
   ]
  },
  {
   "cell_type": "code",
   "execution_count": 42,
   "metadata": {
    "collapsed": false
   },
   "outputs": [
    {
     "name": "stdout",
     "output_type": "stream",
     "text": [
      "This is a list of numbers\r\n",
      "0123456789"
     ]
    }
   ],
   "source": [
    "cat another_writing.txt"
   ]
  },
  {
   "cell_type": "code",
   "execution_count": 43,
   "metadata": {
    "collapsed": true
   },
   "outputs": [],
   "source": [
    "# Do not forget to add \\n at the end of your lines\n",
    "fout=open('another_writing.txt','w')\n",
    "fout.write('This is a list of numbers\\n')\n",
    "for i in range(10):\n",
    "    fout.write(str(i)+'\\n')\n",
    "fout.close()"
   ]
  },
  {
   "cell_type": "code",
   "execution_count": 44,
   "metadata": {
    "collapsed": false
   },
   "outputs": [
    {
     "name": "stdout",
     "output_type": "stream",
     "text": [
      "This is a list of numbers\r\n",
      "0\r\n",
      "1\r\n",
      "2\r\n",
      "3\r\n",
      "4\r\n",
      "5\r\n",
      "6\r\n",
      "7\r\n",
      "8\r\n",
      "9\r\n"
     ]
    }
   ],
   "source": [
    "cat another_writing.txt"
   ]
  },
  {
   "cell_type": "markdown",
   "metadata": {},
   "source": [
    "## Great! We know the basics of dictionaries and how to read and write files! So let's work with real data."
   ]
  },
  {
   "cell_type": "markdown",
   "metadata": {},
   "source": [
    "We will parse our Timeline data from Facebook, and plot how we accumulated friends over the years. It has the following steps:\n",
    "0. Downloading your data from Facebook and unzip - DONE\n",
    "1. Copy your my_facebook data to the same folder where your current jupyter notebook is or move there thrugh bash scripts\n",
    "2. Choosing and reading the relevant file\n",
    "3. Parsing it with Beutiful Soup (You have read the docs, haven't you?)\n",
    "4. Creating a \"database\"\n",
    "5. Plotting the results\n",
    "\n",
    "Easy, right?"
   ]
  },
  {
   "cell_type": "code",
   "execution_count": 61,
   "metadata": {
    "collapsed": false
   },
   "outputs": [
    {
     "name": "stdout",
     "output_type": "stream",
     "text": [
      "/home/orsi/Documents/ELTE/course_materials/Lecture3/my_facebook/html\n"
     ]
    }
   ],
   "source": [
    "cd my_facebook/html"
   ]
  },
  {
   "cell_type": "code",
   "execution_count": 68,
   "metadata": {
    "collapsed": false
   },
   "outputs": [],
   "source": [
    "with open('timeline.htm', 'r') as timeline_file:\n",
    "    timeline_file = timeline_file.read()"
   ]
  },
  {
   "cell_type": "code",
   "execution_count": 69,
   "metadata": {
    "collapsed": false
   },
   "outputs": [
    {
     "data": {
      "text/plain": [
       "1128658"
      ]
     },
     "execution_count": 69,
     "metadata": {},
     "output_type": "execute_result"
    }
   ],
   "source": [
    "len(timeline_file)"
   ]
  },
  {
   "cell_type": "code",
   "execution_count": 70,
   "metadata": {
    "collapsed": false
   },
   "outputs": [
    {
     "data": {
      "text/plain": [
       "str"
      ]
     },
     "execution_count": 70,
     "metadata": {},
     "output_type": "execute_result"
    }
   ],
   "source": [
    "type(timeline_file)"
   ]
  },
  {
   "cell_type": "code",
   "execution_count": 74,
   "metadata": {
    "collapsed": false
   },
   "outputs": [],
   "source": [
    "from bs4 import BeautifulSoup, SoupStrainer, element\n",
    "soup=BeautifulSoup(timeline_file, \"lxml\")"
   ]
  },
  {
   "cell_type": "code",
   "execution_count": 76,
   "metadata": {
    "collapsed": false
   },
   "outputs": [
    {
     "data": {
      "text/plain": [
       "bs4.BeautifulSoup"
      ]
     },
     "execution_count": 76,
     "metadata": {},
     "output_type": "execute_result"
    }
   ],
   "source": [
    "type(soup)"
   ]
  },
  {
   "cell_type": "code",
   "execution_count": 250,
   "metadata": {
    "collapsed": false
   },
   "outputs": [
    {
     "name": "stdout",
     "output_type": "stream",
     "text": [
      "\n",
      "     Friday, July 8, 2016 at 1:12am UTC+02\n",
      "    </div>\n",
      "    Orsi Vasarhelyi feeling free with Dorottya Vásárhelyi at Dune du Pyla.\n",
      "    <div class=\"comment\">\n",
      "     #dune &lt;3\n",
      "    </div>\n",
      "    <p>\n",
      "    </p>\n",
      "    <div class=\"meta\">\n",
      "     Friday, July 8, 2016 at 12:08am UTC+02\n",
      "    </div>\n",
      "    Orsi Vasarhelyi and Tamás Boldizsár are now friends.\n",
      "    <p>\n",
      "    </p>\n",
      "    <div class=\"meta\">\n",
      "     Friday, July 8, 2016 at 12:08am UTC+02\n",
      "    </div>\n",
      "    Orsi Vasarhelyi and Mate Toth are now friends.\n",
      "    <p>\n",
      "    </p>\n",
      "    <div class=\"meta\">\n",
      "     Friday, July 8, 2016 at 12:08am UTC+02\n",
      "    </div>\n",
      "    Orsi Vasarhelyi and Eszter Szanka are now friends.\n",
      "    <p>\n",
      "    </p>\n",
      "    <div class=\"meta\">\n",
      "     Friday, July 8, 2016 at 12:08am UTC+02\n",
      "    </div>\n",
      "    Orsi Vasarhelyi and Radnai András are now friends.\n",
      "    <p>\n",
      "    </p>\n",
      "    <div class=\"meta\">\n",
      "     Friday, July 8, 2016 at 12:07am UTC+02\n",
      "    </div>\n",
      "    Orsi Vasarhelyi and Edina Dán are now friends.\n",
      "    <p>\n",
      "    </p>\n",
      "    <div class=\"meta\">\n",
      "     Friday, July 8, 2016 at 12:\n"
     ]
    }
   ],
   "source": [
    "print soup.prettify()[20000:21000]"
   ]
  },
  {
   "cell_type": "raw",
   "metadata": {},
   "source": [
    "Gainning friendship looks like this in the html:\n",
    "\n",
    "<div class=\"meta\">\n",
    "     Friday, July 8, 2016 at 12:08am UTC+02\n",
    "    </div>\n",
    "    Orsi Vasarhelyi and Tamás Boldizsár are now friends.\n",
    "    <p>\n",
    "    </p>\n",
    "    <div class=\"meta\">"
   ]
  },
  {
   "cell_type": "markdown",
   "metadata": {},
   "source": [
    "### Let's make our file smaller and find only the relevant information!"
   ]
  },
  {
   "cell_type": "code",
   "execution_count": 92,
   "metadata": {
    "collapsed": true
   },
   "outputs": [],
   "source": [
    "data=soup.find_all('div', class_=\"meta\") "
   ]
  },
  {
   "cell_type": "code",
   "execution_count": 77,
   "metadata": {
    "collapsed": false
   },
   "outputs": [
    {
     "data": {
      "text/plain": [
       "bs4.element.ResultSet"
      ]
     },
     "execution_count": 77,
     "metadata": {},
     "output_type": "execute_result"
    }
   ],
   "source": [
    "type(data)"
   ]
  },
  {
   "cell_type": "code",
   "execution_count": 101,
   "metadata": {
    "collapsed": false
   },
   "outputs": [
    {
     "name": "stdout",
     "output_type": "stream",
     "text": [
      "<div class=\"meta\">Tuesday, August 2, 2016 at 12:13pm UTC+02</div>\n"
     ]
    }
   ],
   "source": [
    "print data[0]"
   ]
  },
  {
   "cell_type": "markdown",
   "metadata": {},
   "source": [
    "Tags may contain strings and other tags. These elements are the tag’s children. Beautiful Soup provides a lot of different attributes for navigating and iterating over a tag’s children."
   ]
  },
  {
   "cell_type": "code",
   "execution_count": 97,
   "metadata": {
    "collapsed": false
   },
   "outputs": [
    {
     "name": "stdout",
     "output_type": "stream",
     "text": [
      "[u'Tuesday, August 2, 2016 at 12:13pm UTC+02']\n"
     ]
    }
   ],
   "source": [
    "print list(data[0].children)"
   ]
  },
  {
   "cell_type": "markdown",
   "metadata": {},
   "source": [
    "You can use .next_sibling and .previous_sibling to navigate between page elements that are on the same level of the parse tree:"
   ]
  },
  {
   "cell_type": "code",
   "execution_count": 100,
   "metadata": {
    "collapsed": false
   },
   "outputs": [
    {
     "data": {
      "text/plain": [
       "u'Orsi Vasarhelyi likes Caf\\xe9 Cometa.'"
      ]
     },
     "execution_count": 100,
     "metadata": {},
     "output_type": "execute_result"
    }
   ],
   "source": [
    "data[0].next_sibling "
   ]
  },
  {
   "cell_type": "markdown",
   "metadata": {},
   "source": [
    "It is still a lot of useless informtion. We have to find the \"are now friends\" parts."
   ]
  },
  {
   "cell_type": "markdown",
   "metadata": {},
   "source": [
    "A string corresponds to a bit of text within a tag. Beautiful Soup uses the NavigableString class to contain these bits of text:\n",
    "\n"
   ]
  },
  {
   "cell_type": "code",
   "execution_count": null,
   "metadata": {
    "collapsed": true
   },
   "outputs": [],
   "source": [
    "tag.string\n",
    "# u'Extremely bold'\n",
    "type(tag.string)\n",
    "# <class 'bs4.element.NavigableString'>\n"
   ]
  },
  {
   "cell_type": "code",
   "execution_count": 109,
   "metadata": {
    "collapsed": false
   },
   "outputs": [],
   "source": [
    "timeline_events=[]\n",
    "for meta in data:\n",
    "    event=meta.next_sibling #all events hich connects to a time   \n",
    "    timeline_events.append(event)"
   ]
  },
  {
   "cell_type": "code",
   "execution_count": 112,
   "metadata": {
    "collapsed": false
   },
   "outputs": [
    {
     "data": {
      "text/plain": [
       "(8280,\n",
       " [u'Orsi Vasarhelyi likes Caf\\xe9 Cometa.',\n",
       "  u\"Orsi Vasarhelyi shared Bridge Budapest's photo.\",\n",
       "  u'Orsi Vasarhelyi is interested in The Biggest Beach Party in Barcelona - Music & Cookie Beach Party.',\n",
       "  u'Orsi Vasarhelyi and Carolina Correa are now friends.',\n",
       "  u'Orsi Vasarhelyi feeling excited at El Poble-sec, Barcelona.',\n",
       "  u'Orsi Vasarhelyi is interested in Brunch -In the park #6: 10 Years of Aus: Will Saul, Paul Woolford, Jacques Greene y m\\xe1s.',\n",
       "  u'Orsi Vasarhelyi likes Brunch -In Barcelona.',\n",
       "  u'Orsi Vasarhelyi and Alexandra Moln\\xe1r are now friends.',\n",
       "  u'Orsi Vasarhelyi likes Urban Dictionary.',\n",
       "  u'Orsi Vasarhelyi was added to NO AGENCIES ROOMS BARCELONA by Mohamad Sinno.'])"
      ]
     },
     "execution_count": 112,
     "metadata": {},
     "output_type": "execute_result"
    }
   ],
   "source": [
    "len(timeline_events),timeline_events[:10]"
   ]
  },
  {
   "cell_type": "markdown",
   "metadata": {},
   "source": [
    "We have the events, not just friendships, let's keep only the friendships and the name of the friend. How can we do that?\n",
    "* need to keep only those which ends ' are now friends.'\n",
    "* and the name of the person with whom we became friends"
   ]
  },
  {
   "cell_type": "code",
   "execution_count": 114,
   "metadata": {
    "collapsed": true
   },
   "outputs": [],
   "source": [
    "example=timeline_events[:10]"
   ]
  },
  {
   "cell_type": "code",
   "execution_count": 117,
   "metadata": {
    "collapsed": false
   },
   "outputs": [],
   "source": [
    "me='Orsi Vasarhelyi'\n",
    "friends=[]\n",
    "for event in example:\n",
    "     if event[-(len(' are now friends.')):]==' are now friends.':\n",
    "            friend=event[(int(len(' and ')+len(me))):(int(-len(' are now friends.')))]\n",
    "            friends.append(friend)   "
   ]
  },
  {
   "cell_type": "code",
   "execution_count": 118,
   "metadata": {
    "collapsed": false
   },
   "outputs": [
    {
     "data": {
      "text/plain": [
       "[u'Carolina Correa', u'Alexandra Moln\\xe1r']"
      ]
     },
     "execution_count": 118,
     "metadata": {},
     "output_type": "execute_result"
    }
   ],
   "source": [
    "friends"
   ]
  },
  {
   "cell_type": "markdown",
   "metadata": {},
   "source": [
    "Slicing looks very complicated"
   ]
  },
  {
   "cell_type": "code",
   "execution_count": 137,
   "metadata": {
    "collapsed": true
   },
   "outputs": [],
   "source": [
    "end=int(-len(' are now friends.')) #length of are friend\n",
    "start_me=int(len(me)) #shows the place where the friends name comes"
   ]
  },
  {
   "cell_type": "code",
   "execution_count": 125,
   "metadata": {
    "collapsed": false,
    "scrolled": true
   },
   "outputs": [
    {
     "name": "stdout",
     "output_type": "stream",
     "text": [
      "Orsi Vasarhelyi likes Café Cometa.\n",
      "Orsi Vasarhelyi shared Bridge Budapest's photo.\n",
      "Orsi Vasarhelyi is interested in The Biggest Beach Party in Barcelona - Music & Cookie Beach Party.\n",
      "Orsi Vasarhelyi and Carolina Correa are now friends.\n",
      "Orsi Vasarhelyi feeling excited at El Poble-sec, Barcelona.\n",
      "Orsi Vasarhelyi is interested in Brunch -In the park #6: 10 Years of Aus: Will Saul, Paul Woolford, Jacques Greene y más.\n",
      "Orsi Vasarhelyi likes Brunch -In Barcelona.\n",
      "Orsi Vasarhelyi and Alexandra Molnár are now friends.\n",
      "Orsi Vasarhelyi likes Urban Dictionary.\n",
      "Orsi Vasarhelyi was added to NO AGENCIES ROOMS BARCELONA by Mohamad Sinno.\n",
      "<div class=\"comment\">Boldog Születésnapot! :)</div>\n"
     ]
    },
    {
     "ename": "TypeError",
     "evalue": "unhashable type",
     "output_type": "error",
     "traceback": [
      "\u001b[1;31m---------------------------------------------------------------------------\u001b[0m",
      "\u001b[1;31mTypeError\u001b[0m                                 Traceback (most recent call last)",
      "\u001b[1;32m<ipython-input-125-cf2f016e3aa9>\u001b[0m in \u001b[0;36m<module>\u001b[1;34m()\u001b[0m\n\u001b[0;32m      4\u001b[0m     \u001b[0mevent\u001b[0m\u001b[1;33m=\u001b[0m\u001b[0mmeta\u001b[0m\u001b[1;33m.\u001b[0m\u001b[0mnext_sibling\u001b[0m \u001b[1;31m#all events hich connects to a time\u001b[0m\u001b[1;33m\u001b[0m\u001b[0m\n\u001b[0;32m      5\u001b[0m     \u001b[1;32mprint\u001b[0m \u001b[0mevent\u001b[0m\u001b[1;33m\u001b[0m\u001b[0m\n\u001b[1;32m----> 6\u001b[1;33m     \u001b[1;32mif\u001b[0m \u001b[0mevent\u001b[0m\u001b[1;33m[\u001b[0m\u001b[1;33m-\u001b[0m\u001b[1;33m(\u001b[0m\u001b[0mlen\u001b[0m\u001b[1;33m(\u001b[0m\u001b[1;34m' are now friends.'\u001b[0m\u001b[1;33m)\u001b[0m\u001b[1;33m)\u001b[0m\u001b[1;33m:\u001b[0m\u001b[1;33m]\u001b[0m\u001b[1;33m==\u001b[0m\u001b[1;34m' are now friends.'\u001b[0m\u001b[1;33m:\u001b[0m\u001b[1;33m\u001b[0m\u001b[0m\n\u001b[0m\u001b[0;32m      7\u001b[0m         \u001b[1;32mif\u001b[0m \u001b[0mevent\u001b[0m\u001b[1;33m[\u001b[0m\u001b[1;33m:\u001b[0m\u001b[0mstart_me\u001b[0m\u001b[1;33m]\u001b[0m\u001b[1;33m==\u001b[0m\u001b[0mme\u001b[0m\u001b[1;33m:\u001b[0m\u001b[1;33m\u001b[0m\u001b[0m\n\u001b[0;32m      8\u001b[0m             \u001b[0mfriend\u001b[0m\u001b[1;33m=\u001b[0m\u001b[0mevent\u001b[0m\u001b[1;33m[\u001b[0m\u001b[0mstart_me\u001b[0m\u001b[1;33m:\u001b[0m\u001b[0mend\u001b[0m\u001b[1;33m]\u001b[0m\u001b[1;33m\u001b[0m\u001b[0m\n",
      "\u001b[1;32m/home/orsi/anaconda2/lib/python2.7/site-packages/bs4/element.pyc\u001b[0m in \u001b[0;36m__getitem__\u001b[1;34m(self, key)\u001b[0m\n\u001b[0;32m    995\u001b[0m         \"\"\"tag[key] returns the value of the 'key' attribute for the tag,\n\u001b[0;32m    996\u001b[0m         and throws an exception if it's not there.\"\"\"\n\u001b[1;32m--> 997\u001b[1;33m         \u001b[1;32mreturn\u001b[0m \u001b[0mself\u001b[0m\u001b[1;33m.\u001b[0m\u001b[0mattrs\u001b[0m\u001b[1;33m[\u001b[0m\u001b[0mkey\u001b[0m\u001b[1;33m]\u001b[0m\u001b[1;33m\u001b[0m\u001b[0m\n\u001b[0m\u001b[0;32m    998\u001b[0m \u001b[1;33m\u001b[0m\u001b[0m\n\u001b[0;32m    999\u001b[0m     \u001b[1;32mdef\u001b[0m \u001b[0m__iter__\u001b[0m\u001b[1;33m(\u001b[0m\u001b[0mself\u001b[0m\u001b[1;33m)\u001b[0m\u001b[1;33m:\u001b[0m\u001b[1;33m\u001b[0m\u001b[0m\n",
      "\u001b[1;31mTypeError\u001b[0m: unhashable type"
     ]
    }
   ],
   "source": [
    "timeline_events=[]\n",
    "\n",
    "for meta in data:\n",
    "    event=meta.next_sibling #all events hich connects to a time   \n",
    "    print event\n",
    "    if event[-(len(' are now friends.')):]==' are now friends.':\n",
    "        if event[:start_me]==me:\n",
    "            friend=event[start_me:end]\n",
    "            timeline_events.append({'friend':friend})"
   ]
  },
  {
   "cell_type": "markdown",
   "metadata": {},
   "source": [
    "#### So we have to add an other if, that it should start with `me` and make event a unicode() text"
   ]
  },
  {
   "cell_type": "code",
   "execution_count": 194,
   "metadata": {
    "collapsed": false
   },
   "outputs": [],
   "source": [
    "timeline_events=[]\n",
    "\n",
    "for meta in data:\n",
    "    event=meta.next_sibling #all events hich connects to a time   \n",
    "    if unicode(event)[-(len(' are now friends.')):]==' are now friends.':\n",
    "        if event[:start_me]==me:\n",
    "            friend=event[start_me+len(' and '):end]\n",
    "            timeline_events.append(friend)"
   ]
  },
  {
   "cell_type": "code",
   "execution_count": 195,
   "metadata": {
    "collapsed": false
   },
   "outputs": [
    {
     "name": "stdout",
     "output_type": "stream",
     "text": [
      "[u'Carolina Correa', u'Alexandra Moln\\xe1r', u'Alifa Peherstorfer', u'Andr\\xe1s Kreiss', u'Justyna Ka\\u0142u\\u017cka', u'Roy Bayot', u'Morvay Mikl\\xf3s', u'Wim Glenn', u'Zs\\xf3fia Cz\\xe9m\\xe1n', u'Alonso Lamas']\n"
     ]
    }
   ],
   "source": [
    "print timeline_events[:10]"
   ]
  },
  {
   "cell_type": "markdown",
   "metadata": {},
   "source": [
    "#### Great but it is very ugly, we should get rid of the wierd charachters, and the accents, here is a very nice function to do it"
   ]
  },
  {
   "cell_type": "code",
   "execution_count": 146,
   "metadata": {
    "collapsed": true
   },
   "outputs": [],
   "source": [
    "import unicodedata\n",
    "def strip_accents(s):\n",
    "    return ''.join(c for c in unicodedata.normalize('NFD', s)\n",
    "                  if unicodedata.category(c) != 'Mn')"
   ]
  },
  {
   "cell_type": "code",
   "execution_count": 192,
   "metadata": {
    "collapsed": false
   },
   "outputs": [],
   "source": [
    "timeline_events=[]\n",
    "\n",
    "for meta in data:\n",
    "    event=meta.next_sibling #all events hich connects to a time   \n",
    "    if unicode(event)[-(len(' are now friends.')):]==' are now friends.':\n",
    "        if event[:start_me]==me:\n",
    "            friend=strip_accents(event[start_me+len(' and '):end])\n",
    "            timeline_events.append(friend)"
   ]
  },
  {
   "cell_type": "code",
   "execution_count": 193,
   "metadata": {
    "collapsed": false
   },
   "outputs": [
    {
     "data": {
      "text/plain": [
       "[u'Carolina Correa',\n",
       " u'Alexandra Molnar',\n",
       " u'Alifa Peherstorfer',\n",
       " u'Andras Kreiss',\n",
       " u'Justyna Ka\\u0142uzka',\n",
       " u'Roy Bayot',\n",
       " u'Morvay Miklos',\n",
       " u'Wim Glenn',\n",
       " u'Zsofia Czeman',\n",
       " u'Alonso Lamas']"
      ]
     },
     "execution_count": 193,
     "metadata": {},
     "output_type": "execute_result"
    }
   ],
   "source": [
    "timeline_events[:10]"
   ]
  },
  {
   "cell_type": "markdown",
   "metadata": {},
   "source": [
    "### Very nice, but I think we all know are friends, the more intersting part is to know where did you guys became friends."
   ]
  },
  {
   "cell_type": "raw",
   "metadata": {},
   "source": [
    "<div class=\"meta\">\n",
    "     Friday, July 8, 2016 at 12:08am UTC+02\n",
    "    </div>\n",
    "    Orsi Vasarhelyi and Tamás Boldizsár are now friends.\n",
    "    <p>\n",
    "    </p>\n",
    "    <div class=\"meta\">"
   ]
  },
  {
   "cell_type": "code",
   "execution_count": 157,
   "metadata": {
    "collapsed": false
   },
   "outputs": [
    {
     "name": "stdout",
     "output_type": "stream",
     "text": [
      "<div class=\"meta\">Tuesday, August 2, 2016 at 12:13pm UTC+02</div>\n",
      "<div class=\"meta\">Tuesday, August 2, 2016 at 9:09am UTC+02</div>\n",
      "<div class=\"meta\">Monday, August 1, 2016 at 12:34pm UTC+02</div>\n",
      "<div class=\"meta\">Monday, August 1, 2016 at 10:01am UTC+02</div>\n",
      "<div class=\"meta\">Sunday, July 31, 2016 at 4:04pm UTC+02</div>\n",
      "<div class=\"meta\">Sunday, July 31, 2016 at 12:41pm UTC+02</div>\n",
      "<div class=\"meta\">Sunday, July 31, 2016 at 12:41pm UTC+02</div>\n",
      "<div class=\"meta\">Friday, July 29, 2016 at 8:26am UTC+02</div>\n",
      "<div class=\"meta\">Thursday, July 28, 2016 at 4:52pm UTC+02</div>\n",
      "<div class=\"meta\">Thursday, July 28, 2016 at 11:40am UTC+02</div>\n"
     ]
    }
   ],
   "source": [
    "for i in data[:10]:\n",
    "    print i"
   ]
  },
  {
   "cell_type": "code",
   "execution_count": 172,
   "metadata": {
    "collapsed": false
   },
   "outputs": [
    {
     "name": "stdout",
     "output_type": "stream",
     "text": [
      "Tuesday, August 2, 2016 at 12:13pm UTC+02\n",
      "Tuesday, August 2, 2016 at 9:09am UTC+02\n",
      "Monday, August 1, 2016 at 12:34pm UTC+02\n",
      "Monday, August 1, 2016 at 10:01am UTC+02\n",
      "Sunday, July 31, 2016 at 4:04pm UTC+02\n",
      "Sunday, July 31, 2016 at 12:41pm UTC+02\n",
      "Sunday, July 31, 2016 at 12:41pm UTC+02\n",
      "Friday, July 29, 2016 at 8:26am UTC+02\n",
      "Thursday, July 28, 2016 at 4:52pm UTC+02\n",
      "Thursday, July 28, 2016 at 11:40am UTC+02\n"
     ]
    }
   ],
   "source": [
    "for i in data[:10]:\n",
    "    print list(i.children)[0] #this is exactly the time we are looking for"
   ]
  },
  {
   "cell_type": "markdown",
   "metadata": {},
   "source": [
    "This is great, we easily got the eaxact timestamps , but still in a `<class 'bs4.element.NavigableString'> ` format and we need in `datetime` format.\n",
    "\n",
    "### What is datetime?\n",
    "\n",
    "The [datetime](https://docs.python.org/2/library/datetime.html) module supplies classes for manipulating dates and times in both simple and complex ways. While date and time arithmetic is supported, the focus of the implementation is on efficient attribute extraction for output formatting and manipulation. For related functionality, see also the time and calendar modules. Other modules requires datetimeformats for plotting. It makes much easier to claculate with datess, (eg.: difference between two dates instances)\n",
    "\n",
    "\n",
    "`classmethod datetime.strptime(date_string, format)`\n",
    "Conversely, the datetime.strptime() class method creates a datetime object from a string representing a date and time and a corresponding format string. datetime.strptime(date_string, format) is equivalent to datetime(*(time.strptime(date_string, format)[0:6])).\n",
    "\n",
    "### We have to create a format! Translate the following forms, absed on the Documentation:"
   ]
  },
  {
   "cell_type": "code",
   "execution_count": 166,
   "metadata": {
    "collapsed": true
   },
   "outputs": [],
   "source": [
    "form1='%A, %B %d, %Y at %I:%M%p'\n",
    "form2='%B %d, %Y'"
   ]
  },
  {
   "cell_type": "code",
   "execution_count": 171,
   "metadata": {
    "collapsed": false
   },
   "outputs": [
    {
     "name": "stdout",
     "output_type": "stream",
     "text": [
      "[datetime.datetime(2016, 8, 2, 12, 13), datetime.datetime(2016, 8, 2, 9, 9), datetime.datetime(2016, 8, 1, 12, 34), datetime.datetime(2016, 8, 1, 10, 1), datetime.datetime(2016, 7, 31, 16, 4), datetime.datetime(2016, 7, 31, 12, 41), datetime.datetime(2016, 7, 31, 12, 41), datetime.datetime(2016, 7, 29, 8, 26), datetime.datetime(2016, 7, 28, 16, 52), datetime.datetime(2016, 7, 28, 11, 40)]\n"
     ]
    }
   ],
   "source": [
    "import datetime\n",
    "times=[]\n",
    "for i in data[:10]:\n",
    "    time_string=list(i.children)[0]\n",
    "    time=datetime.datetime.strptime(time_string[:-7], form1)\n",
    "    times.append(time)\n",
    "print times "
   ]
  },
  {
   "cell_type": "markdown",
   "metadata": {},
   "source": [
    "### What happens if we use form2?\n",
    "\n",
    "Hint: we had this one: Tuesday, August 2, 2016 at 12:13pm UTC+02\n",
    "\n",
    "## Let's hack time and friends together!"
   ]
  },
  {
   "cell_type": "code",
   "execution_count": 206,
   "metadata": {
    "collapsed": true
   },
   "outputs": [],
   "source": [
    "timeline_events=[]\n",
    "\n",
    "\n",
    "for meta in data:\n",
    "    time_string=list(meta.children)[0]\n",
    "    time=datetime.datetime.strptime(time_string[:-7], form1)\n",
    "    event=meta.next_sibling #all events hich connects to a time   \n",
    "    if unicode(event)[-(len(' are now friends.')):]==' are now friends.':\n",
    "        if event[:start_me]==me:\n",
    "            friend=strip_accents(event[start_me+len(' and '):end])\n",
    "            timeline_events.append({'time':time, 'friend':friend}) #What kind of data structure do we need?"
   ]
  },
  {
   "cell_type": "code",
   "execution_count": 207,
   "metadata": {
    "collapsed": false
   },
   "outputs": [
    {
     "data": {
      "text/plain": [
       "[{'friend': u'Carolina Correa', 'time': datetime.datetime(2016, 8, 1, 10, 1)},\n",
       " {'friend': u'Alexandra Molnar',\n",
       "  'time': datetime.datetime(2016, 7, 29, 8, 26)},\n",
       " {'friend': u'Alifa Peherstorfer',\n",
       "  'time': datetime.datetime(2016, 7, 22, 23, 10)},\n",
       " {'friend': u'Andras Kreiss', 'time': datetime.datetime(2016, 7, 22, 1, 40)},\n",
       " {'friend': u'Justyna Ka\\u0142uzka',\n",
       "  'time': datetime.datetime(2016, 7, 22, 1, 20)},\n",
       " {'friend': u'Roy Bayot', 'time': datetime.datetime(2016, 7, 20, 13, 1)},\n",
       " {'friend': u'Morvay Miklos', 'time': datetime.datetime(2016, 7, 20, 13, 1)},\n",
       " {'friend': u'Wim Glenn', 'time': datetime.datetime(2016, 7, 20, 13, 1)},\n",
       " {'friend': u'Zsofia Czeman', 'time': datetime.datetime(2016, 7, 15, 11, 40)},\n",
       " {'friend': u'Alonso Lamas', 'time': datetime.datetime(2016, 7, 14, 19, 1)}]"
      ]
     },
     "execution_count": 207,
     "metadata": {},
     "output_type": "execute_result"
    }
   ],
   "source": [
    "timeline_events[:10]"
   ]
  },
  {
   "cell_type": "markdown",
   "metadata": {},
   "source": [
    "### Let's create an other data type, where we can actually look for the date when we got friends on Facebook absed on names!\n",
    "\n",
    " class collections.defaultdict([default_factory[, ...]])\n",
    "\n",
    "    Returns a new dictionary-like object. defaultdict is a subclass of the built-in dict class. It overrides one method and adds one writable instance variable. The remaining functionality is the same as for the dict class and is not documented here."
   ]
  },
  {
   "cell_type": "code",
   "execution_count": 183,
   "metadata": {
    "collapsed": false
   },
   "outputs": [],
   "source": [
    "from collections import defaultdict "
   ]
  },
  {
   "cell_type": "code",
   "execution_count": 204,
   "metadata": {
    "collapsed": false
   },
   "outputs": [],
   "source": [
    "friends_dict=defaultdict(datetime.datetime)\n",
    "\n",
    "\n",
    "for meta in data:\n",
    "    time_string=list(meta.children)[0]\n",
    "    time=datetime.datetime.strptime(time_string[:-7], form1)\n",
    "    event=meta.next_sibling #all events hich connects to a time   \n",
    "    if unicode(event)[-(len(' are now friends.')):]==' are now friends.':\n",
    "        if event[:start_me]==me:\n",
    "            friend=strip_accents(event[start_me+len(' and '):end])\n",
    "            friends_dict[friend]=time #What kind of data structure do we need?"
   ]
  },
  {
   "cell_type": "code",
   "execution_count": 205,
   "metadata": {
    "collapsed": false
   },
   "outputs": [
    {
     "data": {
      "text/plain": [
       "datetime.datetime(2009, 2, 22, 17, 12)"
      ]
     },
     "execution_count": 205,
     "metadata": {},
     "output_type": "execute_result"
    }
   ],
   "source": [
    "friends_dict['Daniel Nagy']"
   ]
  },
  {
   "cell_type": "markdown",
   "metadata": {},
   "source": [
    "Here is my original code, it is tested, works with two user names, and ready to handle all problems:"
   ]
  },
  {
   "cell_type": "code",
   "execution_count": 181,
   "metadata": {
    "collapsed": false
   },
   "outputs": [],
   "source": [
    "me2='Orsolya Vasarhelyi'\n",
    "start_me2=start_me2=len(me2)\n",
    "\n",
    "timeline_events=[]\n",
    "for i in data:\n",
    "    time_string=list(i.children)[0]\n",
    "    if '(Displayed as' in time_string:\n",
    "        time_string=time_string.split(\" (\", 1)[0]\n",
    "    time=datetime.datetime.strptime(time_string[:-7],form1)\n",
    "    event=i.next_sibling\n",
    "    if isinstance(event, element.NavigableString):\n",
    "        if event[-(len(' are now friends.')):]==' are now friends.':\n",
    "            if event[:start_me]==me:\n",
    "                friend=strip_accents(event[start_me:end])\n",
    "            else:\n",
    "                friend=strip_accents(event[start_me2:end])\n",
    "            timeline_events.append({'time':time, 'event':event, 'friend':friend})"
   ]
  },
  {
   "cell_type": "markdown",
   "metadata": {},
   "source": [
    "## Lets see what we have! \n",
    "\n",
    "We will plot two different different charts.\n",
    "1. A commulative distribution to see the trends of friendship\n",
    "2. And a chart which shows in which day how many new freids you gained\n",
    "\n",
    "### How many friends we have right now?"
   ]
  },
  {
   "cell_type": "code",
   "execution_count": 212,
   "metadata": {
    "collapsed": false
   },
   "outputs": [
    {
     "name": "stdout",
     "output_type": "stream",
     "text": [
      " this is the number of friend: 537\n"
     ]
    }
   ],
   "source": [
    "print ' this is the number of friend: '+str(len(friends_dict.keys()))"
   ]
  },
  {
   "cell_type": "markdown",
   "metadata": {},
   "source": [
    "### Write a function which calculates for how long have you been friends with each frirend!\n",
    "Hint: read about how to calculate time dfferences with datetime objects and what does td.days do in the [datetime documenation](https://docs.python.org/2/library/datetime.html)"
   ]
  },
  {
   "cell_type": "code",
   "execution_count": 239,
   "metadata": {
    "collapsed": false
   },
   "outputs": [],
   "source": [
    "#Helper function:\n",
    "def days_hours_minutes(td):\n",
    "    return td.days\n",
    "\n",
    "\n",
    "def friendship_by_days(events):\n",
    "    friends_by_time=defaultdict(int)\n",
    "    for event in events:\n",
    "        friends_by_time[event['friend']]=days_hours_minutes(datetime.date.today()-event['time'].date())\n",
    "    return friends_by_time\n",
    "    "
   ]
  },
  {
   "cell_type": "code",
   "execution_count": 236,
   "metadata": {
    "collapsed": false
   },
   "outputs": [],
   "source": [
    "#friendship_by_days(timeline_events)"
   ]
  },
  {
   "cell_type": "code",
   "execution_count": 226,
   "metadata": {
    "collapsed": false,
    "scrolled": true
   },
   "outputs": [
    {
     "name": "stdout",
     "output_type": "stream",
     "text": [
      "2008-11-17 11:40:00 2016-08-01 10:01:00\n"
     ]
    }
   ],
   "source": [
    "getting_friends=[]\n",
    "for event in timeline_events:\n",
    "    getting_friends.append(event['time'])\n",
    "getting_friends.sort()\n",
    "print getting_friends[0], getting_friends[-1]\n",
    "number_of_friends=range(1, len(getting_friends)+1) #Why ca we do like this?"
   ]
  },
  {
   "cell_type": "code",
   "execution_count": null,
   "metadata": {
    "collapsed": true
   },
   "outputs": [],
   "source": [
    "from matplotlib.dates import date2num , DateFormatter\n",
    "import matplotlib.pyplot as plt\n",
    "%matplotlib inline"
   ]
  },
  {
   "cell_type": "code",
   "execution_count": 230,
   "metadata": {
    "collapsed": false
   },
   "outputs": [
    {
     "data": {
      "image/png": "[encoded data removed]",
      "text/plain": [
       "<matplotlib.figure.Figure at 0x7f2e8a807d50>"
      ]
     },
     "metadata": {},
     "output_type": "display_data"
    }
   ],
   "source": [
    "plt.plot(getting_friends, number_of_friends)\n",
    "plt.title('Number of friends - Commulative Distribution')\n",
    "plt.xlabel('year')\n",
    "plt.ylabel('# of friends')\n",
    "plt.show()"
   ]
  },
  {
   "cell_type": "code",
   "execution_count": 240,
   "metadata": {
    "collapsed": false
   },
   "outputs": [
    {
     "name": "stdout",
     "output_type": "stream",
     "text": [
      "2008-11-17 2016-08-01\n"
     ]
    }
   ],
   "source": [
    "getting_friends_by_date=[]\n",
    "for new_friend in getting_friends:\n",
    "    getting_friends_by_date.append(new_friend.date())\n",
    "print getting_friends_by_date[0], getting_friends_by_date[-1]"
   ]
  },
  {
   "cell_type": "code",
   "execution_count": 242,
   "metadata": {
    "collapsed": true
   },
   "outputs": [],
   "source": [
    "from collections import Counter #Aggregates ists into a dictionary, where key is the list element and the value is the number of time sit was found\n",
    "aggregated_friends_by_dates=Counter(getting_friends_by_date)"
   ]
  },
  {
   "cell_type": "code",
   "execution_count": 246,
   "metadata": {
    "collapsed": false
   },
   "outputs": [],
   "source": [
    "#aggregated_friends_by_dates"
   ]
  },
  {
   "cell_type": "code",
   "execution_count": 247,
   "metadata": {
    "collapsed": false
   },
   "outputs": [
    {
     "name": "stdout",
     "output_type": "stream",
     "text": [
      "(datetime.date(2008, 11, 17), 20) (datetime.date(2016, 8, 1), 1)\n"
     ]
    }
   ],
   "source": [
    "to_plot=[]\n",
    "for date, freq in aggregated_friends_by_dates.iteritems():\n",
    "    to_plot.append((date, freq))\n",
    "to_plot.sort()\n",
    "print to_plot[0], to_plot[-1]   "
   ]
  },
  {
   "cell_type": "code",
   "execution_count": 249,
   "metadata": {
    "collapsed": false
   },
   "outputs": [
    {
     "data": {
      "image/png": "[encoded data removed]",
      "text/plain": [
       "<matplotlib.figure.Figure at 0x7f2e8a516490>"
      ]
     },
     "metadata": {},
     "output_type": "display_data"
    }
   ],
   "source": [
    "x=[]\n",
    "y=[]\n",
    "for i in to_plot:\n",
    "    x.append(i[0])\n",
    "    y.append(i[1])\n",
    "plt.plot(x, y)\n",
    "plt.title('New friendships')\n",
    "plt.xlabel('Date')\n",
    "plt.ylabel('Number of new friends')\n",
    "plt.show()"
   ]
  },
  {
   "cell_type": "markdown",
   "metadata": {},
   "source": [
    "## Great job! We maneged to stalk on ourselves, let's see what we gained today:\n",
    "* Refreshed `dictionaries`\n",
    "* Lernt how to read and write files\n",
    "* Learned about the following new modules: Beutiful Soup, Collections (Counter, defaultdict), DateTime, unicodedata\n",
    "* We parsed our Facebook Timeline and found when we became friends with current friends\n",
    "* Created hanfy dictionaries to see when did you get friends\n",
    "* Plotted with matplotib (which we will we learn about much more next time)\n",
    "\n",
    "## Homework\n",
    "* For the next class, please read about [Matplotlib](http://matplotlib.org/index.html) and [Bokeh](http://bokeh.pydata.org/en/latest/)\n",
    "\n",
    "\n"
   ]
  },
  {
   "cell_type": "code",
   "execution_count": null,
   "metadata": {
    "collapsed": true
   },
   "outputs": [],
   "source": []
  }
 ],
 "metadata": {
  "kernelspec": {
   "display_name": "Python [Root]",
   "language": "python",
   "name": "Python [Root]"
  },
  "language_info": {
   "codemirror_mode": {
    "name": "ipython",
    "version": 2
   },
   "file_extension": ".py",
   "mimetype": "text/x-python",
   "name": "python",
   "nbconvert_exporter": "python",
   "pygments_lexer": "ipython2",
   "version": "2.7.12"
  }
 },
 "nbformat": 4,
 "nbformat_minor": 0
}
