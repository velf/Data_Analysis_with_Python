{
 "cells": [
  {
   "cell_type": "markdown",
   "metadata": {},
   "source": [
    "# Twitter API and Data Visualization\n",
    "\n",
    "Sources and Inspiration: [Class of Roberta Sinatra](http://www.robertasinatra.com/teaching/math5012.html) and [Mining the Social Web](https://github.com/ptwobrussell/Mining-the-Social-Web-2nd-Edition)\n",
    "\n",
    "- #### Today we play some statistical games with `random` and visualize its results with `matplotlib`\n",
    "- #### We will learn how to use the `Twitter API` and plot trending topics"
   ]
  },
  {
   "cell_type": "markdown",
   "metadata": {},
   "source": [
    "### Random \n",
    "\n",
    "As statistics students we must learn about the outstanding `random` package. This lets us do stochastic simulations by giving us a pseudorandom number generator.\n",
    "\n",
    "The minimum a programming language needs for this is a function that gives you access to random floats between zero and one. Python does this:"
   ]
  },
  {
   "cell_type": "code",
   "execution_count": 2,
   "metadata": {
    "collapsed": false
   },
   "outputs": [
    {
     "name": "stdout",
     "output_type": "stream",
     "text": [
      "0.90690093688\n",
      "0.415615122545\n",
      "0.530592867174\n",
      "0.349032707688\n",
      "0.488680905945\n"
     ]
    }
   ],
   "source": [
    "import random\n",
    "\n",
    "for _ in range(5): # underscore makes a handy dummy variable\n",
    "    print random.random()"
   ]
  },
  {
   "cell_type": "markdown",
   "metadata": {},
   "source": [
    "Let's write a function which choose a random element with replacement three times!"
   ]
  },
  {
   "cell_type": "code",
   "execution_count": 3,
   "metadata": {
    "collapsed": false
   },
   "outputs": [
    {
     "name": "stdout",
     "output_type": "stream",
     "text": [
      "apple\n",
      "apple\n",
      "cat\n"
     ]
    }
   ],
   "source": [
    "my_list=['apple', 'ball', 'cat']\n",
    "\n",
    "# sample w/ replacement four times:\n",
    "for i in range(3):\n",
    "    for _ in range(3):\n",
    "        #print _\n",
    "        r = random.random()*len(my_list) # r in [0,4)\n",
    "    #print r, int(r)\n",
    "    print my_list[int(r)] \n"
   ]
  },
  {
   "cell_type": "markdown",
   "metadata": {},
   "source": [
    "It is quit complicated, thanks to `random` we can do it much easier!"
   ]
  },
  {
   "cell_type": "code",
   "execution_count": 4,
   "metadata": {
    "collapsed": false
   },
   "outputs": [
    {
     "name": "stdout",
     "output_type": "stream",
     "text": [
      "cat\n",
      "apple\n",
      "cat\n",
      "apple\n",
      "ball\n",
      "cat\n",
      "apple\n",
      "apple\n",
      "cat\n"
     ]
    }
   ],
   "source": [
    "for _ in range(9): #range is the sample size\n",
    "    print random.choice(my_list)"
   ]
  },
  {
   "cell_type": "markdown",
   "metadata": {},
   "source": [
    "Without replacement?\n",
    "If we want to sample without replacement, meaning the same element cannot be selected more than once, we can use `random.sample`:"
   ]
  },
  {
   "cell_type": "code",
   "execution_count": 44,
   "metadata": {
    "collapsed": false
   },
   "outputs": [
    {
     "name": "stdout",
     "output_type": "stream",
     "text": [
      "[35, 51, 88, 84, 81]\n"
     ]
    }
   ],
   "source": [
    "numbers=range(100)\n",
    "print random.sample(numbers, 5) # make five draws "
   ]
  },
  {
   "cell_type": "markdown",
   "metadata": {},
   "source": [
    "## Matplotlib\n",
    "\n",
    "`matplotlib` is a python 2D plotting library which produces publication quality figures in a variety of hardcopy formats and interactive environments across platforms. `matplotlib` can be used in python scripts, the python and ipython shell (ala MATLAB®* or Mathematica®†), web application servers, and six graphical user interface toolkits. [source](http://matplotlib.org/)\n",
    "\n",
    "* Easy to get started\n",
    "* Support for $\\LaTeX$ formatted labels and texts\n",
    "* Great control of every element in a figure, including figure size and DPI. \n",
    "* High-quality output in many formats, including PNG, PDF, SVG, EPS, and PGF.\n",
    "\n",
    "`Matplotlib` is probably not the fanciest package for data visualization, but the easiest to create charts which are appropriate for scientific publications (eg.: thesis). And it provides the basic syntax to most of the super sexy interactive libaries, suchas `Bokeh` or `Lightning`. `matplotlib` has a super detailed documentation. Thanks to its popularity if you google for any chart type answers are easily accessable at stackoverflow. \n",
    "\n",
    "More information at the Matplotlib web page: http://matplotlib.org/ . There's a [nice gallery](http://matplotlib.org/gallery.html) worth checking out.\n",
    "\n",
    "Resources:\n",
    "* http://kestrel.nmt.edu/~raymond/software/python_notes/paper004.html"
   ]
  },
  {
   "cell_type": "code",
   "execution_count": 405,
   "metadata": {
    "collapsed": false
   },
   "outputs": [],
   "source": [
    "import matplotlib\n",
    "import matplotlib.pyplot as plt\n",
    "# This line configures matplotlib to show figures embedded in the notebook, \n",
    "# instead of opening a new window for each figure. \n",
    "%matplotlib inline"
   ]
  },
  {
   "cell_type": "markdown",
   "metadata": {},
   "source": [
    "## MATLAB-like API\n",
    "The easiest way to get started with plotting using matplotlib is often to use the MATLAB-like API provided by matplotlib. To use this API from matplotlib, we need to include the symbols in the `pylab` module: "
   ]
  },
  {
   "cell_type": "code",
   "execution_count": 46,
   "metadata": {
    "collapsed": true
   },
   "outputs": [],
   "source": [
    "x = range(0, 10)\n",
    "y = [i ** 2 for i in x]"
   ]
  },
  {
   "cell_type": "code",
   "execution_count": 47,
   "metadata": {
    "collapsed": false
   },
   "outputs": [
    {
     "data": {
      "image/png": "[encoded data removed]",
      "text/plain": [
       "<matplotlib.figure.Figure at 0x7f2c19d99d50>"
      ]
     },
     "metadata": {},
     "output_type": "display_data"
    }
   ],
   "source": [
    "plt.figure()\n",
    "plt.plot(x, y, 'r')\n",
    "plt.xlabel('x')\n",
    "plt.ylabel('y')\n",
    "plt.title('title')\n",
    "plt.show()"
   ]
  },
  {
   "cell_type": "markdown",
   "metadata": {},
   "source": [
    "If we would like to get rid of the `plt.` part, we need to include the symbols in the `pylab` module: "
   ]
  },
  {
   "cell_type": "markdown",
   "metadata": {},
   "source": [
    "To use this API from matplotlib, we need to include the symbols in the `pylab` module: ort"
   ]
  },
  {
   "cell_type": "code",
   "execution_count": 49,
   "metadata": {
    "collapsed": false
   },
   "outputs": [],
   "source": [
    "from pylab import *"
   ]
  },
  {
   "cell_type": "code",
   "execution_count": 53,
   "metadata": {
    "collapsed": false
   },
   "outputs": [
    {
     "data": {
      "image/png": "[encoded data removed]",
      "text/plain": [
       "<matplotlib.figure.Figure at 0x7f2bfd483250>"
      ]
     },
     "metadata": {},
     "output_type": "display_data"
    }
   ],
   "source": [
    "subplot(1,2,1)  #creating subplots\n",
    "plot(x, y, 'r--') #colors,and line type\n",
    "subplot(1,2,2)\n",
    "plot(y, x, 'g*-');"
   ]
  },
  {
   "cell_type": "markdown",
   "metadata": {},
   "source": [
    "This Matlab API is very easy to use, but not too efficient, it is good only for the simplest figures.\n",
    "Instead, I recommend learning and using matplotlib's object-oriented plotting API. It is remarkably powerful. For advanced figures with subplots, insets and other components it is very nice to work with. "
   ]
  },
  {
   "cell_type": "markdown",
   "metadata": {},
   "source": [
    "## The matplotlib object-oriented API\n",
    "The main idea with object-oriented programming is to have objects that one can apply functions and actions on, and no object or program states should be global (such as the MATLAB-like API). The real advantage of this approach becomes apparent when more than one figure is created, or when a figure contains more than one subplot. \n",
    "\n",
    "To use the object-oriented API we start out very much like in the previous example, but instead of creating a new global figure instance we store a reference to the newly created figure instance in the `fig` variable, and from it we create a new axis instance `axes` using the `add_axes` method in the `Figure` class instance `fig`:"
   ]
  },
  {
   "cell_type": "code",
   "execution_count": 54,
   "metadata": {
    "collapsed": false
   },
   "outputs": [
    {
     "data": {
      "image/png": "[encoded data removed]",
      "text/plain": [
       "<matplotlib.figure.Figure at 0x7f2bfd300890>"
      ]
     },
     "metadata": {},
     "output_type": "display_data"
    }
   ],
   "source": [
    "fig = plt.figure()\n",
    "\n",
    "axes = fig.add_axes([0.1, 0.1, 0.8, 0.8]) # left, bottom, width, height (range 0 to 1)\n",
    "\n",
    "axes.plot(x, y, 'r')\n",
    "\n",
    "axes.set_xlabel('x')\n",
    "axes.set_ylabel('y')\n",
    "axes.set_title('title');"
   ]
  },
  {
   "cell_type": "markdown",
   "metadata": {},
   "source": [
    "How to make the subplots?"
   ]
  },
  {
   "cell_type": "code",
   "execution_count": 95,
   "metadata": {
    "collapsed": false
   },
   "outputs": [
    {
     "data": {
      "image/png": "[encoded data removed]",
      "text/plain": [
       "<matplotlib.figure.Figure at 0x7f2bfdd17c90>"
      ]
     },
     "metadata": {},
     "output_type": "display_data"
    }
   ],
   "source": [
    "fig, axes = plt.subplots(nrows=1, ncols=2)\n",
    "colors=['r--', 'g*-']\n",
    "labels=[['x','y'], ['x','y']]\n",
    "variables=[x,y,x]\n",
    "titles=['x and y', 'y and x']\n",
    "\n",
    "for i in range(2): \n",
    "    axes[i].set_xlabel(labels[i][0])\n",
    "    axes[i].set_ylabel(labels[i][1])\n",
    "    axes[i].set_title(titles[i])\n",
    "    axes[i].plot(variables[i], variables[i+1], colors[i])\n",
    "fig.tight_layout()      \n"
   ]
  },
  {
   "cell_type": "code",
   "execution_count": 100,
   "metadata": {
    "collapsed": false
   },
   "outputs": [
    {
     "data": {
      "image/png": "[encoded data removed]",
      "text/plain": [
       "<matplotlib.figure.Figure at 0x7f2bfd294b50>"
      ]
     },
     "metadata": {},
     "output_type": "display_data"
    }
   ],
   "source": [
    "#Without a loop with a shared ax\n",
    "fig, axes = plt.subplots(2, sharex=True)\n",
    "axes[0].plot(x, y, 'r--')\n",
    "axes[0].set_title('Sharing X axis')\n",
    "axes[0].set_ylabel('y')\n",
    "axes[1].plot(y, x, 'g*-')\n",
    "axes[1].set_ylabel('y')\n",
    "axes[1].set_xlabel('x')\n",
    "fig.tight_layout()\n"
   ]
  },
  {
   "cell_type": "markdown",
   "metadata": {},
   "source": [
    "###  Saving figures"
   ]
  },
  {
   "cell_type": "code",
   "execution_count": 101,
   "metadata": {
    "collapsed": true
   },
   "outputs": [],
   "source": [
    "fig.savefig(\"filename.png\", dpi=200)"
   ]
  },
  {
   "cell_type": "markdown",
   "metadata": {},
   "source": [
    "Let's flip a coin 1000 times, where $p$ is the probability the coin lands on *H*:"
   ]
  },
  {
   "cell_type": "code",
   "execution_count": 119,
   "metadata": {
    "collapsed": false
   },
   "outputs": [
    {
     "name": "stdout",
     "output_type": "stream",
     "text": [
      "['H', 'H', 'H', 'H', 'T', 'H', 'T', 'T', 'H', 'T']\n"
     ]
    }
   ],
   "source": [
    "import random\n",
    "p = 0.7\n",
    "\n",
    "# Flip the coin 1000 times:\n",
    "flips = []\n",
    "while len(flips) < 1000:\n",
    "    if random.random() < p:\n",
    "        flips.append(\"H\") #H: heads\n",
    "    else:\n",
    "        flips.append(\"T\") #T: tails\n",
    "print flips[:10]"
   ]
  },
  {
   "cell_type": "code",
   "execution_count": 116,
   "metadata": {
    "collapsed": false
   },
   "outputs": [],
   "source": [
    "flips_one=['H' if random.random()<p  else 'T' for i in range(1000)]"
   ]
  },
  {
   "cell_type": "code",
   "execution_count": 117,
   "metadata": {
    "collapsed": false
   },
   "outputs": [
    {
     "data": {
      "text/plain": [
       "['H', 'T', 'T', 'H', 'H', 'H', 'H', 'H', 'H', 'H']"
      ]
     },
     "execution_count": 117,
     "metadata": {},
     "output_type": "execute_result"
    }
   ],
   "source": [
    "flips_one[:10]"
   ]
  },
  {
   "cell_type": "markdown",
   "metadata": {},
   "source": [
    "We want to count how many times we see 5 heads in a row, 6 in a row, etc.:\n",
    "\n",
    "1. Convert the list of `H`'s and `T`'s into a single string `HHTHHHTH...`.\n",
    "2. Split that string into a list of substrings whenever there's a `T`.\n",
    "3. Count how long each non-empty string is.\n",
    "4. Count how many times we see each value from 3."
   ]
  },
  {
   "cell_type": "code",
   "execution_count": 120,
   "metadata": {
    "collapsed": false
   },
   "outputs": [
    {
     "name": "stdout",
     "output_type": "stream",
     "text": [
      "HHHHTHTTHTHHHHTHHHHHHTHTHHHTHHHHHHHHHHHTHTTHTHTHTT\n"
     ]
    }
   ],
   "source": [
    "S = \"\".join( flips ) # join each flip by an empty delimiter\n",
    "print S[:50]"
   ]
  },
  {
   "cell_type": "code",
   "execution_count": 130,
   "metadata": {
    "collapsed": false
   },
   "outputs": [
    {
     "data": {
      "text/plain": [
       "['HHHH', 'H', '', 'H', 'HHHH', 'HHHHHH', 'H', 'HHH', 'HHHHHHHHHHH', 'H']"
      ]
     },
     "execution_count": 130,
     "metadata": {},
     "output_type": "execute_result"
    }
   ],
   "source": [
    "heads=S.split('T')\n",
    "heads[:10]"
   ]
  },
  {
   "cell_type": "code",
   "execution_count": 134,
   "metadata": {
    "collapsed": false
   },
   "outputs": [
    {
     "name": "stdout",
     "output_type": "stream",
     "text": [
      "[4, 1, 1, 4, 6, 1, 3, 11]\n"
     ]
    }
   ],
   "source": [
    "run_lengths = [ len(run) for run in heads if run!='' ]\n",
    "print run_lengths[:8]"
   ]
  },
  {
   "cell_type": "code",
   "execution_count": 139,
   "metadata": {
    "collapsed": false
   },
   "outputs": [],
   "source": [
    "from collections import Counter\n",
    "run2count=Counter(run_lengths)"
   ]
  },
  {
   "cell_type": "code",
   "execution_count": 138,
   "metadata": {
    "collapsed": false
   },
   "outputs": [
    {
     "data": {
      "text/plain": [
       "Counter({1: 70,\n",
       "         2: 37,\n",
       "         3: 24,\n",
       "         4: 21,\n",
       "         5: 11,\n",
       "         6: 11,\n",
       "         7: 3,\n",
       "         8: 6,\n",
       "         9: 5,\n",
       "         10: 3,\n",
       "         11: 5,\n",
       "         12: 2,\n",
       "         13: 4,\n",
       "         18: 1})"
      ]
     },
     "execution_count": 138,
     "metadata": {},
     "output_type": "execute_result"
    }
   ],
   "source": [
    "run2count"
   ]
  },
  {
   "cell_type": "markdown",
   "metadata": {},
   "source": [
    "Great! We have statistics, now we can create plots!"
   ]
  },
  {
   "cell_type": "code",
   "execution_count": 140,
   "metadata": {
    "collapsed": false
   },
   "outputs": [
    {
     "name": "stdout",
     "output_type": "stream",
     "text": [
      "[(1, 70), (2, 37), (3, 24), (4, 21), (5, 11), (6, 11), (7, 3), (8, 6), (9, 5), (10, 3), (11, 5), (12, 2), (13, 4), (18, 1)]\n",
      "(1, 2, 3, 4, 5, 6, 7, 8, 9, 10, 11, 12, 13, 18) (70, 37, 24, 21, 11, 11, 3, 6, 5, 3, 5, 2, 4, 1)\n"
     ]
    }
   ],
   "source": [
    "# split run and count into separate lists:\n",
    "run_count = run2count.items()\n",
    "print run_count\n",
    "\n",
    "run,count = zip(*run_count)\n",
    "print run,count"
   ]
  },
  {
   "cell_type": "code",
   "execution_count": 158,
   "metadata": {
    "collapsed": false
   },
   "outputs": [
    {
     "data": {
      "image/png": "[encoded data removed]",
      "text/plain": [
       "<matplotlib.figure.Figure at 0x7f2bfcd070d0>"
      ]
     },
     "metadata": {},
     "output_type": "display_data"
    }
   ],
   "source": [
    "fig, axes = plt.subplots()\n",
    "axes.plot( run, count, 'o-' )\n",
    "\n",
    "axes.set_xlabel(\"Run length\", fontsize=18)\n",
    "axes.set_ylabel(\"Number of runs\", fontsize=18)\n",
    "axes.set_title(\"Biased coin (p = %f)\" % p, fontsize=18);\n",
    "\n",
    "matplotlib.rcParams.update({'font.size': 18, 'font.family': 'serif'})"
   ]
  },
  {
   "cell_type": "code",
   "execution_count": 151,
   "metadata": {
    "collapsed": true
   },
   "outputs": [],
   "source": [
    "prun=[p**r for r in run]"
   ]
  },
  {
   "cell_type": "code",
   "execution_count": 159,
   "metadata": {
    "collapsed": false,
    "scrolled": true
   },
   "outputs": [
    {
     "data": {
      "image/png": "[encoded data removed]",
      "text/plain": [
       "<matplotlib.figure.Figure at 0x7f2bfd0b9a90>"
      ]
     },
     "metadata": {},
     "output_type": "display_data"
    }
   ],
   "source": [
    "# for fun, try plotting run vs. log(count) and compare it to \n",
    "# run vs. p**run.\n",
    "\n",
    "log_count=[log(c) for c  in count]\n",
    "fig, axes = plt.subplots()\n",
    "#axes.plot( run, count, '*-' )\n",
    "axes.plot( run, log_count, 'o-' )\n",
    "axes.plot( run, prun, 'x-' )\n",
    "\n",
    "axes.set_xlabel(\"Run length\", fontsize=18)\n",
    "axes.set_ylabel(\"Number of runs\", fontsize=18)\n",
    "axes.set_title(\"Biased coin (p = %f)\" % p, fontsize=18);"
   ]
  },
  {
   "cell_type": "markdown",
   "metadata": {},
   "source": [
    "## Bar charts make much more sense, so let's use them!"
   ]
  },
  {
   "cell_type": "code",
   "execution_count": 403,
   "metadata": {
    "collapsed": false,
    "scrolled": true
   },
   "outputs": [
    {
     "data": {
      "image/png": "[encoded data removed]",
      "text/plain": [
       "<matplotlib.figure.Figure at 0x7f2bfd1843d0>"
      ]
     },
     "metadata": {},
     "output_type": "display_data"
    }
   ],
   "source": [
    "plt.bar( run, count, fc=\"red\" ) # Look, here we are using another way of plotting! \n",
    "plt.xlabel(\"Run length\", fontsize=18)\n",
    "plt.ylabel(\"Number of runs\", fontsize=18)\n",
    "plt.title(\"Biased coin (p = %f)\" % p, fontsize=18)\n",
    "plt.show()"
   ]
  },
  {
   "cell_type": "markdown",
   "metadata": {},
   "source": [
    "## Data Collelction with the Twitter API\n",
    "\n",
    "With Twitter data our aim is to learn about the followings:\n",
    "\n",
    "- Twitter's developer platform and how to make API requests\n",
    "\n",
    "- Tweet metadata and how to use it\n",
    "\n",
    "- Extracting entities such as user mentions, hashtags, and URLs from tweets\n",
    "\n",
    "- Techniques for performing frequency analysis with Python\n",
    "\n"
   ]
  },
  {
   "cell_type": "markdown",
   "metadata": {},
   "source": [
    "### The Twitter Terminology\n",
    "\n",
    "Twitter is a real-time, social microblogging service that allows users to post short status updates, called tweets.\n",
    "Tweets may include one or more entities in their 140 characters of content and reference one or more places that map to locations in the real world. An understanding of users, tweets, and timelines is particularly essential to effective use of Twitter's API, so a brief introduction to these fundamental Twitter Platform objects is in order before we interact with the API to fetch some data. \n",
    "\n",
    "To make it all a bit more concrete, let's consider a sample tweet with the following text:\n",
    "\n",
    "    @Orsi_Vasarhelyi preparing the #dataanalysis class 4students @ELTE_TATK  in Barcelona. Thx @SocialWebMining http://on.fb.me/16WJAf9 #Python\n",
    "\n",
    "The tweet is exactly 140 characters long and contains four tweet entities: the user mentions @Orsi_Vasarhelyi and @ELTE_TAK, the hashtag #dataanalysis and #Python and the URL http://on.fb.me/16WJAf9. Although there is a place called Barcelona that's explicitly mentioned in the tweet, the places metadata associated with the tweet might include the location in which the tweet was authored, which may or may not be Barcelona, and based on the text noone knows is it Barcelona in Spain or Venezuela. That rich metadata can unambiguously refer to multiple other Twitter users, link to web pages, and cross-reference topics with hashtags that act as points of aggregation and horizontally slice through the entire Twitterverse in an easily searchable fashion. This linkage makes Twitter a very popular data source among network scientists and social epidemiologists.\n",
    "\n",
    "`Timelines` are the chronologically sorted collections of tweets. Abstractly, you might say that a timeline is any particular collection of tweets displayed in chronological order; however, you'll commonly see a couple of timelines that are particularly noteworthy. \n"
   ]
  },
  {
   "cell_type": "markdown",
   "metadata": {},
   "source": [
    "### What do we need to access the API\n",
    "\n",
    "1. If you do not have a Twitter account, which is required for API access it is time to create one(do not forget to add your phone number at settings/mobile and verify the code), then review Twitter’s liberal terms of service, API documentation, and Developer Rules of the Road. \n",
    "\n",
    "2. Twitter has a simple [RESTful](https://en.wikipedia.org/wiki/Representational_state_transfer) API that is intuitive and easy to use. Even so, there are great libraries available to further mitigate the work involved in making API requests. A particularly beautiful Python package that wraps the Twitter API and mimics the public API semantics almost one-to-one is `twitter`. So please, install it with pip/conda.\n",
    "\n",
    "3. Before you can make any API requests to Twitter, you'll need to create an application at https://dev.twitter.com/apps. Creating an application is the standard way for developers to gain API access and for Twitter to monitor and interact with third-party platform developers as needed. The process for creating an application is pretty standard, and all that's needed is read-only access to the API. \n",
    "For simplicity of development, the key pieces of information that you'll need to take away from your newly created application's settings are its consumer key, consumer secret, access token, and access token secret. In tandem, these four credentials provide everything that an application would ultimately be getting to authorize itself through a series of redirects involving the user granting authorization, so treat them with the same sensitivity that you would a password"
   ]
  },
  {
   "cell_type": "code",
   "execution_count": 2,
   "metadata": {
    "collapsed": false
   },
   "outputs": [
    {
     "name": "stdout",
     "output_type": "stream",
     "text": [
      "Collecting twitter\n",
      "  Downloading twitter-1.17.1-py2.py3-none-any.whl (55kB)\n",
      "\u001b[K    100% |████████████████████████████████| 61kB 220kB/s \n",
      "\u001b[?25hInstalling collected packages: twitter\n",
      "Successfully installed twitter-1.17.1\n"
     ]
    }
   ],
   "source": [
    "!pip install twitter\n",
    "#https://pypi.python.org/pypi/twitter"
   ]
  },
  {
   "cell_type": "code",
   "execution_count": 10,
   "metadata": {
    "collapsed": false
   },
   "outputs": [
    {
     "name": "stdout",
     "output_type": "stream",
     "text": [
      "<twitter.api.Twitter object at 0x7eff6c429410>\n"
     ]
    }
   ],
   "source": [
    "#So let's import twitter and fill the gaps from your Application Settings and Access Token\n",
    "\n",
    "import twitter\n",
    "\n",
    "CONSUMER_KEY = 'ujUOJLHXWvZ2gISnLvM9pqhLL'\n",
    "CONSUMER_SECRET = 'DxRDUGOHpLKdqaS802UCNnu3kQlNDMwQBxNLAZaVVHF4jou0CR'\n",
    "OAUTH_TOKEN = '443619917-in99iiZX9FK8xMK0hE6Al1QmA7jt7IwwR3yjAiMp'\n",
    "OAUTH_TOKEN_SECRET = 'hdouRYhmH2B38uibZrJXUqDKVXNpNwzTmZYOGGxZ9cL2X'\n",
    "\n",
    "auth = twitter.oauth.OAuth(OAUTH_TOKEN, OAUTH_TOKEN_SECRET,\n",
    "                           CONSUMER_KEY, CONSUMER_SECRET)\n",
    "\n",
    "twitter_api = twitter.Twitter(auth=auth)\n",
    "\n",
    "# Nothing to see by displaying twitter_api except that it's now a\n",
    "# defined variable\n",
    "\n",
    "print twitter_api"
   ]
  },
  {
   "cell_type": "markdown",
   "metadata": {
    "collapsed": true
   },
   "source": [
    "This indicates that we've successfully used OAuth credentials to gain authorization to query Twitter's API.\n",
    "\n",
    "### Now time to see the trending topics!\n",
    "\n",
    "First, let's have a look at [GET trends/place](https://dev.twitter.com/rest/reference/get/trends/place) objects' official Documentation."
   ]
  },
  {
   "cell_type": "code",
   "execution_count": 15,
   "metadata": {
    "collapsed": false,
    "scrolled": true
   },
   "outputs": [
    {
     "name": "stdout",
     "output_type": "stream",
     "text": [
      "{u'created_at': u'2016-08-17T12:46:05Z', u'trends': [{u'url': u'http://twitter.com/search?q=%23FrasesParaTerminarUnaRelaci%C3%B3n', u'query': u'%23FrasesParaTerminarUnaRelaci%C3%B3n', u'tweet_volume': 25683, u'name': u'#FrasesParaTerminarUnaRelaci\\xf3n', u'promoted_content': None}, {u'url': u'http://twitter.com/search?q=%23CharliePuthIsOverParty', u'query': u'%23CharliePuthIsOverParty', u'tweet_volume': 59652, u'name': u'#CharliePuthIsOverParty', u'promoted_content': None}, {u'url': u'http://twitter.com/search?q=%23FelizMiercoles', u'query': u'%23FelizMiercoles', u'tweet_volume': 21445, u'name': u'#FelizMiercoles', u'promoted_content': None}, {u'url': u'http://twitter.com/search?q=%23%E3%83%87%E3%83%AC%E3%82%B9%E3%83%86%E5%90%8D%E5%88%BA', u'query': u'%23%E3%83%87%E3%83%AC%E3%82%B9%E3%83%86%E5%90%8D%E5%88%BA', u'tweet_volume': 82403, u'name': u'#\\u30c7\\u30ec\\u30b9\\u30c6\\u540d\\u523a', u'promoted_content': None}, {u'url': u'http://twitter.com/search?q=%23%D8%A7%D8%B3%D9%85%D8%A7%D8%A1_%D8%A7%D8%A8%D9%86%D8%A7%D9%8A%D9%83_%D8%A7%D9%84%D9%85%D8%B3%D8%AA%D9%82%D8%A8%D9%84%D9%8A%D9%8A%D9%86', u'query': u'%23%D8%A7%D8%B3%D9%85%D8%A7%D8%A1_%D8%A7%D8%A8%D9%86%D8%A7%D9%8A%D9%83_%D8%A7%D9%84%D9%85%D8%B3%D8%AA%D9%82%D8%A8%D9%84%D9%8A%D9%8A%D9%86', u'tweet_volume': None, u'name': u'#\\u0627\\u0633\\u0645\\u0627\\u0621_\\u0627\\u0628\\u0646\\u0627\\u064a\\u0643_\\u0627\\u0644\\u0645\\u0633\\u062a\\u0642\\u0628\\u0644\\u064a\\u064a\\u0646', u'promoted_content': None}, {u'url': u'http://twitter.com/search?q=%22Lin+Dan%22', u'query': u'%22Lin+Dan%22', u'tweet_volume': None, u'name': u'Lin Dan', u'promoted_content': None}, {u'url': u'http://twitter.com/search?q=%22Metal+Gear+Survive%22', u'query': u'%22Metal+Gear+Survive%22', u'tweet_volume': 30580, u'name': u'Metal Gear Survive', u'promoted_content': None}, {u'url': u'http://twitter.com/search?q=Breitbart', u'query': u'Breitbart', u'tweet_volume': 104050, u'name': u'Breitbart', u'promoted_content': None}, {u'url': u'http://twitter.com/search?q=%22Pat+Hickey%22', u'query': u'%22Pat+Hickey%22', u'tweet_volume': None, u'name': u'Pat Hickey', u'promoted_content': None}, {u'url': u'http://twitter.com/search?q=%22Teri+Khair+Mangdi%22', u'query': u'%22Teri+Khair+Mangdi%22', u'tweet_volume': None, u'name': u'Teri Khair Mangdi', u'promoted_content': None}, {u'url': u'http://twitter.com/search?q=%E3%83%A1%E3%82%BF%E3%83%AB%E3%82%AE%E3%82%A2', u'query': u'%E3%83%A1%E3%82%BF%E3%83%AB%E3%82%AE%E3%82%A2', u'tweet_volume': 42141, u'name': u'\\u30e1\\u30bf\\u30eb\\u30ae\\u30a2', u'promoted_content': None}, {u'url': u'http://twitter.com/search?q=Konami', u'query': u'Konami', u'tweet_volume': 26424, u'name': u'Konami', u'promoted_content': None}, {u'url': u'http://twitter.com/search?q=%23WednesdayWisdom', u'query': u'%23WednesdayWisdom', u'tweet_volume': 29623, u'name': u'#WednesdayWisdom', u'promoted_content': None}, {u'url': u'http://twitter.com/search?q=%23%D8%A7%D9%84%D8%A7%D8%AC%D9%86%D8%A8%D9%8A%D9%87_%D8%A7%D9%84%D8%B2%D9%88%D8%AC%D9%87_%D8%A7%D9%84%D9%85%D8%AB%D8%A7%D9%84%D9%8A%D9%87', u'query': u'%23%D8%A7%D9%84%D8%A7%D8%AC%D9%86%D8%A8%D9%8A%D9%87_%D8%A7%D9%84%D8%B2%D9%88%D8%AC%D9%87_%D8%A7%D9%84%D9%85%D8%AB%D8%A7%D9%84%D9%8A%D9%87', u'tweet_volume': None, u'name': u'#\\u0627\\u0644\\u0627\\u062c\\u0646\\u0628\\u064a\\u0647_\\u0627\\u0644\\u0632\\u0648\\u062c\\u0647_\\u0627\\u0644\\u0645\\u062b\\u0627\\u0644\\u064a\\u0647', u'promoted_content': None}, {u'url': u'http://twitter.com/search?q=%23Taekwondo', u'query': u'%23Taekwondo', u'tweet_volume': None, u'name': u'#Taekwondo', u'promoted_content': None}, {u'url': u'http://twitter.com/search?q=%23%E7%AB%A5%E8%B2%9E%E3%82%92%E5%8D%92%E6%A5%AD%E3%81%A7%E3%81%8D%E3%82%8B%E5%B9%B4%E9%BD%A2', u'query': u'%23%E7%AB%A5%E8%B2%9E%E3%82%92%E5%8D%92%E6%A5%AD%E3%81%A7%E3%81%8D%E3%82%8B%E5%B9%B4%E9%BD%A2', u'tweet_volume': 20094, u'name': u'#\\u7ae5\\u8c9e\\u3092\\u5352\\u696d\\u3067\\u304d\\u308b\\u5e74\\u9f62', u'promoted_content': None}, {u'url': u'http://twitter.com/search?q=%23%D9%85%D8%BA%D8%B1%D8%AF_%D8%B4%D8%A8%D9%8A%D9%87_%D9%84%D9%83_%D8%A8%D8%A7%D9%84%D8%A7%D8%B3%D9%84%D9%88%D8%A8', u'query': u'%23%D9%85%D8%BA%D8%B1%D8%AF_%D8%B4%D8%A8%D9%8A%D9%87_%D9%84%D9%83_%D8%A8%D8%A7%D9%84%D8%A7%D8%B3%D9%84%D9%88%D8%A8', u'tweet_volume': None, u'name': u'#\\u0645\\u063a\\u0631\\u062f_\\u0634\\u0628\\u064a\\u0647_\\u0644\\u0643_\\u0628\\u0627\\u0644\\u0627\\u0633\\u0644\\u0648\\u0628', u'promoted_content': None}, {u'url': u'http://twitter.com/search?q=%23fav7footballers', u'query': u'%23fav7footballers', u'tweet_volume': None, u'name': u'#fav7footballers', u'promoted_content': None}, {u'url': u'http://twitter.com/search?q=%23PSLLastSquadStanding', u'query': u'%23PSLLastSquadStanding', u'tweet_volume': 29158, u'name': u'#PSLLastSquadStanding', u'promoted_content': None}, {u'url': u'http://twitter.com/search?q=%23%E7%81%BD%E5%AE%B3%E3%81%A7%E3%81%AE%E3%81%8A%E3%83%BB%E3%81%AF%E3%83%BB%E3%81%97%E3%82%92%E4%BA%88%E6%B8%AC%E5%A4%89%E6%8F%9B', u'query': u'%23%E7%81%BD%E5%AE%B3%E3%81%A7%E3%81%AE%E3%81%8A%E3%83%BB%E3%81%AF%E3%83%BB%E3%81%97%E3%82%92%E4%BA%88%E6%B8%AC%E5%A4%89%E6%8F%9B', u'tweet_volume': 21985, u'name': u'#\\u707d\\u5bb3\\u3067\\u306e\\u304a\\u30fb\\u306f\\u30fb\\u3057\\u3092\\u4e88\\u6e2c\\u5909\\u63db', u'promoted_content': None}, {u'url': u'http://twitter.com/search?q=%23AnittaNoEncontro', u'query': u'%23AnittaNoEncontro', u'tweet_volume': None, u'name': u'#AnittaNoEncontro', u'promoted_content': None}, {u'url': u'http://twitter.com/search?q=%23%D8%B4%D9%86%D9%88_%D8%A7%D9%84%D8%B4%D9%8A_%D8%A7%D9%84%D9%84%D9%8A_%D8%AA%D8%AD%D8%A8%D9%87_%D8%A8%D8%A7%D9%84%D9%83%D9%88%D9%8A%D8%AA', u'query': u'%23%D8%B4%D9%86%D9%88_%D8%A7%D9%84%D8%B4%D9%8A_%D8%A7%D9%84%D9%84%D9%8A_%D8%AA%D8%AD%D8%A8%D9%87_%D8%A8%D8%A7%D9%84%D9%83%D9%88%D9%8A%D8%AA', u'tweet_volume': None, u'name': u'#\\u0634\\u0646\\u0648_\\u0627\\u0644\\u0634\\u064a_\\u0627\\u0644\\u0644\\u064a_\\u062a\\u062d\\u0628\\u0647_\\u0628\\u0627\\u0644\\u0643\\u0648\\u064a\\u062a', u'promoted_content': None}, {u'url': u'http://twitter.com/search?q=%23EncantadiaPagaspas', u'query': u'%23EncantadiaPagaspas', u'tweet_volume': 37119, u'name': u'#EncantadiaPagaspas', u'promoted_content': None}, {u'url': u'http://twitter.com/search?q=%23%EC%88%A0%EC%A7%91_%EC%98%86%EC%9E%90%EB%A6%AC%EC%97%90_%EC%B5%9C%EC%95%A0%EC%BA%90%EA%B0%80_%EC%95%89%EB%8A%94%EB%8B%A4%EB%A9%B4', u'query': u'%23%EC%88%A0%EC%A7%91_%EC%98%86%EC%9E%90%EB%A6%AC%EC%97%90_%EC%B5%9C%EC%95%A0%EC%BA%90%EA%B0%80_%EC%95%89%EB%8A%94%EB%8B%A4%EB%A9%B4', u'tweet_volume': None, u'name': u'#\\uc220\\uc9d1_\\uc606\\uc790\\ub9ac\\uc5d0_\\ucd5c\\uc560\\uce90\\uac00_\\uc549\\ub294\\ub2e4\\uba74', u'promoted_content': None}, {u'url': u'http://twitter.com/search?q=%23%E5%A4%89%E6%85%8B%E3%83%AC%E3%83%99%E3%83%AB', u'query': u'%23%E5%A4%89%E6%85%8B%E3%83%AC%E3%83%99%E3%83%AB', u'tweet_volume': 14241, u'name': u'#\\u5909\\u614b\\u30ec\\u30d9\\u30eb', u'promoted_content': None}, {u'url': u'http://twitter.com/search?q=%23ScreamSeasonFinale', u'query': u'%23ScreamSeasonFinale', u'tweet_volume': 106565, u'name': u'#ScreamSeasonFinale', u'promoted_content': None}, {u'url': u'http://twitter.com/search?q=%2317A%C4%9Fustos', u'query': u'%2317A%C4%9Fustos', u'tweet_volume': 118531, u'name': u'#17A\\u011fustos', u'promoted_content': None}, {u'url': u'http://twitter.com/search?q=%23TwitterFRvsFacebookFR', u'query': u'%23TwitterFRvsFacebookFR', u'tweet_volume': 10929, u'name': u'#TwitterFRvsFacebookFR', u'promoted_content': None}, {u'url': u'http://twitter.com/search?q=%23NosEMohJovemMas', u'query': u'%23NosEMohJovemMas', u'tweet_volume': None, u'name': u'#NosEMohJovemMas', u'promoted_content': None}, {u'url': u'http://twitter.com/search?q=%23CoalitionTalks', u'query': u'%23CoalitionTalks', u'tweet_volume': 13572, u'name': u'#CoalitionTalks', u'promoted_content': None}, {u'url': u'http://twitter.com/search?q=%23%EC%9D%B4_%EC%82%AC%EB%9E%8C%EC%9D%80_%EB%B6%84%EC%9C%84%EA%B8%B0%EC%83%81_%EC%96%B4%EB%94%94%EC%86%8C%EC%86%8D', u'query': u'%23%EC%9D%B4_%EC%82%AC%EB%9E%8C%EC%9D%80_%EB%B6%84%EC%9C%84%EA%B8%B0%EC%83%81_%EC%96%B4%EB%94%94%EC%86%8C%EC%86%8D', u'tweet_volume': None, u'name': u'#\\uc774_\\uc0ac\\ub78c\\uc740_\\ubd84\\uc704\\uae30\\uc0c1_\\uc5b4\\ub514\\uc18c\\uc18d', u'promoted_content': None}, {u'url': u'http://twitter.com/search?q=%23ChintaKaVaccine', u'query': u'%23ChintaKaVaccine', u'tweet_volume': None, u'name': u'#ChintaKaVaccine', u'promoted_content': None}, {u'url': u'http://twitter.com/search?q=%23%D8%AD%D8%B2%D8%A8_%D8%A7%D9%84%D9%84%D9%8A_%D9%85%D8%A7%D9%8A%D8%AD%D8%A8%D9%88%D9%86_%D8%A7%D9%84%D9%81%D9%84%D8%A7%D9%81%D9%84', u'query': u'%23%D8%AD%D8%B2%D8%A8_%D8%A7%D9%84%D9%84%D9%8A_%D9%85%D8%A7%D9%8A%D8%AD%D8%A8%D9%88%D9%86_%D8%A7%D9%84%D9%81%D9%84%D8%A7%D9%81%D9%84', u'tweet_volume': 13346, u'name': u'#\\u062d\\u0632\\u0628_\\u0627\\u0644\\u0644\\u064a_\\u0645\\u0627\\u064a\\u062d\\u0628\\u0648\\u0646_\\u0627\\u0644\\u0641\\u0644\\u0627\\u0641\\u0644', u'promoted_content': None}, {u'url': u'http://twitter.com/search?q=%23FandomsSegueFandoms', u'query': u'%23FandomsSegueFandoms', u'tweet_volume': 26224, u'name': u'#FandomsSegueFandoms', u'promoted_content': None}, {u'url': u'http://twitter.com/search?q=%23TheBachelorAU', u'query': u'%23TheBachelorAU', u'tweet_volume': None, u'name': u'#TheBachelorAU', u'promoted_content': None}, {u'url': u'http://twitter.com/search?q=%23IOI2ndWin', u'query': u'%23IOI2ndWin', u'tweet_volume': 12599, u'name': u'#IOI2ndWin', u'promoted_content': None}, {u'url': u'http://twitter.com/search?q=%23SanMartin', u'query': u'%23SanMartin', u'tweet_volume': None, u'name': u'#SanMartin', u'promoted_content': None}, {u'url': u'http://twitter.com/search?q=%23Dame5MinutosMasPara', u'query': u'%23Dame5MinutosMasPara', u'tweet_volume': None, u'name': u'#Dame5MinutosMasPara', u'promoted_content': None}, {u'url': u'http://twitter.com/search?q=%23HappyBirthdayDayaGada', u'query': u'%23HappyBirthdayDayaGada', u'tweet_volume': None, u'name': u'#HappyBirthdayDayaGada', u'promoted_content': None}, {u'url': u'http://twitter.com/search?q=%23EsDeMalaEducacion', u'query': u'%23EsDeMalaEducacion', u'tweet_volume': None, u'name': u'#EsDeMalaEducacion', u'promoted_content': None}, {u'url': u'http://twitter.com/search?q=%23GiftAHabit', u'query': u'%23GiftAHabit', u'tweet_volume': 17590, u'name': u'#GiftAHabit', u'promoted_content': None}, {u'url': u'http://twitter.com/search?q=%23%D8%A7%D9%82%D8%AA%D8%B1%D8%AD_%D8%B9%D9%84%D9%8A_%D8%A7%D9%84%D8%AD%D9%83%D9%88%D9%85%D9%87_%D8%B6%D8%B1%D9%8A%D8%A8%D9%87', u'query': u'%23%D8%A7%D9%82%D8%AA%D8%B1%D8%AD_%D8%B9%D9%84%D9%8A_%D8%A7%D9%84%D8%AD%D9%83%D9%88%D9%85%D9%87_%D8%B6%D8%B1%D9%8A%D8%A8%D9%87', u'tweet_volume': None, u'name': u'#\\u0627\\u0642\\u062a\\u0631\\u062d_\\u0639\\u0644\\u064a_\\u0627\\u0644\\u062d\\u0643\\u0648\\u0645\\u0647_\\u0636\\u0631\\u064a\\u0628\\u0647', u'promoted_content': None}, {u'url': u'http://twitter.com/search?q=%23Z3NCREDIBLE', u'query': u'%23Z3NCREDIBLE', u'tweet_volume': None, u'name': u'#Z3NCREDIBLE', u'promoted_content': None}, {u'url': u'http://twitter.com/search?q=%23SakshiMalik', u'query': u'%23SakshiMalik', u'tweet_volume': None, u'name': u'#SakshiMalik', u'promoted_content': None}, {u'url': u'http://twitter.com/search?q=%23%D8%A8%D9%8A%D8%AA_%D9%8A%D9%85%D8%AB%D9%84%D9%86%D9%8A_%D9%84%D9%84%D8%B4%D8%A7%D8%B9%D8%B1', u'query': u'%23%D8%A8%D9%8A%D8%AA_%D9%8A%D9%85%D8%AB%D9%84%D9%86%D9%8A_%D9%84%D9%84%D8%B4%D8%A7%D8%B9%D8%B1', u'tweet_volume': 31172, u'name': u'#\\u0628\\u064a\\u062a_\\u064a\\u0645\\u062b\\u0644\\u0646\\u064a_\\u0644\\u0644\\u0634\\u0627\\u0639\\u0631', u'promoted_content': None}, {u'url': u'http://twitter.com/search?q=%23My2016ResolutionUpdate', u'query': u'%23My2016ResolutionUpdate', u'tweet_volume': None, u'name': u'#My2016ResolutionUpdate', u'promoted_content': None}, {u'url': u'http://twitter.com/search?q=%23DeberiaSerDeporteOlimpico', u'query': u'%23DeberiaSerDeporteOlimpico', u'tweet_volume': 12730, u'name': u'#DeberiaSerDeporteOlimpico', u'promoted_content': None}, {u'url': u'http://twitter.com/search?q=%23BoyunE%C4%9Fmeyece%C4%9Fiz', u'query': u'%23BoyunE%C4%9Fmeyece%C4%9Fiz', u'tweet_volume': None, u'name': u'#BoyunE\\u011fmeyece\\u011fiz', u'promoted_content': None}, {u'url': u'http://twitter.com/search?q=%23VictoriaLIVE', u'query': u'%23VictoriaLIVE', u'tweet_volume': 27119, u'name': u'#VictoriaLIVE', u'promoted_content': None}, {u'url': u'http://twitter.com/search?q=%23gamescom2016', u'query': u'%23gamescom2016', u'tweet_volume': 32637, u'name': u'#gamescom2016', u'promoted_content': None}], u'as_of': u'2016-08-17T12:49:02Z', u'locations': [{u'woeid': 1, u'name': u'Worldwide'}]}\n"
     ]
    }
   ],
   "source": [
    "# The Yahoo! Where On Earth ID for the entire world is 1.\n",
    "# See https://dev.twitter.com/docs/api/1.1/get/trends/place and\n",
    "# http://developer.yahoo.com/geo/geoplanet/\n",
    "\n",
    "\n",
    "WORLD_WOE_ID = 1\n",
    "US_WOE_ID = 23424977\n",
    "\n",
    "# Prefix ID with the underscore for query string parameterization.\n",
    "# Without the underscore, the twitter package appends the ID value\n",
    "# to the URL itself as a special case keyword argument.\n",
    "\n",
    "world_trends = twitter_api.trends.place(_id=WORLD_WOE_ID)\n",
    "us_trends = twitter_api.trends.place(_id=US_WOE_ID)\n",
    "\n",
    "print world_trends[0]"
   ]
  },
  {
   "cell_type": "code",
   "execution_count": 16,
   "metadata": {
    "collapsed": false
   },
   "outputs": [
    {
     "data": {
      "text/plain": [
       "twitter.api.TwitterListResponse"
      ]
     },
     "execution_count": 16,
     "metadata": {},
     "output_type": "execute_result"
    }
   ],
   "source": [
    "type(world_trends)"
   ]
  },
  {
   "cell_type": "markdown",
   "metadata": {},
   "source": [
    "## What is a Json file?\n",
    "JSON is a data exchange format that you will encounter on a regular basis. In a nutshell, JSON provides a way to arbitrarily store maps, lists, primitives such as numbers and strings, and combinations thereof. In other words, you can theoretically model just about anything with JSON should you desire to do so. "
   ]
  },
  {
   "cell_type": "code",
   "execution_count": 21,
   "metadata": {
    "collapsed": false,
    "scrolled": false
   },
   "outputs": [
    {
     "name": "stdout",
     "output_type": "stream",
     "text": [
      "[\n",
      " {\n",
      "  \"created_at\": \"2016-08-17T12:46:05Z\", \n",
      "  \"trends\": [\n",
      "   {\n",
      "    \"url\": \"http://twitter.com/search?q=%23WednesdayWisdom\", \n",
      "    \"query\": \"%23WednesdayWisdom\", \n",
      "    \"tweet_volume\": 29623, \n",
      "    \"name\": \"#WednesdayWisdom\", \n",
      "    \"promoted_content\": null\n",
      "   }, \n",
      "   {\n",
      "    \"url\": \"http://twitter.com/search?q=Breitbart\", \n",
      "    \"query\": \"Breitbart\", \n",
      "    \"tweet_volume\": 104050, \n",
      "    \"name\": \"Breitbart\", \n",
      "    \"promoted_content\": null\n",
      "   }, \n",
      "   {\n",
      "    \"url\": \"http://twitter.com/search?q=%23My2016ResolutionUpdate\", \n",
      "    \"query\": \"%23My2016ResolutionUpdate\", \n",
      "    \"tweet_volume\": null, \n",
      "    \"name\": \"#My2016ResolutionUpdate\", \n",
      "    \"promoted_content\": null\n",
      "   }, \n",
      "   {\n",
      "    \"url\": \"http://twitter.com/search?q=%23CharliePuthIsOverParty\", \n",
      "    \"query\": \"%23CharliePuthIsOverParty\", \n",
      "    \"tweet_volume\": 59652, \n",
      "    \"name\": \"#CharliePuthIsOverParty\", \n",
      "    \"promoted_content\": null\n",
      "   }, \n",
      "   {\n",
      "    \"url\": \"http://twitter.com/search?q=%23WhiteLiberalProverbs\", \n",
      "    \"query\": \"%23WhiteLiberalProverbs\", \n",
      "    \"tweet_volume\": 13390, \n",
      "    \"name\": \"#WhiteLiberalProverbs\", \n",
      "    \"promoted_content\": null\n",
      "   }, \n",
      "   {\n",
      "    \"url\": \"http://twitter.com/search?q=%22Steve+Bannon%22\", \n",
      "    \"query\": \"%22Steve+Bannon%22\", \n",
      "    \"tweet_volume\": null, \n",
      "    \"name\": \"Steve Bannon\", \n",
      "    \"promoted_content\": null\n",
      "   }, \n",
      "   {\n",
      "    \"url\": \"http://twitter.com/search?q=%23IWasGoingToplayThisGameBut\", \n",
      "    \"query\": \"%23IWasGoingToplayThisGameBut\", \n",
      "    \"tweet_volume\": null, \n",
      "    \"name\": \"#IWasGoingToplayThisGameBut\", \n",
      "    \"promoted_content\": null\n",
      "   }, \n",
      "   {\n",
      "    \"url\": \"http://twitter.com/search?q=%22Metal+Gear+Survive%22\", \n",
      "    \"query\": \"%22Metal+Gear+Survive%22\", \n",
      "    \"tweet_volume\": 30580, \n",
      "    \"name\": \"Metal Gear Survive\", \n",
      "    \"promoted_content\": null\n",
      "   }, \n",
      "   {\n",
      "    \"url\": \"http://twitter.com/search?q=%22Hump+Day%22\", \n",
      "    \"query\": \"%22Hump+Day%22\", \n",
      "    \"tweet_volume\": 14201, \n",
      "    \"name\": \"Hump Day\", \n",
      "    \"promoted_content\": null\n",
      "   }, \n",
      "   {\n",
      "    \"url\": \"http://twitter.com/search?q=%22Patrick+Hickey%22\", \n",
      "    \"query\": \"%22Patrick+Hickey%22\", \n",
      "    \"tweet_volume\": null, \n",
      "    \"name\": \"Patrick Hickey\", \n",
      "    \"promoted_content\": null\n",
      "   }, \n",
      "   {\n",
      "    \"url\": \"http://twitter.com/search?q=%22We%27re+LIVE+ON-AIR%22\", \n",
      "    \"query\": \"%22We%27re+LIVE+ON-AIR%22\", \n",
      "    \"tweet_volume\": null, \n",
      "    \"name\": \"We're LIVE ON-AIR\", \n",
      "    \"promoted_content\": null\n",
      "   }, \n",
      "   {\n",
      "    \"url\": \"http://twitter.com/search?q=%22Tax+Debt+Was+%2430+Million%22\", \n",
      "    \"query\": \"%22Tax+Debt+Was+%2430+Million%22\", \n",
      "    \"tweet_volume\": null, \n",
      "    \"name\": \"Tax Debt Was $30 Million\", \n",
      "    \"promoted_content\": null\n",
      "   }, \n",
      "   {\n",
      "    \"url\": \"http://twitter.com/search?q=%22Podesta+Group%22\", \n",
      "    \"query\": \"%22Podesta+Group%22\", \n",
      "    \"tweet_volume\": null, \n",
      "    \"name\": \"Podesta Group\", \n",
      "    \"promoted_content\": null\n",
      "   }, \n",
      "   {\n",
      "    \"url\": \"http://twitter.com/search?q=%22Mae+West%22\", \n",
      "    \"query\": \"%22Mae+West%22\", \n",
      "    \"tweet_volume\": null, \n",
      "    \"name\": \"Mae West\", \n",
      "    \"promoted_content\": null\n",
      "   }, \n",
      "   {\n",
      "    \"url\": \"http://twitter.com/search?q=%22Ted+Hughes%22\", \n",
      "    \"query\": \"%22Ted+Hughes%22\", \n",
      "    \"tweet_volume\": null, \n",
      "    \"name\": \"Ted Hughes\", \n",
      "    \"promoted_content\": null\n",
      "   }, \n",
      "   {\n",
      "    \"url\": \"http://twitter.com/search?q=%22Davy+Crockett%22\", \n",
      "    \"query\": \"%22Davy+Crockett%22\", \n",
      "    \"tweet_volume\": null, \n",
      "    \"name\": \"Davy Crockett\", \n",
      "    \"promoted_content\": null\n",
      "   }, \n",
      "   {\n",
      "    \"url\": \"http://twitter.com/search?q=%22Manus+Island%22\", \n",
      "    \"query\": \"%22Manus+Island%22\", \n",
      "    \"tweet_volume\": null, \n",
      "    \"name\": \"Manus Island\", \n",
      "    \"promoted_content\": null\n",
      "   }, \n",
      "   {\n",
      "    \"url\": \"http://twitter.com/search?q=A-Line\", \n",
      "    \"query\": \"A-Line\", \n",
      "    \"tweet_volume\": 10997, \n",
      "    \"name\": \"A-Line\", \n",
      "    \"promoted_content\": null\n",
      "   }, \n",
      "   {\n",
      "    \"url\": \"http://twitter.com/search?q=%22Spectrum+Center%22\", \n",
      "    \"query\": \"%22Spectrum+Center%22\", \n",
      "    \"tweet_volume\": null, \n",
      "    \"name\": \"Spectrum Center\", \n",
      "    \"promoted_content\": null\n",
      "   }, \n",
      "   {\n",
      "    \"url\": \"http://twitter.com/search?q=%22Tropical+Storm+Fiona%22\", \n",
      "    \"query\": \"%22Tropical+Storm+Fiona%22\", \n",
      "    \"tweet_volume\": null, \n",
      "    \"name\": \"Tropical Storm Fiona\", \n",
      "    \"promoted_content\": null\n",
      "   }, \n",
      "   {\n",
      "    \"url\": \"http://twitter.com/search?q=%22Wade+Green%22\", \n",
      "    \"query\": \"%22Wade+Green%22\", \n",
      "    \"tweet_volume\": null, \n",
      "    \"name\": \"Wade Green\", \n",
      "    \"promoted_content\": null\n",
      "   }, \n",
      "   {\n",
      "    \"url\": \"http://twitter.com/search?q=%22Bill+Kristol%22\", \n",
      "    \"query\": \"%22Bill+Kristol%22\", \n",
      "    \"tweet_volume\": null, \n",
      "    \"name\": \"Bill Kristol\", \n",
      "    \"promoted_content\": null\n",
      "   }, \n",
      "   {\n",
      "    \"url\": \"http://twitter.com/search?q=%231linewed\", \n",
      "    \"query\": \"%231linewed\", \n",
      "    \"tweet_volume\": null, \n",
      "    \"name\": \"#1linewed\", \n",
      "    \"promoted_content\": null\n",
      "   }, \n",
      "   {\n",
      "    \"url\": \"http://twitter.com/search?q=%23blackcatappreciationday\", \n",
      "    \"query\": \"%23blackcatappreciationday\", \n",
      "    \"tweet_volume\": null, \n",
      "    \"name\": \"#blackcatappreciationday\", \n",
      "    \"promoted_content\": null\n",
      "   }, \n",
      "   {\n",
      "    \"url\": \"http://twitter.com/search?q=%23FelizMiercoles\", \n",
      "    \"query\": \"%23FelizMiercoles\", \n",
      "    \"tweet_volume\": 21445, \n",
      "    \"name\": \"#FelizMiercoles\", \n",
      "    \"promoted_content\": null\n",
      "   }, \n",
      "   {\n",
      "    \"url\": \"http://twitter.com/search?q=%23FrasesParaTerminarUnaRelaci%C3%B3n\", \n",
      "    \"query\": \"%23FrasesParaTerminarUnaRelaci%C3%B3n\", \n",
      "    \"tweet_volume\": 25683, \n",
      "    \"name\": \"#FrasesParaTerminarUnaRelaci\\u00f3n\", \n",
      "    \"promoted_content\": null\n",
      "   }, \n",
      "   {\n",
      "    \"url\": \"http://twitter.com/search?q=%23gamescom2016\", \n",
      "    \"query\": \"%23gamescom2016\", \n",
      "    \"tweet_volume\": 32637, \n",
      "    \"name\": \"#gamescom2016\", \n",
      "    \"promoted_content\": null\n",
      "   }, \n",
      "   {\n",
      "    \"url\": \"http://twitter.com/search?q=%23theconf\", \n",
      "    \"query\": \"%23theconf\", \n",
      "    \"tweet_volume\": null, \n",
      "    \"name\": \"#theconf\", \n",
      "    \"promoted_content\": null\n",
      "   }, \n",
      "   {\n",
      "    \"url\": \"http://twitter.com/search?q=%23alevelresults\", \n",
      "    \"query\": \"%23alevelresults\", \n",
      "    \"tweet_volume\": null, \n",
      "    \"name\": \"#alevelresults\", \n",
      "    \"promoted_content\": null\n",
      "   }, \n",
      "   {\n",
      "    \"url\": \"http://twitter.com/search?q=%23HappyBirthdayDonnie\", \n",
      "    \"query\": \"%23HappyBirthdayDonnie\", \n",
      "    \"tweet_volume\": null, \n",
      "    \"name\": \"#HappyBirthdayDonnie\", \n",
      "    \"promoted_content\": null\n",
      "   }, \n",
      "   {\n",
      "    \"url\": \"http://twitter.com/search?q=%23DCSday1\", \n",
      "    \"query\": \"%23DCSday1\", \n",
      "    \"tweet_volume\": null, \n",
      "    \"name\": \"#DCSday1\", \n",
      "    \"promoted_content\": null\n",
      "   }, \n",
      "   {\n",
      "    \"url\": \"http://twitter.com/search?q=%23RioTODAY\", \n",
      "    \"query\": \"%23RioTODAY\", \n",
      "    \"tweet_volume\": null, \n",
      "    \"name\": \"#RioTODAY\", \n",
      "    \"promoted_content\": null\n",
      "   }, \n",
      "   {\n",
      "    \"url\": \"http://twitter.com/search?q=%23HCSD1\", \n",
      "    \"query\": \"%23HCSD1\", \n",
      "    \"tweet_volume\": null, \n",
      "    \"name\": \"#HCSD1\", \n",
      "    \"promoted_content\": null\n",
      "   }, \n",
      "   {\n",
      "    \"url\": \"http://twitter.com/search?q=%23PSLLastSquadStanding\", \n",
      "    \"query\": \"%23PSLLastSquadStanding\", \n",
      "    \"tweet_volume\": 29158, \n",
      "    \"name\": \"#PSLLastSquadStanding\", \n",
      "    \"promoted_content\": null\n",
      "   }, \n",
      "   {\n",
      "    \"url\": \"http://twitter.com/search?q=%23GiveTheGaysSmoothies\", \n",
      "    \"query\": \"%23GiveTheGaysSmoothies\", \n",
      "    \"tweet_volume\": null, \n",
      "    \"name\": \"#GiveTheGaysSmoothies\", \n",
      "    \"promoted_content\": null\n",
      "   }, \n",
      "   {\n",
      "    \"url\": \"http://twitter.com/search?q=%23firstdaysofschool\", \n",
      "    \"query\": \"%23firstdaysofschool\", \n",
      "    \"tweet_volume\": null, \n",
      "    \"name\": \"#firstdaysofschool\", \n",
      "    \"promoted_content\": null\n",
      "   }, \n",
      "   {\n",
      "    \"url\": \"http://twitter.com/search?q=%23inc5000\", \n",
      "    \"query\": \"%23inc5000\", \n",
      "    \"tweet_volume\": null, \n",
      "    \"name\": \"#inc5000\", \n",
      "    \"promoted_content\": null\n",
      "   }, \n",
      "   {\n",
      "    \"url\": \"http://twitter.com/search?q=%2317Ago\", \n",
      "    \"query\": \"%2317Ago\", \n",
      "    \"tweet_volume\": null, \n",
      "    \"name\": \"#17Ago\", \n",
      "    \"promoted_content\": null\n",
      "   }, \n",
      "   {\n",
      "    \"url\": \"http://twitter.com/search?q=%23ChintaKaVaccine\", \n",
      "    \"query\": \"%23ChintaKaVaccine\", \n",
      "    \"tweet_volume\": null, \n",
      "    \"name\": \"#ChintaKaVaccine\", \n",
      "    \"promoted_content\": null\n",
      "   }, \n",
      "   {\n",
      "    \"url\": \"http://twitter.com/search?q=%23PerrieDay\", \n",
      "    \"query\": \"%23PerrieDay\", \n",
      "    \"tweet_volume\": 17776, \n",
      "    \"name\": \"#PerrieDay\", \n",
      "    \"promoted_content\": null\n",
      "   }, \n",
      "   {\n",
      "    \"url\": \"http://twitter.com/search?q=%23ItMustBeA\", \n",
      "    \"query\": \"%23ItMustBeA\", \n",
      "    \"tweet_volume\": null, \n",
      "    \"name\": \"#ItMustBeA\", \n",
      "    \"promoted_content\": null\n",
      "   }, \n",
      "   {\n",
      "    \"url\": \"http://twitter.com/search?q=%23VictoriaLIVE\", \n",
      "    \"query\": \"%23VictoriaLIVE\", \n",
      "    \"tweet_volume\": 27119, \n",
      "    \"name\": \"#VictoriaLIVE\", \n",
      "    \"promoted_content\": null\n",
      "   }, \n",
      "   {\n",
      "    \"url\": \"http://twitter.com/search?q=%23NewsOneNow\", \n",
      "    \"query\": \"%23NewsOneNow\", \n",
      "    \"tweet_volume\": null, \n",
      "    \"name\": \"#NewsOneNow\", \n",
      "    \"promoted_content\": null\n",
      "   }, \n",
      "   {\n",
      "    \"url\": \"http://twitter.com/search?q=%23XboxGC\", \n",
      "    \"query\": \"%23XboxGC\", \n",
      "    \"tweet_volume\": null, \n",
      "    \"name\": \"#XboxGC\", \n",
      "    \"promoted_content\": null\n",
      "   }, \n",
      "   {\n",
      "    \"url\": \"http://twitter.com/search?q=%23ShawnWorldTourLowell\", \n",
      "    \"query\": \"%23ShawnWorldTourLowell\", \n",
      "    \"tweet_volume\": null, \n",
      "    \"name\": \"#ShawnWorldTourLowell\", \n",
      "    \"promoted_content\": null\n",
      "   }, \n",
      "   {\n",
      "    \"url\": \"http://twitter.com/search?q=%23GoldinUS\", \n",
      "    \"query\": \"%23GoldinUS\", \n",
      "    \"tweet_volume\": null, \n",
      "    \"name\": \"#GoldinUS\", \n",
      "    \"promoted_content\": null\n",
      "   }, \n",
      "   {\n",
      "    \"url\": \"http://twitter.com/search?q=%23DeberiaSerDeporteOlimpico\", \n",
      "    \"query\": \"%23DeberiaSerDeporteOlimpico\", \n",
      "    \"tweet_volume\": 12730, \n",
      "    \"name\": \"#DeberiaSerDeporteOlimpico\", \n",
      "    \"promoted_content\": null\n",
      "   }, \n",
      "   {\n",
      "    \"url\": \"http://twitter.com/search?q=%23Injustice2\", \n",
      "    \"query\": \"%23Injustice2\", \n",
      "    \"tweet_volume\": null, \n",
      "    \"name\": \"#Injustice2\", \n",
      "    \"promoted_content\": null\n",
      "   }, \n",
      "   {\n",
      "    \"url\": \"http://twitter.com/search?q=%23RumorReport\", \n",
      "    \"query\": \"%23RumorReport\", \n",
      "    \"tweet_volume\": null, \n",
      "    \"name\": \"#RumorReport\", \n",
      "    \"promoted_content\": null\n",
      "   }, \n",
      "   {\n",
      "    \"url\": \"http://twitter.com/search?q=%23SHMS\", \n",
      "    \"query\": \"%23SHMS\", \n",
      "    \"tweet_volume\": null, \n",
      "    \"name\": \"#SHMS\", \n",
      "    \"promoted_content\": null\n",
      "   }\n",
      "  ], \n",
      "  \"as_of\": \"2016-08-17T12:49:02Z\", \n",
      "  \"locations\": [\n",
      "   {\n",
      "    \"woeid\": 23424977, \n",
      "    \"name\": \"United States\"\n",
      "   }\n",
      "  ]\n",
      " }\n",
      "]\n"
     ]
    }
   ],
   "source": [
    "import json\n",
    "print json.dumps(us_trends, indent=1)"
   ]
  },
  {
   "cell_type": "markdown",
   "metadata": {},
   "source": [
    "### EXERCISE\n",
    "\n",
    "Compute the common trending topics between the US and the World hint: set(), json~list of dicts\n",
    "\n",
    "Interpret the results!"
   ]
  },
  {
   "cell_type": "code",
   "execution_count": 24,
   "metadata": {
    "collapsed": false
   },
   "outputs": [
    {
     "name": "stdout",
     "output_type": "stream",
     "text": [
      "set([u'#FelizMiercoles', u'#My2016ResolutionUpdate', u'#DeberiaSerDeporteOlimpico', u'#CharliePuthIsOverParty', u'#WednesdayWisdom', u'Breitbart', u'#VictoriaLIVE', u'#PSLLastSquadStanding', u'#FrasesParaTerminarUnaRelaci\\xf3n', u'#gamescom2016', u'#ChintaKaVaccine', u'Metal Gear Survive'])\n"
     ]
    }
   ],
   "source": [
    "world_trends_set = set([trend['name'] \n",
    "                        for trend in world_trends[0]['trends']])\n",
    "\n",
    "us_trends_set = set([trend['name'] \n",
    "                     for trend in us_trends[0]['trends']]) \n",
    "\n",
    "common_trends = world_trends_set.intersection(us_trends_set)\n",
    "\n",
    "print common_trends"
   ]
  },
  {
   "cell_type": "code",
   "execution_count": 25,
   "metadata": {
    "collapsed": false
   },
   "outputs": [
    {
     "data": {
      "text/plain": [
       "{u'#17Ago',\n",
       " u'#1linewed',\n",
       " u'#DCSday1',\n",
       " u'#GiveTheGaysSmoothies',\n",
       " u'#GoldinUS',\n",
       " u'#HCSD1',\n",
       " u'#HappyBirthdayDonnie',\n",
       " u'#IWasGoingToplayThisGameBut',\n",
       " u'#Injustice2',\n",
       " u'#ItMustBeA',\n",
       " u'#NewsOneNow',\n",
       " u'#PerrieDay',\n",
       " u'#RioTODAY',\n",
       " u'#RumorReport',\n",
       " u'#SHMS',\n",
       " u'#ShawnWorldTourLowell',\n",
       " u'#WhiteLiberalProverbs',\n",
       " u'#XboxGC',\n",
       " u'#alevelresults',\n",
       " u'#blackcatappreciationday',\n",
       " u'#firstdaysofschool',\n",
       " u'#inc5000',\n",
       " u'#theconf',\n",
       " u'A-Line',\n",
       " u'Bill Kristol',\n",
       " u'Davy Crockett',\n",
       " u'Hump Day',\n",
       " u'Mae West',\n",
       " u'Manus Island',\n",
       " u'Patrick Hickey',\n",
       " u'Podesta Group',\n",
       " u'Spectrum Center',\n",
       " u'Steve Bannon',\n",
       " u'Tax Debt Was $30 Million',\n",
       " u'Ted Hughes',\n",
       " u'Tropical Storm Fiona',\n",
       " u'Wade Green',\n",
       " u\"We're LIVE ON-AIR\"}"
      ]
     },
     "execution_count": 25,
     "metadata": {},
     "output_type": "execute_result"
    }
   ],
   "source": [
    "us_trends_set-world_trends_set"
   ]
  },
  {
   "cell_type": "markdown",
   "metadata": {},
   "source": [
    "### Searching for Tweets\n",
    "\n",
    "Now we will search for tweets regarding the US presidential elections.\n",
    "We have two candidates: Hillary Clinton and Donald Trump\n",
    "\n",
    "*What do you think how should we add these names for searching?"
   ]
  },
  {
   "cell_type": "code",
   "execution_count": 148,
   "metadata": {
    "collapsed": false
   },
   "outputs": [],
   "source": [
    "clinton='hillary' or 'hillaryclinton' or 'Hillary Clinton' or 'Clinton' or '@HillaryCLinton'"
   ]
  },
  {
   "cell_type": "code",
   "execution_count": null,
   "metadata": {
    "collapsed": true
   },
   "outputs": [],
   "source": [
    "count=100"
   ]
  },
  {
   "cell_type": "code",
   "execution_count": 114,
   "metadata": {
    "collapsed": false
   },
   "outputs": [
    {
     "name": "stdout",
     "output_type": "stream",
     "text": [
      "Length of statuses 100\n",
      "Length of statuses 200\n",
      "Length of statuses 400\n",
      "Length of statuses 800\n",
      "Length of statuses 1600\n"
     ]
    }
   ],
   "source": [
    "result=twitter_api.search.tweets(q=query, count=count)\n",
    "statuses = result['statuses']\n",
    "\n",
    "for _ in range(5):\n",
    "    print \"Length of statuses\", len(statuses)\n",
    "    try:\n",
    "        next_results = result['search_metadata']['next_results']\n",
    "    except KeyError, e: # No more results when next_results doesn't exist\n",
    "        break\n",
    "        \n",
    "    # Create a dictionary from next_results, which has the following form:\n",
    "    # ?max_id=313519052523986943&q=NCAA&include_entities=1\n",
    "    kwargs = dict([ kv.split('=') for kv in next_results[1:].split(\"&\") ])\n",
    "    \n",
    "    search_results = twitter_api.search.tweets(**kwargs)\n",
    "    statuses += result['statuses']\n"
   ]
  },
  {
   "cell_type": "code",
   "execution_count": 115,
   "metadata": {
    "collapsed": false
   },
   "outputs": [
    {
     "name": "stdout",
     "output_type": "stream",
     "text": [
      "{\n",
      " \"contributors\": null, \n",
      " \"truncated\": false, \n",
      " \"text\": \"RT @jenilynn1001: I'm one of them!! Poll: Three out of five Texans support secession if Hillary becomes president https://t.co/T8NWatzE5r v\\u2026\", \n",
      " \"is_quote_status\": false, \n",
      " \"in_reply_to_status_id\": null, \n",
      " \"id\": 765941328928608256, \n",
      " \"favorite_count\": 0, \n",
      " \"entities\": {\n",
      "  \"symbols\": [], \n",
      "  \"user_mentions\": [\n",
      "   {\n",
      "    \"id\": 33270656, \n",
      "    \"indices\": [\n",
      "     3, \n",
      "     16\n",
      "    ], \n",
      "    \"id_str\": \"33270656\", \n",
      "    \"screen_name\": \"jenilynn1001\", \n",
      "    \"name\": \"Jennifer #Trump2016\"\n",
      "   }, \n",
      "   {\n",
      "    \"id\": 8940342, \n",
      "    \"indices\": [\n",
      "     139, \n",
      "     140\n",
      "    ], \n",
      "    \"id_str\": \"8940342\", \n",
      "    \"screen_name\": \"HoustonChron\", \n",
      "    \"name\": \"Houston Chronicle\"\n",
      "   }\n",
      "  ], \n",
      "  \"hashtags\": [], \n",
      "  \"urls\": [\n",
      "   {\n",
      "    \"url\": \"https://t.co/T8NWatzE5r\", \n",
      "    \"indices\": [\n",
      "     114, \n",
      "     137\n",
      "    ], \n",
      "    \"expanded_url\": \"http://m.chron.com/news/politics/election/article/Poll-Three-out-of-five-Texans-support-secession-9146807.php?cmpid=twitter-mobile\", \n",
      "    \"display_url\": \"m.chron.com/news/politics/\\u2026\"\n",
      "   }\n",
      "  ]\n",
      " }, \n",
      " \"retweeted\": false, \n",
      " \"coordinates\": null, \n",
      " \"source\": \"<a href=\\\"http://twitter.com/download/iphone\\\" rel=\\\"nofollow\\\">Twitter for iPhone</a>\", \n",
      " \"in_reply_to_screen_name\": null, \n",
      " \"in_reply_to_user_id\": null, \n",
      " \"retweet_count\": 3, \n",
      " \"id_str\": \"765941328928608256\", \n",
      " \"favorited\": false, \n",
      " \"retweeted_status\": {\n",
      "  \"contributors\": null, \n",
      "  \"truncated\": false, \n",
      "  \"text\": \"I'm one of them!! Poll: Three out of five Texans support secession if Hillary becomes president https://t.co/T8NWatzE5r via @houstonchron\", \n",
      "  \"is_quote_status\": false, \n",
      "  \"in_reply_to_status_id\": null, \n",
      "  \"id\": 765936523074150401, \n",
      "  \"favorite_count\": 5, \n",
      "  \"entities\": {\n",
      "   \"symbols\": [], \n",
      "   \"user_mentions\": [\n",
      "    {\n",
      "     \"id\": 8940342, \n",
      "     \"indices\": [\n",
      "      124, \n",
      "      137\n",
      "     ], \n",
      "     \"id_str\": \"8940342\", \n",
      "     \"screen_name\": \"HoustonChron\", \n",
      "     \"name\": \"Houston Chronicle\"\n",
      "    }\n",
      "   ], \n",
      "   \"hashtags\": [], \n",
      "   \"urls\": [\n",
      "    {\n",
      "     \"url\": \"https://t.co/T8NWatzE5r\", \n",
      "     \"indices\": [\n",
      "      96, \n",
      "      119\n",
      "     ], \n",
      "     \"expanded_url\": \"http://m.chron.com/news/politics/election/article/Poll-Three-out-of-five-Texans-support-secession-9146807.php?cmpid=twitter-mobile\", \n",
      "     \"display_url\": \"m.chron.com/news/politics/\\u2026\"\n",
      "    }\n",
      "   ]\n",
      "  }, \n",
      "  \"retweeted\": false, \n",
      "  \"coordinates\": null, \n",
      "  \"source\": \"<a href=\\\"http://twitter.com/download/iphone\\\" rel=\\\"nofollow\\\">Twitter for iPhone</a>\", \n",
      "  \"in_reply_to_screen_name\": null, \n",
      "  \"in_reply_to_user_id\": null, \n",
      "  \"retweet_count\": 3, \n",
      "  \"id_str\": \"765936523074150401\", \n",
      "  \"favorited\": false, \n",
      "  \"user\": {\n",
      "   \"follow_request_sent\": false, \n",
      "   \"has_extended_profile\": false, \n",
      "   \"profile_use_background_image\": true, \n",
      "   \"default_profile_image\": false, \n",
      "   \"id\": 33270656, \n",
      "   \"profile_background_image_url_https\": \"https://abs.twimg.com/images/themes/theme4/bg.gif\", \n",
      "   \"verified\": false, \n",
      "   \"profile_text_color\": \"3C3940\", \n",
      "   \"profile_image_url_https\": \"https://pbs.twimg.com/profile_images/751931135911862272/IW_1OSgK_normal.jpg\", \n",
      "   \"profile_sidebar_fill_color\": \"95E8EC\", \n",
      "   \"entities\": {\n",
      "    \"description\": {\n",
      "     \"urls\": []\n",
      "    }\n",
      "   }, \n",
      "   \"followers_count\": 13971, \n",
      "   \"profile_sidebar_border_color\": \"5ED4DC\", \n",
      "   \"id_str\": \"33270656\", \n",
      "   \"profile_background_color\": \"0099B9\", \n",
      "   \"listed_count\": 237, \n",
      "   \"is_translation_enabled\": false, \n",
      "   \"utc_offset\": -14400, \n",
      "   \"statuses_count\": 81106, \n",
      "   \"description\": \"Proud American Mom. Loves Jesus. Former Feminist. Business Owner. College Grad. #TrumpPence16 #AmericaFirst #MakeAmericaGreatAgain #AllLivesMatter #BuildTheWall\", \n",
      "   \"friends_count\": 12163, \n",
      "   \"location\": \"texas\", \n",
      "   \"profile_link_color\": \"9266CC\", \n",
      "   \"profile_image_url\": \"http://pbs.twimg.com/profile_images/751931135911862272/IW_1OSgK_normal.jpg\", \n",
      "   \"following\": false, \n",
      "   \"geo_enabled\": true, \n",
      "   \"profile_banner_url\": \"https://pbs.twimg.com/profile_banners/33270656/1468677636\", \n",
      "   \"profile_background_image_url\": \"http://abs.twimg.com/images/themes/theme4/bg.gif\", \n",
      "   \"screen_name\": \"jenilynn1001\", \n",
      "   \"lang\": \"en\", \n",
      "   \"profile_background_tile\": false, \n",
      "   \"favourites_count\": 61523, \n",
      "   \"name\": \"Jennifer #Trump2016\", \n",
      "   \"notifications\": false, \n",
      "   \"url\": null, \n",
      "   \"created_at\": \"Sun Apr 19 18:24:27 +0000 2009\", \n",
      "   \"contributors_enabled\": false, \n",
      "   \"time_zone\": \"Eastern Time (US & Canada)\", \n",
      "   \"protected\": false, \n",
      "   \"default_profile\": false, \n",
      "   \"is_translator\": false\n",
      "  }, \n",
      "  \"geo\": null, \n",
      "  \"in_reply_to_user_id_str\": null, \n",
      "  \"possibly_sensitive\": false, \n",
      "  \"lang\": \"en\", \n",
      "  \"created_at\": \"Wed Aug 17 15:41:12 +0000 2016\", \n",
      "  \"in_reply_to_status_id_str\": null, \n",
      "  \"place\": null, \n",
      "  \"metadata\": {\n",
      "   \"iso_language_code\": \"en\", \n",
      "   \"result_type\": \"recent\"\n",
      "  }\n",
      " }, \n",
      " \"user\": {\n",
      "  \"follow_request_sent\": false, \n",
      "  \"has_extended_profile\": true, \n",
      "  \"profile_use_background_image\": true, \n",
      "  \"default_profile_image\": false, \n",
      "  \"id\": 741364964653432832, \n",
      "  \"profile_background_image_url_https\": null, \n",
      "  \"verified\": false, \n",
      "  \"profile_text_color\": \"333333\", \n",
      "  \"profile_image_url_https\": \"https://pbs.twimg.com/profile_images/741401955189305344/x_TUaHOJ_normal.jpg\", \n",
      "  \"profile_sidebar_fill_color\": \"DDEEF6\", \n",
      "  \"entities\": {\n",
      "   \"description\": {\n",
      "    \"urls\": []\n",
      "   }\n",
      "  }, \n",
      "  \"followers_count\": 82, \n",
      "  \"profile_sidebar_border_color\": \"C0DEED\", \n",
      "  \"id_str\": \"741364964653432832\", \n",
      "  \"profile_background_color\": \"F5F8FA\", \n",
      "  \"listed_count\": 6, \n",
      "  \"is_translation_enabled\": false, \n",
      "  \"utc_offset\": null, \n",
      "  \"statuses_count\": 1211, \n",
      "  \"description\": \"Living the dream. Conservative. Saltwater fishing enthusiast.\", \n",
      "  \"friends_count\": 161, \n",
      "  \"location\": \"Florida, USA\", \n",
      "  \"profile_link_color\": \"2B7BB9\", \n",
      "  \"profile_image_url\": \"http://pbs.twimg.com/profile_images/741401955189305344/x_TUaHOJ_normal.jpg\", \n",
      "  \"following\": false, \n",
      "  \"geo_enabled\": false, \n",
      "  \"profile_background_image_url\": null, \n",
      "  \"screen_name\": \"kkbrando\", \n",
      "  \"lang\": \"en\", \n",
      "  \"profile_background_tile\": false, \n",
      "  \"favourites_count\": 1407, \n",
      "  \"name\": \"Kevin Brandon\", \n",
      "  \"notifications\": false, \n",
      "  \"url\": null, \n",
      "  \"created_at\": \"Fri Jun 10 20:22:36 +0000 2016\", \n",
      "  \"contributors_enabled\": false, \n",
      "  \"time_zone\": null, \n",
      "  \"protected\": false, \n",
      "  \"default_profile\": true, \n",
      "  \"is_translator\": false\n",
      " }, \n",
      " \"geo\": null, \n",
      " \"in_reply_to_user_id_str\": null, \n",
      " \"possibly_sensitive\": false, \n",
      " \"lang\": \"en\", \n",
      " \"created_at\": \"Wed Aug 17 16:00:17 +0000 2016\", \n",
      " \"in_reply_to_status_id_str\": null, \n",
      " \"place\": null, \n",
      " \"metadata\": {\n",
      "  \"iso_language_code\": \"en\", \n",
      "  \"result_type\": \"recent\"\n",
      " }\n",
      "}\n"
     ]
    }
   ],
   "source": [
    "# Show one sample search result by slicing the list...\n",
    "print json.dumps(statuses[0], indent=1)"
   ]
  },
  {
   "cell_type": "markdown",
   "metadata": {},
   "source": [
    "For a 140 characters long tweet, get quite  a huge amount of data. What kind of entities we have?"
   ]
  },
  {
   "cell_type": "code",
   "execution_count": 117,
   "metadata": {
    "collapsed": false
   },
   "outputs": [
    {
     "data": {
      "text/plain": [
       "[u'contributors',\n",
       " u'truncated',\n",
       " u'text',\n",
       " u'is_quote_status',\n",
       " u'in_reply_to_status_id',\n",
       " u'id',\n",
       " u'favorite_count',\n",
       " u'entities',\n",
       " u'retweeted',\n",
       " u'coordinates',\n",
       " u'source',\n",
       " u'in_reply_to_screen_name',\n",
       " u'in_reply_to_user_id',\n",
       " u'retweet_count',\n",
       " u'id_str',\n",
       " u'favorited',\n",
       " u'retweeted_status',\n",
       " u'user',\n",
       " u'geo',\n",
       " u'in_reply_to_user_id_str',\n",
       " u'possibly_sensitive',\n",
       " u'lang',\n",
       " u'created_at',\n",
       " u'in_reply_to_status_id_str',\n",
       " u'place',\n",
       " u'metadata']"
      ]
     },
     "execution_count": 117,
     "metadata": {},
     "output_type": "execute_result"
    }
   ],
   "source": [
    "statuses[0].keys()"
   ]
  },
  {
   "cell_type": "code",
   "execution_count": 118,
   "metadata": {
    "collapsed": false
   },
   "outputs": [
    {
     "data": {
      "text/plain": [
       "u\"RT @jenilynn1001: I'm one of them!! Poll: Three out of five Texans support secession if Hillary becomes president https://t.co/T8NWatzE5r v\\u2026\""
      ]
     },
     "execution_count": 118,
     "metadata": {},
     "output_type": "execute_result"
    }
   ],
   "source": [
    "statuses[0]['text']"
   ]
  },
  {
   "cell_type": "markdown",
   "metadata": {},
   "source": [
    "### EXERCISE - Please work in pairs!\n",
    "\n",
    "1. Create a function which downloads the last 1600 tweets about a given query set. \n",
    "2. Create a function which finds the mentioned hastags in the downloaded tweets\n",
    "3. Create a function which  finds the mentioned usered in the downloaded tweets\n",
    "4. Save both presidential nominees data into two different json files.\n",
    "5. Compare the frequencies of hastags of Trump and Clinton on the same plot! \n",
    "\n",
    "\n",
    "* Hints:  Feel free to google for the best maplotlib charts these can be useful: Counter, OrderedDict, Bar charts"
   ]
  },
  {
   "cell_type": "code",
   "execution_count": 120,
   "metadata": {
    "collapsed": true
   },
   "outputs": [],
   "source": [
    "def search_twitter(query, count):\n",
    "    result=twitter_api.search.tweets(q=query, count=count)\n",
    "    statuses = result['statuses']\n",
    "\n",
    "    for _ in range(5):\n",
    "        print \"Length of statuses\", len(statuses)\n",
    "        try:\n",
    "            next_results = result['search_metadata']['next_results']\n",
    "        except KeyError, e: # No more results when next_results doesn't exist\n",
    "            break\n",
    "\n",
    "        # Create a dictionary from next_results, which has the following form:\n",
    "        # ?max_id=313519052523986943&q=NCAA&include_entities=1\n",
    "        kwargs = dict([ kv.split('=') for kv in next_results[1:].split(\"&\") ])\n",
    "\n",
    "        search_results = twitter_api.search.tweets(**kwargs)\n",
    "        statuses += result['statuses']\n",
    "        \n",
    "    return statuses\n"
   ]
  },
  {
   "cell_type": "code",
   "execution_count": 121,
   "metadata": {
    "collapsed": true
   },
   "outputs": [],
   "source": [
    "trump='trump' or 'donaldtrump' or 'DonaldTrump'or 'Trump' or 'Donald J. Trump'or '@realDonaldTrump'"
   ]
  },
  {
   "cell_type": "code",
   "execution_count": 146,
   "metadata": {
    "collapsed": false
   },
   "outputs": [
    {
     "name": "stdout",
     "output_type": "stream",
     "text": [
      "Length of statuses 100\n",
      "Length of statuses 200\n",
      "Length of statuses 400\n",
      "Length of statuses 800\n",
      "Length of statuses 1600\n"
     ]
    }
   ],
   "source": [
    "trump_statuses=search_twitter(trump, 100)"
   ]
  },
  {
   "cell_type": "code",
   "execution_count": 149,
   "metadata": {
    "collapsed": false
   },
   "outputs": [
    {
     "name": "stdout",
     "output_type": "stream",
     "text": [
      "Length of statuses 100\n",
      "Length of statuses 200\n",
      "Length of statuses 400\n",
      "Length of statuses 800\n",
      "Length of statuses 1600\n"
     ]
    }
   ],
   "source": [
    "clinton_statuses=search_twitter(clinton, 100)"
   ]
  },
  {
   "cell_type": "code",
   "execution_count": 2,
   "metadata": {
    "collapsed": false
   },
   "outputs": [
    {
     "ename": "NameError",
     "evalue": "name 'json' is not defined",
     "output_type": "error",
     "traceback": [
      "\u001b[1;31m---------------------------------------------------------------------------\u001b[0m",
      "\u001b[1;31mNameError\u001b[0m                                 Traceback (most recent call last)",
      "\u001b[1;32m<ipython-input-2-babfca328412>\u001b[0m in \u001b[0;36m<module>\u001b[1;34m()\u001b[0m\n\u001b[0;32m      1\u001b[0m \u001b[1;32mwith\u001b[0m \u001b[0mopen\u001b[0m\u001b[1;33m(\u001b[0m\u001b[1;34m'clinton_tweets.txt'\u001b[0m\u001b[1;33m,\u001b[0m \u001b[1;34m'w'\u001b[0m\u001b[1;33m)\u001b[0m \u001b[1;32mas\u001b[0m \u001b[0moutfile\u001b[0m\u001b[1;33m:\u001b[0m\u001b[1;33m\u001b[0m\u001b[0m\n\u001b[1;32m----> 2\u001b[1;33m     \u001b[0mjson\u001b[0m\u001b[1;33m.\u001b[0m\u001b[0mdump\u001b[0m\u001b[1;33m(\u001b[0m\u001b[0mclinton_statuses\u001b[0m\u001b[1;33m,\u001b[0m \u001b[0moutfile\u001b[0m\u001b[1;33m)\u001b[0m\u001b[1;33m\u001b[0m\u001b[0m\n\u001b[0m\u001b[0;32m      3\u001b[0m \u001b[1;33m\u001b[0m\u001b[0m\n\u001b[0;32m      4\u001b[0m \u001b[1;32mwith\u001b[0m \u001b[0mopen\u001b[0m\u001b[1;33m(\u001b[0m\u001b[1;34m'trump_tweets.txt'\u001b[0m\u001b[1;33m,\u001b[0m \u001b[1;34m'w'\u001b[0m\u001b[1;33m)\u001b[0m \u001b[1;32mas\u001b[0m \u001b[0moutfile\u001b[0m\u001b[1;33m:\u001b[0m\u001b[1;33m\u001b[0m\u001b[0m\n\u001b[0;32m      5\u001b[0m     \u001b[0mjson\u001b[0m\u001b[1;33m.\u001b[0m\u001b[0mdump\u001b[0m\u001b[1;33m(\u001b[0m\u001b[0mtrump_statuses\u001b[0m\u001b[1;33m,\u001b[0m \u001b[0moutfile\u001b[0m\u001b[1;33m)\u001b[0m\u001b[1;33m\u001b[0m\u001b[0m\n",
      "\u001b[1;31mNameError\u001b[0m: name 'json' is not defined"
     ]
    }
   ],
   "source": [
    "with open('clinton_tweets.txt', 'w') as outfile:\n",
    "    json.dump(clinton_statuses, outfile)\n",
    "    \n",
    "with open('trump_tweets.txt', 'w') as outfile:\n",
    "    json.dump(trump_statuses, outfile)"
   ]
  },
  {
   "cell_type": "code",
   "execution_count": 157,
   "metadata": {
    "collapsed": true
   },
   "outputs": [],
   "source": [
    "def find_hastags(data):\n",
    "    hashtags = [ hashtag['text'] \n",
    "             for status in data\n",
    "                 for hashtag in status['entities']['hashtags'] ]\n",
    "    return hashtags"
   ]
  },
  {
   "cell_type": "code",
   "execution_count": 158,
   "metadata": {
    "collapsed": false
   },
   "outputs": [],
   "source": [
    "clinton_hashtags=find_hastags(clinton_statuses)\n",
    "trump_hashtags=find_hastags(trump_statuses)"
   ]
  },
  {
   "cell_type": "code",
   "execution_count": 131,
   "metadata": {
    "collapsed": true
   },
   "outputs": [],
   "source": [
    "def find_mentioned_users(data):\n",
    "    screen_names=[user_mention['screen_name'] \n",
    "                 for status in statuses\n",
    "                     for user_mention in status['entities']['user_mentions'] ]\n",
    "    return screen_names"
   ]
  },
  {
   "cell_type": "code",
   "execution_count": 152,
   "metadata": {
    "collapsed": true
   },
   "outputs": [],
   "source": [
    "clinton_users=find_mentioned_users(clinton_statuses)\n",
    "trump_users=find_mentioned_users(trump_statuses)"
   ]
  },
  {
   "cell_type": "code",
   "execution_count": 159,
   "metadata": {
    "collapsed": false
   },
   "outputs": [],
   "source": [
    "from collections import Counter, OrderedDict\n",
    "\n",
    "clinton_count=dict(Counter(clinton_hashtags))\n",
    "trump_count=dict(Counter(trump_hashtags))\n",
    "\n",
    "#sorting by count\n",
    "clinton_sorted_by_value = OrderedDict(sorted(clinton_count.items(), key=lambda x: x[1]))\n",
    "trump_sorted_by_value = OrderedDict(sorted(trump_count.items(), key=lambda x: x[1]))\n"
   ]
  },
  {
   "cell_type": "code",
   "execution_count": 160,
   "metadata": {
    "collapsed": false
   },
   "outputs": [
    {
     "data": {
      "text/plain": [
       "(40, 34)"
      ]
     },
     "execution_count": 160,
     "metadata": {},
     "output_type": "execute_result"
    }
   ],
   "source": [
    "len(clinton_sorted_by_value), len(trump_sorted_by_value)"
   ]
  },
  {
   "cell_type": "code",
   "execution_count": 193,
   "metadata": {
    "collapsed": false
   },
   "outputs": [],
   "source": [
    "import matplotlib.pyplot as plt\n",
    "plt.rcdefaults()\n",
    "import numpy as np\n",
    "import matplotlib.pyplot as plt\n",
    "\n",
    "%matplotlib inline\n",
    "\n",
    "\n",
    "def bar_chart(data, title, top):\n",
    "    hashtags = data.keys()[-top:]\n",
    "    y_pos = np.arange(len(hashtags))\n",
    "    mentions = data.values()[-top:]\n",
    "\n",
    "    plt.barh(y_pos, mentions, align='center', alpha=0.4)\n",
    "    plt.yticks(y_pos, hashtags)\n",
    "    plt.xlabel('Number of mentions')\n",
    "    plt.title('Hashtags frequency'+' '+title)\n",
    "\n",
    "    plt.show()\n",
    "\n"
   ]
  },
  {
   "cell_type": "code",
   "execution_count": 198,
   "metadata": {
    "collapsed": false
   },
   "outputs": [
    {
     "data": {
      "image/png": "[encoded data removed]",
      "text/plain": [
       "<matplotlib.figure.Figure at 0x7eff30216490>"
      ]
     },
     "metadata": {},
     "output_type": "display_data"
    }
   ],
   "source": [
    "bar_chart(clinton_sorted_by_value, '- Clinton', 10)"
   ]
  },
  {
   "cell_type": "code",
   "execution_count": 197,
   "metadata": {
    "collapsed": false
   },
   "outputs": [
    {
     "data": {
      "image/png": "[encoded data removed]",
      "text/plain": [
       "<matplotlib.figure.Figure at 0x7eff3010bf50>"
      ]
     },
     "metadata": {},
     "output_type": "display_data"
    }
   ],
   "source": [
    "bar_chart(trump_sorted_by_value, '- Trump', 10)"
   ]
  },
  {
   "cell_type": "markdown",
   "metadata": {
    "collapsed": true
   },
   "source": [
    "## Homework\n",
    "\n",
    "* I will upload the Midterm Assignment by tomorrow midnght, you have one week to complete it.\n",
    "* For the next class, please read the short [introduction to pandas](http://pandas.pydata.org/pandas-docs/stable/10min.html)"
   ]
  }
 ],
 "metadata": {
  "kernelspec": {
   "display_name": "Python [Root]",
   "language": "python",
   "name": "Python [Root]"
  },
  "language_info": {
   "codemirror_mode": {
    "name": "ipython",
    "version": 2
   },
   "file_extension": ".py",
   "mimetype": "text/x-python",
   "name": "python",
   "nbconvert_exporter": "python",
   "pygments_lexer": "ipython2",
   "version": "2.7.12"
  }
 },
 "nbformat": 4,
 "nbformat_minor": 0
}
