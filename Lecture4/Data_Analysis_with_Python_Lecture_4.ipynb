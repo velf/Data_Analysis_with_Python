{
 "cells": [
  {
   "cell_type": "markdown",
   "metadata": {},
   "source": [
    "# Twitter API and Data Visualization\n",
    "\n",
    "Sources and Inspiration: [Class of Roberta Sinatra](http://www.robertasinatra.com/teaching/math5012.html) and [Mining the Social Web](https://github.com/ptwobrussell/Mining-the-Social-Web-2nd-Edition)\n",
    "\n",
    "- #### Today we play some statistical games with `random` and visualize its results with `matplotlib`\n",
    "- #### We will learn how to use the `Twitter API` and plot trending topics"
   ]
  },
  {
   "cell_type": "markdown",
   "metadata": {},
   "source": [
    "### Random \n",
    "\n",
    "As statistics students we must learn about the outstanding `random` package. This lets us do stochastic simulations by giving us a pseudorandom number generator.\n",
    "\n",
    "The minimum a programming language needs for this is a function that gives you access to random floats between zero and one. Python does this:"
   ]
  },
  {
   "cell_type": "code",
   "execution_count": 1,
   "metadata": {
    "collapsed": false
   },
   "outputs": [
    {
     "name": "stdout",
     "output_type": "stream",
     "text": [
      "0.122068567831\n",
      "0.757847132893\n",
      "0.172968985819\n",
      "0.502919011087\n",
      "0.42346077761\n"
     ]
    }
   ],
   "source": [
    "import random\n",
    "\n",
    "for _ in range(5): # underscore makes a handy dummy variable\n",
    "    print random.random()"
   ]
  },
  {
   "cell_type": "markdown",
   "metadata": {},
   "source": [
    "Let's write a function which choose a random element with replacement three times!"
   ]
  },
  {
   "cell_type": "code",
   "execution_count": 2,
   "metadata": {
    "collapsed": false
   },
   "outputs": [
    {
     "name": "stdout",
     "output_type": "stream",
     "text": [
      "cat\n",
      "apple\n",
      "apple\n"
     ]
    }
   ],
   "source": [
    "my_list=['apple', 'ball', 'cat']\n",
    "\n",
    "# sample w/ replacement four times:\n",
    "for i in range(3):\n",
    "    for _ in range(3):\n",
    "        #print _\n",
    "        r = random.random()*len(my_list) # r in [0,4)\n",
    "    #print r, int(r)\n",
    "    print my_list[int(r)] \n"
   ]
  },
  {
   "cell_type": "markdown",
   "metadata": {},
   "source": [
    "It is quit complicated, thanks to `random` we can do it much easier!"
   ]
  },
  {
   "cell_type": "code",
   "execution_count": 4,
   "metadata": {
    "collapsed": false
   },
   "outputs": [
    {
     "name": "stdout",
     "output_type": "stream",
     "text": [
      "cat\n",
      "ball\n",
      "ball\n"
     ]
    }
   ],
   "source": [
    "for _ in range(3): #range is the sample size\n",
    "    print random.choice(my_list)"
   ]
  },
  {
   "cell_type": "markdown",
   "metadata": {},
   "source": [
    "Without replacement?\n",
    "If we want to sample without replacement, meaning the same element cannot be selected more than once, we can use `random.sample`:"
   ]
  },
  {
   "cell_type": "code",
   "execution_count": 5,
   "metadata": {
    "collapsed": false
   },
   "outputs": [
    {
     "name": "stdout",
     "output_type": "stream",
     "text": [
      "[34, 83, 7, 88, 78]\n"
     ]
    }
   ],
   "source": [
    "numbers=range(100)\n",
    "print random.sample(numbers, 5) # make five draws "
   ]
  },
  {
   "cell_type": "markdown",
   "metadata": {},
   "source": [
    "## Matplotlib\n",
    "\n",
    "`matplotlib` is a python 2D plotting library which produces publication quality figures in a variety of hardcopy formats and interactive environments across platforms. `matplotlib` can be used in python scripts, the python and ipython shell (ala MATLAB®* or Mathematica®†), web application servers, and six graphical user interface toolkits. [source](http://matplotlib.org/)\n",
    "\n",
    "* Easy to get started\n",
    "* Support for $\\LaTeX$ formatted labels and texts\n",
    "* Great control of every element in a figure, including figure size and DPI. \n",
    "* High-quality output in many formats, including PNG, PDF, SVG, EPS, and PGF.\n",
    "\n",
    "`Matplotlib` is probably not the fanciest package for data visualization, but the easiest to create charts which are appropriate for scientific publications (eg.: thesis). And it provides the basic syntax to most of the super sexy interactive libaries, suchas `Bokeh` or `Lightning`. `matplotlib` has a super detailed documentation. Thanks to its popularity if you google for any chart type answers are easily accessable at stackoverflow. \n",
    "\n",
    "More information at the Matplotlib web page: http://matplotlib.org/ . There's a [nice gallery](http://matplotlib.org/gallery.html) worth checking out.\n",
    "\n",
    "Resources:\n",
    "* http://kestrel.nmt.edu/~raymond/software/python_notes/paper004.html"
   ]
  },
  {
   "cell_type": "code",
   "execution_count": 6,
   "metadata": {
    "collapsed": false
   },
   "outputs": [],
   "source": [
    "import matplotlib\n",
    "import matplotlib.pyplot as plt\n",
    "# This line configures matplotlib to show figures embedded in the notebook, \n",
    "# instead of opening a new window for each figure. \n",
    "%matplotlib inline"
   ]
  },
  {
   "cell_type": "markdown",
   "metadata": {},
   "source": [
    "## MATLAB-like API\n",
    "The easiest way to get started with plotting using matplotlib is often to use the MATLAB-like API provided by matplotlib. To use this API from matplotlib, we need to include the symbols in the `pylab` module: "
   ]
  },
  {
   "cell_type": "code",
   "execution_count": 7,
   "metadata": {
    "collapsed": true
   },
   "outputs": [],
   "source": [
    "x = range(0, 10)\n",
    "y = [i ** 2 for i in x]"
   ]
  },
  {
   "cell_type": "code",
   "execution_count": 8,
   "metadata": {
    "collapsed": false
   },
   "outputs": [
    {
     "data": {
      "image/png": "[encoded data removed]",
      "text/plain": [
       "<matplotlib.figure.Figure at 0x10a3ec350>"
      ]
     },
     "metadata": {},
     "output_type": "display_data"
    }
   ],
   "source": [
    "plt.figure()\n",
    "plt.plot(x, y, 'r')\n",
    "plt.xlabel('x')\n",
    "plt.ylabel('y')\n",
    "plt.title('title')\n",
    "plt.show()"
   ]
  },
  {
   "cell_type": "markdown",
   "metadata": {},
   "source": [
    "If we would like to get rid of the `plt.` part, we need to include the symbols in the `pylab` module: "
   ]
  },
  {
   "cell_type": "markdown",
   "metadata": {},
   "source": [
    "To use this API from matplotlib, we need to include the symbols in the `pylab` module: ort"
   ]
  },
  {
   "cell_type": "code",
   "execution_count": 9,
   "metadata": {
    "collapsed": false
   },
   "outputs": [],
   "source": [
    "from pylab import *"
   ]
  },
  {
   "cell_type": "code",
   "execution_count": 10,
   "metadata": {
    "collapsed": false
   },
   "outputs": [
    {
     "data": {
      "image/png": "[encoded data removed]",
      "text/plain": [
       "<matplotlib.figure.Figure at 0x10a3de110>"
      ]
     },
     "metadata": {},
     "output_type": "display_data"
    }
   ],
   "source": [
    "subplot(1,2,1)  #creating subplots\n",
    "plot(x, y, 'r--') #colors,and line type\n",
    "subplot(1,2,2)\n",
    "plot(y, x, 'g*-');"
   ]
  },
  {
   "cell_type": "markdown",
   "metadata": {},
   "source": [
    "This Matlab API is very easy to use, but not too efficient, it is good only for the simplest figures.\n",
    "Instead, I recommend learning and using matplotlib's object-oriented plotting API. It is remarkably powerful. For advanced figures with subplots, insets and other components it is very nice to work with. "
   ]
  },
  {
   "cell_type": "markdown",
   "metadata": {},
   "source": [
    "## The matplotlib object-oriented API\n",
    "The main idea with object-oriented programming is to have objects that one can apply functions and actions on, and no object or program states should be global (such as the MATLAB-like API). The real advantage of this approach becomes apparent when more than one figure is created, or when a figure contains more than one subplot. \n",
    "\n",
    "To use the object-oriented API we start out very much like in the previous example, but instead of creating a new global figure instance we store a reference to the newly created figure instance in the `fig` variable, and from it we create a new axis instance `axes` using the `add_axes` method in the `Figure` class instance `fig`:"
   ]
  },
  {
   "cell_type": "code",
   "execution_count": 11,
   "metadata": {
    "collapsed": false
   },
   "outputs": [
    {
     "data": {
      "image/png": "[encoded data removed]",
      "text/plain": [
       "<matplotlib.figure.Figure at 0x10fac2150>"
      ]
     },
     "metadata": {},
     "output_type": "display_data"
    }
   ],
   "source": [
    "fig = plt.figure()\n",
    "\n",
    "axes = fig.add_axes([0.1, 0.1, 0.8, 0.8]) # left, bottom, width, height (range 0 to 1)\n",
    "\n",
    "axes.plot(x, y, 'r')\n",
    "\n",
    "axes.set_xlabel('x')\n",
    "axes.set_ylabel('y')\n",
    "axes.set_title('title');"
   ]
  },
  {
   "cell_type": "markdown",
   "metadata": {},
   "source": [
    "How to make the subplots?"
   ]
  },
  {
   "cell_type": "code",
   "execution_count": 12,
   "metadata": {
    "collapsed": false
   },
   "outputs": [
    {
     "data": {
      "image/png": "[encoded data removed]",
      "text/plain": [
       "<matplotlib.figure.Figure at 0x10a3ec210>"
      ]
     },
     "metadata": {},
     "output_type": "display_data"
    }
   ],
   "source": [
    "fig, axes = plt.subplots(nrows=1, ncols=2)\n",
    "colors=['r--', 'g*-']\n",
    "labels=[['x','y'], ['x','y']]\n",
    "variables=[x,y,x]\n",
    "titles=['x and y', 'y and x']\n",
    "\n",
    "for i in range(2): \n",
    "    axes[i].set_xlabel(labels[i][0])\n",
    "    axes[i].set_ylabel(labels[i][1])\n",
    "    axes[i].set_title(titles[i])\n",
    "    axes[i].plot(variables[i], variables[i+1], colors[i])\n",
    "fig.tight_layout()      \n"
   ]
  },
  {
   "cell_type": "code",
   "execution_count": 13,
   "metadata": {
    "collapsed": false
   },
   "outputs": [
    {
     "data": {
      "image/png": "[encoded data removed]",
      "text/plain": [
       "<matplotlib.figure.Figure at 0x10f6a2990>"
      ]
     },
     "metadata": {},
     "output_type": "display_data"
    }
   ],
   "source": [
    "#Without a loop with a shared ax\n",
    "fig, axes = plt.subplots(2, sharex=True)\n",
    "axes[0].plot(x, y, 'r--')\n",
    "axes[0].set_title('Sharing X axis')\n",
    "axes[0].set_ylabel('y')\n",
    "axes[1].plot(y, x, 'g*-')\n",
    "axes[1].set_ylabel('y')\n",
    "axes[1].set_xlabel('x')\n",
    "fig.tight_layout()\n"
   ]
  },
  {
   "cell_type": "markdown",
   "metadata": {},
   "source": [
    "###  Saving figures"
   ]
  },
  {
   "cell_type": "code",
   "execution_count": 14,
   "metadata": {
    "collapsed": true
   },
   "outputs": [],
   "source": [
    "fig.savefig(\"filename.png\", dpi=200)"
   ]
  },
  {
   "cell_type": "code",
   "execution_count": 15,
   "metadata": {
    "collapsed": false
   },
   "outputs": [
    {
     "name": "stdout",
     "output_type": "stream",
     "text": [
      "Data Analysis with Python Lecture 4.html\r\n",
      "Data Analysis with Python Lecture 4.ipynb\r\n",
      "clinton_tweets.json\r\n",
      "clinton_tweets.txt\r\n",
      "filename.png\r\n",
      "flips.txt\r\n",
      "trump_tweets.txt\r\n"
     ]
    }
   ],
   "source": [
    "dir\n",
    "#ls"
   ]
  },
  {
   "cell_type": "markdown",
   "metadata": {},
   "source": [
    "Let's flip a coin 1000 times, where $p$ is the probability the coin lands on *H*:"
   ]
  },
  {
   "cell_type": "code",
   "execution_count": 16,
   "metadata": {
    "collapsed": false
   },
   "outputs": [
    {
     "name": "stdout",
     "output_type": "stream",
     "text": [
      "['H', 'T', 'H', 'T', 'H', 'T', 'H', 'H', 'H', 'T']\n"
     ]
    }
   ],
   "source": [
    "import random\n",
    "p = 0.7\n",
    "\n",
    "# Flip the coin 1000 times:\n",
    "flips = []\n",
    "while len(flips) < 1000:\n",
    "    if random.random() < p:\n",
    "        flips.append(\"H\") #H: heads\n",
    "    else:\n",
    "        flips.append(\"T\") #T: tails\n",
    "print flips[:10]"
   ]
  },
  {
   "cell_type": "code",
   "execution_count": 17,
   "metadata": {
    "collapsed": false
   },
   "outputs": [],
   "source": [
    "flips_one=['H' if random.random()<p  else 'T' for i in range(1000)]"
   ]
  },
  {
   "cell_type": "code",
   "execution_count": 18,
   "metadata": {
    "collapsed": false
   },
   "outputs": [
    {
     "data": {
      "text/plain": [
       "['H', 'T', 'H', 'H', 'T', 'H', 'H', 'T', 'H', 'H']"
      ]
     },
     "execution_count": 18,
     "metadata": {},
     "output_type": "execute_result"
    }
   ],
   "source": [
    "flips_one[:10]"
   ]
  },
  {
   "cell_type": "markdown",
   "metadata": {},
   "source": [
    "We want to count how many times we see 5 heads in a row, 6 in a row, etc.:\n",
    "\n",
    "1. Convert the list of `H`'s and `T`'s into a single string `HHTHHHTH...`.\n",
    "2. Split that string into a list of substrings whenever there's a `T`.\n",
    "3. Count how long each non-empty string is.\n",
    "4. Count how many times we see each value from 3."
   ]
  },
  {
   "cell_type": "code",
   "execution_count": 22,
   "metadata": {
    "collapsed": false
   },
   "outputs": [
    {
     "name": "stdout",
     "output_type": "stream",
     "text": [
      "HTHTHTHHHTHHTHHTHHTHTHTHHHHHTHHHHHHHHHHHHHHTHHHHHH\n"
     ]
    }
   ],
   "source": [
    "S = \"\".join( flips ) # join each flip by an empty delimiter\n",
    "print S[:50]"
   ]
  },
  {
   "cell_type": "code",
   "execution_count": 23,
   "metadata": {
    "collapsed": false
   },
   "outputs": [
    {
     "data": {
      "text/plain": [
       "['H', 'H', 'H', 'HHH', 'HH', 'HH', 'HH', 'H', 'H', 'HHHHH']"
      ]
     },
     "execution_count": 23,
     "metadata": {},
     "output_type": "execute_result"
    }
   ],
   "source": [
    "heads=S.split('T')\n",
    "heads[:10]"
   ]
  },
  {
   "cell_type": "code",
   "execution_count": 24,
   "metadata": {
    "collapsed": false
   },
   "outputs": [
    {
     "name": "stdout",
     "output_type": "stream",
     "text": [
      "[1, 1, 1, 3, 2, 2, 2, 1]\n"
     ]
    }
   ],
   "source": [
    "run_lengths = [ len(run) for run in heads if run!='' ]\n",
    "print run_lengths[:8]"
   ]
  },
  {
   "cell_type": "code",
   "execution_count": 25,
   "metadata": {
    "collapsed": false
   },
   "outputs": [],
   "source": [
    "from collections import Counter\n",
    "\n",
    "run2count=Counter(run_lengths)"
   ]
  },
  {
   "cell_type": "code",
   "execution_count": 26,
   "metadata": {
    "collapsed": false
   },
   "outputs": [
    {
     "data": {
      "text/plain": [
       "Counter({1: 62,\n",
       "         2: 46,\n",
       "         3: 24,\n",
       "         4: 23,\n",
       "         5: 16,\n",
       "         6: 14,\n",
       "         7: 8,\n",
       "         8: 4,\n",
       "         9: 5,\n",
       "         10: 2,\n",
       "         11: 2,\n",
       "         12: 1,\n",
       "         14: 1,\n",
       "         16: 1})"
      ]
     },
     "execution_count": 26,
     "metadata": {},
     "output_type": "execute_result"
    }
   ],
   "source": [
    "run2count"
   ]
  },
  {
   "cell_type": "markdown",
   "metadata": {},
   "source": [
    "Great! We have statistics, now we can create plots!"
   ]
  },
  {
   "cell_type": "code",
   "execution_count": 27,
   "metadata": {
    "collapsed": false
   },
   "outputs": [
    {
     "name": "stdout",
     "output_type": "stream",
     "text": [
      "[(1, 62), (2, 46), (3, 24), (4, 23), (5, 16), (6, 14), (7, 8), (8, 4), (9, 5), (10, 2), (11, 2), (12, 1), (14, 1), (16, 1)]\n",
      "(1, 2, 3, 4, 5, 6, 7, 8, 9, 10, 11, 12, 14, 16) (62, 46, 24, 23, 16, 14, 8, 4, 5, 2, 2, 1, 1, 1)\n"
     ]
    }
   ],
   "source": [
    "# split run and count into separate lists:\n",
    "run_count = run2count.items()\n",
    "print run_count\n",
    "\n",
    "run,count = zip(*run_count)\n",
    "print run,count"
   ]
  },
  {
   "cell_type": "code",
   "execution_count": 28,
   "metadata": {
    "collapsed": false
   },
   "outputs": [
    {
     "data": {
      "image/png": "[encoded data removed]",
      "text/plain": [
       "<matplotlib.figure.Figure at 0x10fd84850>"
      ]
     },
     "metadata": {},
     "output_type": "display_data"
    }
   ],
   "source": [
    "fig, axes = plt.subplots()\n",
    "axes.plot( run, count, 'o-' )\n",
    "\n",
    "axes.set_xlabel(\"Run length\", fontsize=18)\n",
    "axes.set_ylabel(\"Number of runs\", fontsize=18)\n",
    "axes.set_title(\"Biased coin (p = %f)\" % p, fontsize=18);\n",
    "\n",
    "matplotlib.rcParams.update({'font.size': 18, 'font.family': 'serif'})"
   ]
  },
  {
   "cell_type": "code",
   "execution_count": 29,
   "metadata": {
    "collapsed": true
   },
   "outputs": [],
   "source": [
    "prun=[p**r for r in run]"
   ]
  },
  {
   "cell_type": "code",
   "execution_count": 30,
   "metadata": {
    "collapsed": false,
    "scrolled": true
   },
   "outputs": [
    {
     "data": {
      "image/png": "[encoded data removed]",
      "text/plain": [
       "<matplotlib.figure.Figure at 0x10fd93b10>"
      ]
     },
     "metadata": {},
     "output_type": "display_data"
    }
   ],
   "source": [
    "# for fun, try plotting run vs. log(count) and compare it to \n",
    "# run vs. p**run.\n",
    "\n",
    "log_count=[log(c) for c  in count]\n",
    "fig, axes = plt.subplots()\n",
    "#axes.plot( run, count, '*-' )\n",
    "axes.plot( run, log_count, 'o-' )\n",
    "axes.plot( run, prun, 'x-' )\n",
    "\n",
    "axes.set_xlabel(\"Run length\", fontsize=18)\n",
    "axes.set_ylabel(\"Number of runs\", fontsize=18)\n",
    "axes.set_title(\"Biased coin (p = %f)\" % p, fontsize=18);"
   ]
  },
  {
   "cell_type": "markdown",
   "metadata": {},
   "source": [
    "## Bar charts make much more sense, so let's use them!"
   ]
  },
  {
   "cell_type": "code",
   "execution_count": 31,
   "metadata": {
    "collapsed": false,
    "scrolled": true
   },
   "outputs": [
    {
     "data": {
      "image/png": "[encoded data removed]",
      "text/plain": [
       "<matplotlib.figure.Figure at 0x10fdcd450>"
      ]
     },
     "metadata": {},
     "output_type": "display_data"
    }
   ],
   "source": [
    "plt.bar( run, count, fc=\"red\" ) # Look, here we are using another way of plotting! \n",
    "plt.xlabel(\"Run length\", fontsize=18)\n",
    "plt.ylabel(\"Number of runs\", fontsize=18)\n",
    "plt.title(\"Biased coin (p = %f)\" % p, fontsize=18)\n",
    "plt.show()"
   ]
  },
  {
   "cell_type": "markdown",
   "metadata": {},
   "source": [
    "## Data Collelction with the Twitter API\n",
    "\n",
    "With Twitter data our aim is to learn about the followings:\n",
    "\n",
    "- Twitter's developer platform and how to make API requests\n",
    "\n",
    "- Tweet metadata and how to use it\n",
    "\n",
    "- Extracting entities such as user mentions, hashtags, and URLs from tweets\n",
    "\n",
    "- Techniques for performing frequency analysis with Python\n",
    "\n"
   ]
  },
  {
   "cell_type": "markdown",
   "metadata": {},
   "source": [
    "### The Twitter Terminology\n",
    "\n",
    "Twitter is a real-time, social microblogging service that allows users to post short status updates, called tweets.\n",
    "Tweets may include one or more entities in their 140 characters of content and reference one or more places that map to locations in the real world. An understanding of users, tweets, and timelines is particularly essential to effective use of Twitter's API, so a brief introduction to these fundamental Twitter Platform objects is in order before we interact with the API to fetch some data. \n",
    "\n",
    "To make it all a bit more concrete, let's consider a sample tweet with the following text:\n",
    "\n",
    "    @Orsi_Vasarhelyi preparing the #dataanalysis class 4students @ELTE_TATK  in Barcelona. Thx @SocialWebMining http://on.fb.me/16WJAf9 #Python\n",
    "\n",
    "The tweet is exactly 140 characters long and contains four tweet entities: the user mentions @Orsi_Vasarhelyi and @ELTE_TAK, the hashtag #dataanalysis and #Python and the URL http://on.fb.me/16WJAf9. Although there is a place called Barcelona that's explicitly mentioned in the tweet, the places metadata associated with the tweet might include the location in which the tweet was authored, which may or may not be Barcelona, and based on the text noone knows is it Barcelona in Spain or Venezuela. That rich metadata can unambiguously refer to multiple other Twitter users, link to web pages, and cross-reference topics with hashtags that act as points of aggregation and horizontally slice through the entire Twitterverse in an easily searchable fashion. This linkage makes Twitter a very popular data source among network scientists and social epidemiologists.\n",
    "\n",
    "`Timelines` are the chronologically sorted collections of tweets. Abstractly, you might say that a timeline is any particular collection of tweets displayed in chronological order; however, you'll commonly see a couple of timelines that are particularly noteworthy. \n"
   ]
  },
  {
   "cell_type": "markdown",
   "metadata": {},
   "source": [
    "### What do we need to access the API\n",
    "\n",
    "1. If you do not have a Twitter account, which is required for API access it is time to create one(do not forget to add your phone number at settings/mobile and verify the code), then review Twitter’s liberal terms of service, API documentation, and Developer Rules of the Road. \n",
    "\n",
    "2. Twitter has a simple [RESTful](https://en.wikipedia.org/wiki/Representational_state_transfer) API that is intuitive and easy to use. Even so, there are great libraries available to further mitigate the work involved in making API requests. A particularly beautiful Python package that wraps the Twitter API and mimics the public API semantics almost one-to-one is `twitter`. So please, install it with pip/conda.\n",
    "\n",
    "3. Before you can make any API requests to Twitter, you'll need to create an application at https://dev.twitter.com/apps. Creating an application is the standard way for developers to gain API access and for Twitter to monitor and interact with third-party platform developers as needed. The process for creating an application is pretty standard, and all that's needed is read-only access to the API. \n",
    "For simplicity of development, the key pieces of information that you'll need to take away from your newly created application's settings are its consumer key, consumer secret, access token, and access token secret. In tandem, these four credentials provide everything that an application would ultimately be getting to authorize itself through a series of redirects involving the user granting authorization, so treat them with the same sensitivity that you would a password"
   ]
  },
  {
   "cell_type": "code",
   "execution_count": 32,
   "metadata": {
    "collapsed": false
   },
   "outputs": [
    {
     "name": "stdout",
     "output_type": "stream",
     "text": [
      "Collecting twitter\n",
      "  Downloading twitter-1.17.1-py2.py3-none-any.whl (55kB)\n",
      "\u001b[K    100% |████████████████████████████████| 61kB 890kB/s \n",
      "\u001b[?25hInstalling collected packages: twitter\n",
      "Successfully installed twitter-1.17.1\n"
     ]
    }
   ],
   "source": [
    "!pip install twitter\n",
    "#https://pypi.python.org/pypi/twitter"
   ]
  },
  {
   "cell_type": "code",
   "execution_count": 33,
   "metadata": {
    "collapsed": false
   },
   "outputs": [
    {
     "name": "stdout",
     "output_type": "stream",
     "text": [
      "<twitter.api.Twitter object at 0x10fd841d0>\n"
     ]
    }
   ],
   "source": [
    "#So let's import twitter and fill the gaps from your Application Settings and Access Token\n",
    "\n",
    "import twitter\n",
    "\n",
    "CONSUMER_KEY = ''\n",
    "CONSUMER_SECRET = ''\n",
    "OAUTH_TOKEN = ''\n",
    "OAUTH_TOKEN_SECRET = ''\n",
    "\n",
    "auth = twitter.oauth.OAuth(OAUTH_TOKEN, OAUTH_TOKEN_SECRET,\n",
    "                           CONSUMER_KEY, CONSUMER_SECRET)\n",
    "\n",
    "twitter_api = twitter.Twitter(auth=auth)\n",
    "\n",
    "# Nothing to see by displaying twitter_api except that it's now a\n",
    "# defined variable\n",
    "\n",
    "print twitter_api"
   ]
  },
  {
   "cell_type": "markdown",
   "metadata": {
    "collapsed": true
   },
   "source": [
    "This indicates that we've successfully used OAuth credentials to gain authorization to query Twitter's API.\n",
    "\n",
    "### Now time to see the trending topics!\n",
    "\n",
    "First, let's have a look at [GET trends/place](https://dev.twitter.com/rest/reference/get/trends/place) objects' official Documentation."
   ]
  },
  {
   "cell_type": "code",
   "execution_count": 34,
   "metadata": {
    "collapsed": false,
    "scrolled": true
   },
   "outputs": [
    {
     "name": "stdout",
     "output_type": "stream",
     "text": [
      "{u'created_at': u'2016-10-02T13:37:20Z', u'trends': [{u'url': u'http://twitter.com/search?q=%23%D8%B1%D8%A7%D8%AD_%D9%86%D9%81%D9%84%D8%B3%D9%83%D9%85_%D9%A2', u'query': u'%23%D8%B1%D8%A7%D8%AD_%D9%86%D9%81%D9%84%D8%B3%D9%83%D9%85_%D9%A2', u'tweet_volume': None, u'name': u'#\\u0631\\u0627\\u062d_\\u0646\\u0641\\u0644\\u0633\\u0643\\u0645_\\u0662', u'promoted_content': None}, {u'url': u'http://twitter.com/search?q=%22Diego+Alves%22', u'query': u'%22Diego+Alves%22', u'tweet_volume': 41399, u'name': u'Diego Alves', u'promoted_content': None}, {u'url': u'http://twitter.com/search?q=%23MeuVotoVaiPara', u'query': u'%23MeuVotoVaiPara', u'tweet_volume': 20911, u'name': u'#MeuVotoVaiPara', u'promoted_content': None}, {u'url': u'http://twitter.com/search?q=Stoke', u'query': u'Stoke', u'tweet_volume': 97729, u'name': u'Stoke', u'promoted_content': None}, {u'url': u'http://twitter.com/search?q=%22Joe+Allen%22', u'query': u'%22Joe+Allen%22', u'tweet_volume': 25275, u'name': u'Joe Allen', u'promoted_content': None}, {u'url': u'http://twitter.com/search?q=%23FelizDomingo', u'query': u'%23FelizDomingo', u'tweet_volume': 23289, u'name': u'#FelizDomingo', u'promoted_content': None}, {u'url': u'http://twitter.com/search?q=%23%D9%85%D8%B4%D9%83%D9%84%D9%87_%D9%81%D9%8A_%D8%B4%D8%AE%D8%B5%D9%8A%D8%AA%D9%83_%D9%88%D8%AF%D9%83_%D8%AA%D8%AD%D9%84%D9%87%D8%A7', u'query': u'%23%D9%85%D8%B4%D9%83%D9%84%D9%87_%D9%81%D9%8A_%D8%B4%D8%AE%D8%B5%D9%8A%D8%AA%D9%83_%D9%88%D8%AF%D9%83_%D8%AA%D8%AD%D9%84%D9%87%D8%A7', u'tweet_volume': 32241, u'name': u'#\\u0645\\u0634\\u0643\\u0644\\u0647_\\u0641\\u064a_\\u0634\\u062e\\u0635\\u064a\\u062a\\u0643_\\u0648\\u062f\\u0643_\\u062a\\u062d\\u0644\\u0647\\u0627', u'promoted_content': None}, {u'url': u'http://twitter.com/search?q=%23HoyVotoSi', u'query': u'%23HoyVotoSi', u'tweet_volume': None, u'name': u'#HoyVotoSi', u'promoted_content': None}, {u'url': u'http://twitter.com/search?q=Kolarov', u'query': u'Kolarov', u'tweet_volume': None, u'name': u'Kolarov', u'promoted_content': None}, {u'url': u'http://twitter.com/search?q=%E3%82%BF%E3%82%A4%E3%83%A0%E3%83%9E%E3%82%B7%E3%83%BC%E3%83%B33%E5%8F%B7', u'query': u'%E3%82%BF%E3%82%A4%E3%83%A0%E3%83%9E%E3%82%B7%E3%83%BC%E3%83%B33%E5%8F%B7', u'tweet_volume': 19726, u'name': u'\\u30bf\\u30a4\\u30e0\\u30de\\u30b7\\u30fc\\u30f33\\u53f7', u'promoted_content': None}, {u'url': u'http://twitter.com/search?q=%E3%83%A9%E3%82%A4%E3%82%B9', u'query': u'%E3%83%A9%E3%82%A4%E3%82%B9', u'tweet_volume': 40631, u'name': u'\\u30e9\\u30a4\\u30b9', u'promoted_content': None}, {u'url': u'http://twitter.com/search?q=Martial', u'query': u'Martial', u'tweet_volume': 46161, u'name': u'Martial', u'promoted_content': None}, {u'url': u'http://twitter.com/search?q=%E3%82%B8%E3%83%A3%E3%83%B3%E3%83%9D%E3%82%B1', u'query': u'%E3%82%B8%E3%83%A3%E3%83%B3%E3%83%9D%E3%82%B1', u'tweet_volume': 18663, u'name': u'\\u30b8\\u30e3\\u30f3\\u30dd\\u30b1', u'promoted_content': None}, {u'url': u'http://twitter.com/search?q=%E3%81%8B%E3%82%82%E3%82%81%E3%82%93%E3%81%9F%E3%82%8B', u'query': u'%E3%81%8B%E3%82%82%E3%82%81%E3%82%93%E3%81%9F%E3%82%8B', u'tweet_volume': None, u'name': u'\\u304b\\u3082\\u3081\\u3093\\u305f\\u308b', u'promoted_content': None}, {u'url': u'http://twitter.com/search?q=%22CBaskan%C4%B1m+%C3%96gretmenMagdur%22', u'query': u'%22CBaskan%C4%B1m+%C3%96gretmenMagdur%22', u'tweet_volume': 67597, u'name': u'CBaskan\\u0131m \\xd6gretmenMagdur', u'promoted_content': None}, {u'url': u'http://twitter.com/search?q=%23EmpoliJuve', u'query': u'%23EmpoliJuve', u'tweet_volume': 22256, u'name': u'#EmpoliJuve', u'promoted_content': None}, {u'url': u'http://twitter.com/search?q=%235YearsOfAIMH', u'query': u'%235YearsOfAIMH', u'tweet_volume': 26386, u'name': u'#5YearsOfAIMH', u'promoted_content': None}, {u'url': u'http://twitter.com/search?q=%23%E7%9C%9F%E7%94%B0%E4%B8%B8', u'query': u'%23%E7%9C%9F%E7%94%B0%E4%B8%B8', u'tweet_volume': 118336, u'name': u'#\\u771f\\u7530\\u4e38', u'promoted_content': None}, {u'url': u'http://twitter.com/search?q=%23NRLGF', u'query': u'%23NRLGF', u'tweet_volume': 51556, u'name': u'#NRLGF', u'promoted_content': None}, {u'url': u'http://twitter.com/search?q=%23KMJS11', u'query': u'%23KMJS11', u'tweet_volume': None, u'name': u'#KMJS11', u'promoted_content': None}, {u'url': u'http://twitter.com/search?q=%23%D9%85%D8%BA%D8%B1%D8%AF_%D8%AA%D8%AD%D8%A8%D9%87', u'query': u'%23%D9%85%D8%BA%D8%B1%D8%AF_%D8%AA%D8%AD%D8%A8%D9%87', u'tweet_volume': 26689, u'name': u'#\\u0645\\u063a\\u0631\\u062f_\\u062a\\u062d\\u0628\\u0647', u'promoted_content': None}, {u'url': u'http://twitter.com/search?q=%23Sald%C4%B1rGALATASARAY', u'query': u'%23Sald%C4%B1rGALATASARAY', u'tweet_volume': None, u'name': u'#Sald\\u0131rGALATASARAY', u'promoted_content': None}, {u'url': u'http://twitter.com/search?q=%23%ED%8A%B8%EC%B9%9C%EB%93%A4%EC%9D%B4_%EB%B3%B4%EB%8A%94_%EB%82%B4_%EC%A0%84%EA%B3%B5', u'query': u'%23%ED%8A%B8%EC%B9%9C%EB%93%A4%EC%9D%B4_%EB%B3%B4%EB%8A%94_%EB%82%B4_%EC%A0%84%EA%B3%B5', u'tweet_volume': None, u'name': u'#\\ud2b8\\uce5c\\ub4e4\\uc774_\\ubcf4\\ub294_\\ub0b4_\\uc804\\uacf5', u'promoted_content': None}, {u'url': u'http://twitter.com/search?q=%23VoteConsciente', u'query': u'%23VoteConsciente', u'tweet_volume': None, u'name': u'#VoteConsciente', u'promoted_content': None}, {u'url': u'http://twitter.com/search?q=%23%D9%85%D9%82%D8%A7%D8%B7%D8%B9%D9%87_%D8%B9%D9%85%D8%A7%D9%86%D8%AA%D9%84_%D9%88%D8%A7%D8%B1%D9%8A%D8%AF%D9%88', u'query': u'%23%D9%85%D9%82%D8%A7%D8%B7%D8%B9%D9%87_%D8%B9%D9%85%D8%A7%D9%86%D8%AA%D9%84_%D9%88%D8%A7%D8%B1%D9%8A%D8%AF%D9%88', u'tweet_volume': None, u'name': u'#\\u0645\\u0642\\u0627\\u0637\\u0639\\u0647_\\u0639\\u0645\\u0627\\u0646\\u062a\\u0644_\\u0648\\u0627\\u0631\\u064a\\u062f\\u0648', u'promoted_content': None}, {u'url': u'http://twitter.com/search?q=%23%E3%82%86%E3%81%A8%E6%89%93%E3%81%A3%E3%81%A6%E6%9C%80%E5%88%9D%E3%81%AB%E5%87%BA%E3%81%A6%E3%81%8D%E3%81%9F%E3%81%AE%E3%81%8C%E3%81%8A%E5%89%8D%E3%81%AE%E6%AD%A6%E5%99%A8', u'query': u'%23%E3%82%86%E3%81%A8%E6%89%93%E3%81%A3%E3%81%A6%E6%9C%80%E5%88%9D%E3%81%AB%E5%87%BA%E3%81%A6%E3%81%8D%E3%81%9F%E3%81%AE%E3%81%8C%E3%81%8A%E5%89%8D%E3%81%AE%E6%AD%A6%E5%99%A8', u'tweet_volume': None, u'name': u'#\\u3086\\u3068\\u6253\\u3063\\u3066\\u6700\\u521d\\u306b\\u51fa\\u3066\\u304d\\u305f\\u306e\\u304c\\u304a\\u524d\\u306e\\u6b66\\u5668', u'promoted_content': None}, {u'url': u'http://twitter.com/search?q=%23%E3%81%8A%E5%89%8D%E3%82%89%E5%88%80%E5%89%A3%E4%B9%B1%E8%88%9E%E3%81%AE%E6%9C%80%E5%88%9D%E3%81%AE%E6%8E%A8%E3%81%97%E8%AA%B0%E3%81%A0%E3%82%88', u'query': u'%23%E3%81%8A%E5%89%8D%E3%82%89%E5%88%80%E5%89%A3%E4%B9%B1%E8%88%9E%E3%81%AE%E6%9C%80%E5%88%9D%E3%81%AE%E6%8E%A8%E3%81%97%E8%AA%B0%E3%81%A0%E3%82%88', u'tweet_volume': None, u'name': u'#\\u304a\\u524d\\u3089\\u5200\\u5263\\u4e71\\u821e\\u306e\\u6700\\u521d\\u306e\\u63a8\\u3057\\u8ab0\\u3060\\u3088', u'promoted_content': None}, {u'url': u'http://twitter.com/search?q=%23HojeEuSonhei', u'query': u'%23HojeEuSonhei', u'tweet_volume': None, u'name': u'#HojeEuSonhei', u'promoted_content': None}, {u'url': u'http://twitter.com/search?q=%23CPC16', u'query': u'%23CPC16', u'tweet_volume': None, u'name': u'#CPC16', u'promoted_content': None}, {u'url': u'http://twitter.com/search?q=%23SCOOM', u'query': u'%23SCOOM', u'tweet_volume': None, u'name': u'#SCOOM', u'promoted_content': None}, {u'url': u'http://twitter.com/search?q=%23enacional', u'query': u'%23enacional', u'tweet_volume': None, u'name': u'#enacional', u'promoted_content': None}, {u'url': u'http://twitter.com/search?q=%23KpoppersSeguindoKpoppers', u'query': u'%23KpoppersSeguindoKpoppers', u'tweet_volume': 13189, u'name': u'#KpoppersSeguindoKpoppers', u'promoted_content': None}, {u'url': u'http://twitter.com/search?q=%23ajautr', u'query': u'%23ajautr', u'tweet_volume': None, u'name': u'#ajautr', u'promoted_content': None}, {u'url': u'http://twitter.com/search?q=%23AtalantaNapoli', u'query': u'%23AtalantaNapoli', u'tweet_volume': None, u'name': u'#AtalantaNapoli', u'promoted_content': None}, {u'url': u'http://twitter.com/search?q=%23INDvsJAX', u'query': u'%23INDvsJAX', u'tweet_volume': None, u'name': u'#INDvsJAX', u'promoted_content': None}, {u'url': u'http://twitter.com/search?q=%23%D0%9D%D0%B0%D1%80%D1%80%D0%B8%D0%BB%D1%83%D0%BC%D0%A1%D0%BE%D1%81%D1%91%D1%82%D0%92%D0%98%D0%BD%D1%81%D1%82%D1%83', u'query': u'%23%D0%9D%D0%B0%D1%80%D1%80%D0%B8%D0%BB%D1%83%D0%BC%D0%A1%D0%BE%D1%81%D1%91%D1%82%D0%92%D0%98%D0%BD%D1%81%D1%82%D1%83', u'tweet_volume': None, u'name': u'#\\u041d\\u0430\\u0440\\u0440\\u0438\\u043b\\u0443\\u043c\\u0421\\u043e\\u0441\\u0451\\u0442\\u0412\\u0418\\u043d\\u0441\\u0442\\u0443', u'promoted_content': None}, {u'url': u'http://twitter.com/search?q=%23DomingoDetremuraSDV', u'query': u'%23DomingoDetremuraSDV', u'tweet_volume': None, u'name': u'#DomingoDetremuraSDV', u'promoted_content': None}, {u'url': u'http://twitter.com/search?q=%23SundayMorning', u'query': u'%23SundayMorning', u'tweet_volume': 13581, u'name': u'#SundayMorning', u'promoted_content': None}, {u'url': u'http://twitter.com/search?q=%23%D8%B1%D8%B3%D8%A7%D9%84%D8%AA%D9%83_%D9%84%D9%84%D9%87%D9%84%D8%A7%D9%84_%D8%A8%D8%A7%D9%84%D8%B3%D9%86%D9%87_%D8%A7%D9%84%D8%AC%D8%AF%D9%8A%D8%AF%D9%87', u'query': u'%23%D8%B1%D8%B3%D8%A7%D9%84%D8%AA%D9%83_%D9%84%D9%84%D9%87%D9%84%D8%A7%D9%84_%D8%A8%D8%A7%D9%84%D8%B3%D9%86%D9%87_%D8%A7%D9%84%D8%AC%D8%AF%D9%8A%D8%AF%D9%87', u'tweet_volume': None, u'name': u'#\\u0631\\u0633\\u0627\\u0644\\u062a\\u0643_\\u0644\\u0644\\u0647\\u0644\\u0627\\u0644_\\u0628\\u0627\\u0644\\u0633\\u0646\\u0647_\\u0627\\u0644\\u062c\\u062f\\u064a\\u062f\\u0647', u'promoted_content': None}, {u'url': u'http://twitter.com/search?q=%23festadeinonni', u'query': u'%23festadeinonni', u'tweet_volume': None, u'name': u'#festadeinonni', u'promoted_content': None}, {u'url': u'http://twitter.com/search?q=%23KOC2016', u'query': u'%23KOC2016', u'tweet_volume': None, u'name': u'#KOC2016', u'promoted_content': None}, {u'url': u'http://twitter.com/search?q=%23SB69A', u'query': u'%23SB69A', u'tweet_volume': 25519, u'name': u'#SB69A', u'promoted_content': None}, {u'url': u'http://twitter.com/search?q=%23%E3%81%93%E3%82%93%E3%81%AA%E3%83%9E%E3%83%B3%E3%82%AC%E3%81%8C%E3%81%82%E3%81%A3%E3%81%9F%E3%82%89%E8%AA%AD%E3%82%93%E3%81%A7%E3%81%BF%E3%81%9F%E3%81%84', u'query': u'%23%E3%81%93%E3%82%93%E3%81%AA%E3%83%9E%E3%83%B3%E3%82%AC%E3%81%8C%E3%81%82%E3%81%A3%E3%81%9F%E3%82%89%E8%AA%AD%E3%82%93%E3%81%A7%E3%81%BF%E3%81%9F%E3%81%84', u'tweet_volume': None, u'name': u'#\\u3053\\u3093\\u306a\\u30de\\u30f3\\u30ac\\u304c\\u3042\\u3063\\u305f\\u3089\\u8aad\\u3093\\u3067\\u307f\\u305f\\u3044', u'promoted_content': None}, {u'url': u'http://twitter.com/search?q=%23wilfey', u'query': u'%23wilfey', u'tweet_volume': None, u'name': u'#wilfey', u'promoted_content': None}, {u'url': u'http://twitter.com/search?q=%23CNNSOTU', u'query': u'%23CNNSOTU', u'tweet_volume': None, u'name': u'#CNNSOTU', u'promoted_content': None}, {u'url': u'http://twitter.com/search?q=%23WinThisFightGINEBRA', u'query': u'%23WinThisFightGINEBRA', u'tweet_volume': 31578, u'name': u'#WinThisFightGINEBRA', u'promoted_content': None}, {u'url': u'http://twitter.com/search?q=%23%D8%B9%D8%A7%D9%85_%D8%AC%D8%AF%D9%8A%D8%AF_%D9%88%D8%B9%D8%B4%D9%82_%D8%A7%D9%84%D8%B4%D8%A8%D8%A7%D8%A8_%D9%8A%D8%B2%D9%8A%D8%AF', u'query': u'%23%D8%B9%D8%A7%D9%85_%D8%AC%D8%AF%D9%8A%D8%AF_%D9%88%D8%B9%D8%B4%D9%82_%D8%A7%D9%84%D8%B4%D8%A8%D8%A7%D8%A8_%D9%8A%D8%B2%D9%8A%D8%AF', u'tweet_volume': None, u'name': u'#\\u0639\\u0627\\u0645_\\u062c\\u062f\\u064a\\u062f_\\u0648\\u0639\\u0634\\u0642_\\u0627\\u0644\\u0634\\u0628\\u0627\\u0628_\\u064a\\u0632\\u064a\\u062f', u'promoted_content': None}, {u'url': u'http://twitter.com/search?q=%23%D8%B2%D8%AF_%D9%81%D8%B1%D8%B5%D8%AA%D9%831', u'query': u'%23%D8%B2%D8%AF_%D9%81%D8%B1%D8%B5%D8%AA%D9%831', u'tweet_volume': None, u'name': u'#\\u0632\\u062f_\\u0641\\u0631\\u0635\\u062a\\u06431', u'promoted_content': None}, {u'url': u'http://twitter.com/search?q=%23%D0%9E%D1%80%D0%B5%D1%85%D0%BE%D0%B2%D0%B0%D1%8FQueen%D1%84%D0%BE%D0%BB%D0%BB%D0%BE%D0%B2%D0%B8%D1%82%D0%B2%D1%81%D0%B5%D1%85', u'query': u'%23%D0%9E%D1%80%D0%B5%D1%85%D0%BE%D0%B2%D0%B0%D1%8FQueen%D1%84%D0%BE%D0%BB%D0%BB%D0%BE%D0%B2%D0%B8%D1%82%D0%B2%D1%81%D0%B5%D1%85', u'tweet_volume': None, u'name': u'#\\u041e\\u0440\\u0435\\u0445\\u043e\\u0432\\u0430\\u044fQueen\\u0444\\u043e\\u043b\\u043b\\u043e\\u0432\\u0438\\u0442\\u0432\\u0441\\u0435\\u0445', u'promoted_content': None}, {u'url': u'http://twitter.com/search?q=%23AkGen%C3%A7likGeli%C5%9FimKamp%C4%B1', u'query': u'%23AkGen%C3%A7likGeli%C5%9FimKamp%C4%B1', u'tweet_volume': None, u'name': u'#AkGen\\xe7likGeli\\u015fimKamp\\u0131', u'promoted_content': None}], u'as_of': u'2016-10-02T13:39:39Z', u'locations': [{u'woeid': 1, u'name': u'Worldwide'}]}\n"
     ]
    }
   ],
   "source": [
    "# The Yahoo! Where On Earth ID for the entire world is 1.\n",
    "# See https://dev.twitter.com/docs/api/1.1/get/trends/place and\n",
    "# http://developer.yahoo.com/geo/geoplanet/\n",
    "\n",
    "\n",
    "WORLD_WOE_ID = 1\n",
    "US_WOE_ID = 23424977\n",
    "\n",
    "# Prefix ID with the underscore for query string parameterization.\n",
    "# Without the underscore, the twitter package appends the ID value\n",
    "# to the URL itself as a special case keyword argument.\n",
    "\n",
    "world_trends = twitter_api.trends.place(_id=WORLD_WOE_ID)\n",
    "us_trends = twitter_api.trends.place(_id=US_WOE_ID)\n",
    "\n",
    "print world_trends[0]"
   ]
  },
  {
   "cell_type": "code",
   "execution_count": 35,
   "metadata": {
    "collapsed": false
   },
   "outputs": [
    {
     "data": {
      "text/plain": [
       "twitter.api.TwitterListResponse"
      ]
     },
     "execution_count": 35,
     "metadata": {},
     "output_type": "execute_result"
    }
   ],
   "source": [
    "type(world_trends)"
   ]
  },
  {
   "cell_type": "markdown",
   "metadata": {},
   "source": [
    "## What is a Json file?\n",
    "JSON is a data exchange format that you will encounter on a regular basis. In a nutshell, JSON provides a way to arbitrarily store maps, lists, primitives such as numbers and strings, and combinations of them. In other words, you can theoretically model just about anything with JSON should you desire to do so. "
   ]
  },
  {
   "cell_type": "code",
   "execution_count": 36,
   "metadata": {
    "collapsed": false,
    "scrolled": false
   },
   "outputs": [
    {
     "name": "stdout",
     "output_type": "stream",
     "text": [
      "[\n",
      " {\n",
      "  \"created_at\": \"2016-10-02T13:32:09Z\", \n",
      "  \"trends\": [\n",
      "   {\n",
      "    \"url\": \"http://twitter.com/search?q=%23SundayMorning\", \n",
      "    \"query\": \"%23SundayMorning\", \n",
      "    \"tweet_volume\": 13284, \n",
      "    \"name\": \"#SundayMorning\", \n",
      "    \"promoted_content\": null\n",
      "   }, \n",
      "   {\n",
      "    \"url\": \"http://twitter.com/search?q=%23CNNSOTU\", \n",
      "    \"query\": \"%23CNNSOTU\", \n",
      "    \"tweet_volume\": null, \n",
      "    \"name\": \"#CNNSOTU\", \n",
      "    \"promoted_content\": null\n",
      "   }, \n",
      "   {\n",
      "    \"url\": \"http://twitter.com/search?q=Stoke\", \n",
      "    \"query\": \"Stoke\", \n",
      "    \"tweet_volume\": 96769, \n",
      "    \"name\": \"Stoke\", \n",
      "    \"promoted_content\": null\n",
      "   }, \n",
      "   {\n",
      "    \"url\": \"http://twitter.com/search?q=%23INDvsJAX\", \n",
      "    \"query\": \"%23INDvsJAX\", \n",
      "    \"tweet_volume\": null, \n",
      "    \"name\": \"#INDvsJAX\", \n",
      "    \"promoted_content\": null\n",
      "   }, \n",
      "   {\n",
      "    \"url\": \"http://twitter.com/search?q=%23ThisWeek\", \n",
      "    \"query\": \"%23ThisWeek\", \n",
      "    \"tweet_volume\": null, \n",
      "    \"name\": \"#ThisWeek\", \n",
      "    \"promoted_content\": null\n",
      "   }, \n",
      "   {\n",
      "    \"url\": \"http://twitter.com/search?q=%23MyStoryIsnt\", \n",
      "    \"query\": \"%23MyStoryIsnt\", \n",
      "    \"tweet_volume\": null, \n",
      "    \"name\": \"#MyStoryIsnt\", \n",
      "    \"promoted_content\": null\n",
      "   }, \n",
      "   {\n",
      "    \"url\": \"http://twitter.com/search?q=%22Joe+Allen%22\", \n",
      "    \"query\": \"%22Joe+Allen%22\", \n",
      "    \"tweet_volume\": 24660, \n",
      "    \"name\": \"Joe Allen\", \n",
      "    \"promoted_content\": null\n",
      "   }, \n",
      "   {\n",
      "    \"url\": \"http://twitter.com/search?q=Martial\", \n",
      "    \"query\": \"Martial\", \n",
      "    \"tweet_volume\": 45901, \n",
      "    \"name\": \"Martial\", \n",
      "    \"promoted_content\": null\n",
      "   }, \n",
      "   {\n",
      "    \"url\": \"http://twitter.com/search?q=%22De+Gea%22\", \n",
      "    \"query\": \"%22De+Gea%22\", \n",
      "    \"tweet_volume\": 15764, \n",
      "    \"name\": \"De Gea\", \n",
      "    \"promoted_content\": null\n",
      "   }, \n",
      "   {\n",
      "    \"url\": \"http://twitter.com/search?q=Kolarov\", \n",
      "    \"query\": \"Kolarov\", \n",
      "    \"tweet_volume\": null, \n",
      "    \"name\": \"Kolarov\", \n",
      "    \"promoted_content\": null\n",
      "   }, \n",
      "   {\n",
      "    \"url\": \"http://twitter.com/search?q=%22Diego+Alves%22\", \n",
      "    \"query\": \"%22Diego+Alves%22\", \n",
      "    \"tweet_volume\": 41156, \n",
      "    \"name\": \"Diego Alves\", \n",
      "    \"promoted_content\": null\n",
      "   }, \n",
      "   {\n",
      "    \"url\": \"http://twitter.com/search?q=%22Julius+Thomas%22\", \n",
      "    \"query\": \"%22Julius+Thomas%22\", \n",
      "    \"tweet_volume\": null, \n",
      "    \"name\": \"Julius Thomas\", \n",
      "    \"promoted_content\": null\n",
      "   }, \n",
      "   {\n",
      "    \"url\": \"http://twitter.com/search?q=%22COME+ON+YOU+SPURS%22\", \n",
      "    \"query\": \"%22COME+ON+YOU+SPURS%22\", \n",
      "    \"tweet_volume\": null, \n",
      "    \"name\": \"COME ON YOU SPURS\", \n",
      "    \"promoted_content\": null\n",
      "   }, \n",
      "   {\n",
      "    \"url\": \"http://twitter.com/search?q=%22Lee+Grant%22\", \n",
      "    \"query\": \"%22Lee+Grant%22\", \n",
      "    \"tweet_volume\": null, \n",
      "    \"name\": \"Lee Grant\", \n",
      "    \"promoted_content\": null\n",
      "   }, \n",
      "   {\n",
      "    \"url\": \"http://twitter.com/search?q=%22Elena+Ferrante%22\", \n",
      "    \"query\": \"%22Elena+Ferrante%22\", \n",
      "    \"tweet_volume\": null, \n",
      "    \"name\": \"Elena Ferrante\", \n",
      "    \"promoted_content\": null\n",
      "   }, \n",
      "   {\n",
      "    \"url\": \"http://twitter.com/search?q=%22Article+50%22\", \n",
      "    \"query\": \"%22Article+50%22\", \n",
      "    \"tweet_volume\": 23777, \n",
      "    \"name\": \"Article 50\", \n",
      "    \"promoted_content\": null\n",
      "   }, \n",
      "   {\n",
      "    \"url\": \"http://twitter.com/search?q=Ibra\", \n",
      "    \"query\": \"Ibra\", \n",
      "    \"tweet_volume\": 17827, \n",
      "    \"name\": \"Ibra\", \n",
      "    \"promoted_content\": null\n",
      "   }, \n",
      "   {\n",
      "    \"url\": \"http://twitter.com/search?q=%22Phillip+Dorsett%22\", \n",
      "    \"query\": \"%22Phillip+Dorsett%22\", \n",
      "    \"tweet_volume\": null, \n",
      "    \"name\": \"Phillip Dorsett\", \n",
      "    \"promoted_content\": null\n",
      "   }, \n",
      "   {\n",
      "    \"url\": \"http://twitter.com/search?q=Lingard\", \n",
      "    \"query\": \"Lingard\", \n",
      "    \"tweet_volume\": 11584, \n",
      "    \"name\": \"Lingard\", \n",
      "    \"promoted_content\": null\n",
      "   }, \n",
      "   {\n",
      "    \"url\": \"http://twitter.com/search?q=%22Football+Sunday%22\", \n",
      "    \"query\": \"%22Football+Sunday%22\", \n",
      "    \"tweet_volume\": null, \n",
      "    \"name\": \"Football Sunday\", \n",
      "    \"promoted_content\": null\n",
      "   }, \n",
      "   {\n",
      "    \"url\": \"http://twitter.com/search?q=Zlatan\", \n",
      "    \"query\": \"Zlatan\", \n",
      "    \"tweet_volume\": 16620, \n",
      "    \"name\": \"Zlatan\", \n",
      "    \"promoted_content\": null\n",
      "   }, \n",
      "   {\n",
      "    \"url\": \"http://twitter.com/search?q=%22NFL+in+London%22\", \n",
      "    \"query\": \"%22NFL+in+London%22\", \n",
      "    \"tweet_volume\": null, \n",
      "    \"name\": \"NFL in London\", \n",
      "    \"promoted_content\": null\n",
      "   }, \n",
      "   {\n",
      "    \"url\": \"http://twitter.com/search?q=%22Barbara+Bush%22\", \n",
      "    \"query\": \"%22Barbara+Bush%22\", \n",
      "    \"tweet_volume\": null, \n",
      "    \"name\": \"Barbara Bush\", \n",
      "    \"promoted_content\": null\n",
      "   }, \n",
      "   {\n",
      "    \"url\": \"http://twitter.com/search?q=%22Steve+Cortes%22\", \n",
      "    \"query\": \"%22Steve+Cortes%22\", \n",
      "    \"tweet_volume\": null, \n",
      "    \"name\": \"Steve Cortes\", \n",
      "    \"promoted_content\": null\n",
      "   }, \n",
      "   {\n",
      "    \"url\": \"http://twitter.com/search?q=%22Loyal+to+Bill%22\", \n",
      "    \"query\": \"%22Loyal+to+Bill%22\", \n",
      "    \"tweet_volume\": null, \n",
      "    \"name\": \"Loyal to Bill\", \n",
      "    \"promoted_content\": null\n",
      "   }, \n",
      "   {\n",
      "    \"url\": \"http://twitter.com/search?q=%22Mark+Hughes%22\", \n",
      "    \"query\": \"%22Mark+Hughes%22\", \n",
      "    \"tweet_volume\": null, \n",
      "    \"name\": \"Mark Hughes\", \n",
      "    \"promoted_content\": null\n",
      "   }, \n",
      "   {\n",
      "    \"url\": \"http://twitter.com/search?q=%23HaveYouEverHadTheFeeling\", \n",
      "    \"query\": \"%23HaveYouEverHadTheFeeling\", \n",
      "    \"tweet_volume\": null, \n",
      "    \"name\": \"#HaveYouEverHadTheFeeling\", \n",
      "    \"promoted_content\": null\n",
      "   }, \n",
      "   {\n",
      "    \"url\": \"http://twitter.com/search?q=%23TOTMCI\", \n",
      "    \"query\": \"%23TOTMCI\", \n",
      "    \"tweet_volume\": null, \n",
      "    \"name\": \"#TOTMCI\", \n",
      "    \"promoted_content\": null\n",
      "   }, \n",
      "   {\n",
      "    \"url\": \"http://twitter.com/search?q=%23sunchat\", \n",
      "    \"query\": \"%23sunchat\", \n",
      "    \"tweet_volume\": null, \n",
      "    \"name\": \"#sunchat\", \n",
      "    \"promoted_content\": null\n",
      "   }, \n",
      "   {\n",
      "    \"url\": \"http://twitter.com/search?q=%23HackLearning\", \n",
      "    \"query\": \"%23HackLearning\", \n",
      "    \"tweet_volume\": null, \n",
      "    \"name\": \"#HackLearning\", \n",
      "    \"promoted_content\": null\n",
      "   }, \n",
      "   {\n",
      "    \"url\": \"http://twitter.com/search?q=%23NRLGF\", \n",
      "    \"query\": \"%23NRLGF\", \n",
      "    \"tweet_volume\": 51513, \n",
      "    \"name\": \"#NRLGF\", \n",
      "    \"promoted_content\": null\n",
      "   }, \n",
      "   {\n",
      "    \"url\": \"http://twitter.com/search?q=%235YearsOfAIMH\", \n",
      "    \"query\": \"%235YearsOfAIMH\", \n",
      "    \"tweet_volume\": 25210, \n",
      "    \"name\": \"#5YearsOfAIMH\", \n",
      "    \"promoted_content\": null\n",
      "   }, \n",
      "   {\n",
      "    \"url\": \"http://twitter.com/search?q=%23RoshHashanah\", \n",
      "    \"query\": \"%23RoshHashanah\", \n",
      "    \"tweet_volume\": null, \n",
      "    \"name\": \"#RoshHashanah\", \n",
      "    \"promoted_content\": null\n",
      "   }, \n",
      "   {\n",
      "    \"url\": \"http://twitter.com/search?q=%23THFC\", \n",
      "    \"query\": \"%23THFC\", \n",
      "    \"tweet_volume\": null, \n",
      "    \"name\": \"#THFC\", \n",
      "    \"promoted_content\": null\n",
      "   }, \n",
      "   {\n",
      "    \"url\": \"http://twitter.com/search?q=%23FelizDomingo\", \n",
      "    \"query\": \"%23FelizDomingo\", \n",
      "    \"tweet_volume\": 22792, \n",
      "    \"name\": \"#FelizDomingo\", \n",
      "    \"promoted_content\": null\n",
      "   }, \n",
      "   {\n",
      "    \"url\": \"http://twitter.com/search?q=%23spiritchat\", \n",
      "    \"query\": \"%23spiritchat\", \n",
      "    \"tweet_volume\": null, \n",
      "    \"name\": \"#spiritchat\", \n",
      "    \"promoted_content\": null\n",
      "   }, \n",
      "   {\n",
      "    \"url\": \"http://twitter.com/search?q=%23CPC16\", \n",
      "    \"query\": \"%23CPC16\", \n",
      "    \"tweet_volume\": null, \n",
      "    \"name\": \"#CPC16\", \n",
      "    \"promoted_content\": null\n",
      "   }, \n",
      "   {\n",
      "    \"url\": \"http://twitter.com/search?q=%23HoyVotoSi\", \n",
      "    \"query\": \"%23HoyVotoSi\", \n",
      "    \"tweet_volume\": null, \n",
      "    \"name\": \"#HoyVotoSi\", \n",
      "    \"promoted_content\": null\n",
      "   }, \n",
      "   {\n",
      "    \"url\": \"http://twitter.com/search?q=%23InsidePolitics\", \n",
      "    \"query\": \"%23InsidePolitics\", \n",
      "    \"tweet_volume\": null, \n",
      "    \"name\": \"#InsidePolitics\", \n",
      "    \"promoted_content\": null\n",
      "   }, \n",
      "   {\n",
      "    \"url\": \"http://twitter.com/search?q=%23MeetThePress\", \n",
      "    \"query\": \"%23MeetThePress\", \n",
      "    \"tweet_volume\": null, \n",
      "    \"name\": \"#MeetThePress\", \n",
      "    \"promoted_content\": null\n",
      "   }, \n",
      "   {\n",
      "    \"url\": \"http://twitter.com/search?q=%23GGMU\", \n",
      "    \"query\": \"%23GGMU\", \n",
      "    \"tweet_volume\": null, \n",
      "    \"name\": \"#GGMU\", \n",
      "    \"promoted_content\": null\n",
      "   }, \n",
      "   {\n",
      "    \"url\": \"http://twitter.com/search?q=%23MalaysiaGP\", \n",
      "    \"query\": \"%23MalaysiaGP\", \n",
      "    \"tweet_volume\": 120174, \n",
      "    \"name\": \"#MalaysiaGP\", \n",
      "    \"promoted_content\": null\n",
      "   }, \n",
      "   {\n",
      "    \"url\": \"http://twitter.com/search?q=%23SNLDebate\", \n",
      "    \"query\": \"%23SNLDebate\", \n",
      "    \"tweet_volume\": null, \n",
      "    \"name\": \"#SNLDebate\", \n",
      "    \"promoted_content\": null\n",
      "   }, \n",
      "   {\n",
      "    \"url\": \"http://twitter.com/search?q=%23GretesGreatGallop\", \n",
      "    \"query\": \"%23GretesGreatGallop\", \n",
      "    \"tweet_volume\": null, \n",
      "    \"name\": \"#GretesGreatGallop\", \n",
      "    \"promoted_content\": null\n",
      "   }, \n",
      "   {\n",
      "    \"url\": \"http://twitter.com/search?q=%23SLFLBrisbane\", \n",
      "    \"query\": \"%23SLFLBrisbane\", \n",
      "    \"tweet_volume\": 25766, \n",
      "    \"name\": \"#SLFLBrisbane\", \n",
      "    \"promoted_content\": null\n",
      "   }, \n",
      "   {\n",
      "    \"url\": \"http://twitter.com/search?q=%23CARvsATL\", \n",
      "    \"query\": \"%23CARvsATL\", \n",
      "    \"tweet_volume\": null, \n",
      "    \"name\": \"#CARvsATL\", \n",
      "    \"promoted_content\": null\n",
      "   }, \n",
      "   {\n",
      "    \"url\": \"http://twitter.com/search?q=%23SundayBlogShare\", \n",
      "    \"query\": \"%23SundayBlogShare\", \n",
      "    \"tweet_volume\": null, \n",
      "    \"name\": \"#SundayBlogShare\", \n",
      "    \"promoted_content\": null\n",
      "   }, \n",
      "   {\n",
      "    \"url\": \"http://twitter.com/search?q=%23ShakespeareSunday\", \n",
      "    \"query\": \"%23ShakespeareSunday\", \n",
      "    \"tweet_volume\": null, \n",
      "    \"name\": \"#ShakespeareSunday\", \n",
      "    \"promoted_content\": null\n",
      "   }, \n",
      "   {\n",
      "    \"url\": \"http://twitter.com/search?q=%23JAXvsIND\", \n",
      "    \"query\": \"%23JAXvsIND\", \n",
      "    \"tweet_volume\": null, \n",
      "    \"name\": \"#JAXvsIND\", \n",
      "    \"promoted_content\": null\n",
      "   }, \n",
      "   {\n",
      "    \"url\": \"http://twitter.com/search?q=%23CoolOffAMovie\", \n",
      "    \"query\": \"%23CoolOffAMovie\", \n",
      "    \"tweet_volume\": null, \n",
      "    \"name\": \"#CoolOffAMovie\", \n",
      "    \"promoted_content\": null\n",
      "   }\n",
      "  ], \n",
      "  \"as_of\": \"2016-10-02T13:39:39Z\", \n",
      "  \"locations\": [\n",
      "   {\n",
      "    \"woeid\": 23424977, \n",
      "    \"name\": \"United States\"\n",
      "   }\n",
      "  ]\n",
      " }\n",
      "]\n"
     ]
    }
   ],
   "source": [
    "import json\n",
    "print json.dumps(us_trends, indent=1)"
   ]
  },
  {
   "cell_type": "markdown",
   "metadata": {},
   "source": [
    "### EXERCISE\n",
    "\n",
    "Compute the common trending topics between the US and the World hint: set(), json~list of dicts\n",
    "\n",
    "Interpret the results!"
   ]
  },
  {
   "cell_type": "code",
   "execution_count": 37,
   "metadata": {
    "collapsed": false
   },
   "outputs": [
    {
     "name": "stdout",
     "output_type": "stream",
     "text": [
      "set([u'#FelizDomingo', u'#SundayMorning', u'#NRLGF', u'#INDvsJAX', u'#HoyVotoSi', u'#CPC16', u'Diego Alves', u'Martial', u'#5YearsOfAIMH', u'Joe Allen', u'Stoke', u'Kolarov', u'#CNNSOTU'])\n"
     ]
    }
   ],
   "source": [
    "world_trends_set = set([trend['name'] \n",
    "                        for trend in world_trends[0]['trends']])\n",
    "\n",
    "us_trends_set = set([trend['name'] \n",
    "                     for trend in us_trends[0]['trends']]) \n",
    "\n",
    "common_trends = world_trends_set.intersection(us_trends_set)\n",
    "\n",
    "print common_trends"
   ]
  },
  {
   "cell_type": "code",
   "execution_count": 38,
   "metadata": {
    "collapsed": false
   },
   "outputs": [
    {
     "data": {
      "text/plain": [
       "{u'#CARvsATL',\n",
       " u'#CoolOffAMovie',\n",
       " u'#GGMU',\n",
       " u'#GretesGreatGallop',\n",
       " u'#HackLearning',\n",
       " u'#HaveYouEverHadTheFeeling',\n",
       " u'#InsidePolitics',\n",
       " u'#JAXvsIND',\n",
       " u'#MalaysiaGP',\n",
       " u'#MeetThePress',\n",
       " u'#MyStoryIsnt',\n",
       " u'#RoshHashanah',\n",
       " u'#SLFLBrisbane',\n",
       " u'#SNLDebate',\n",
       " u'#ShakespeareSunday',\n",
       " u'#SundayBlogShare',\n",
       " u'#THFC',\n",
       " u'#TOTMCI',\n",
       " u'#ThisWeek',\n",
       " u'#spiritchat',\n",
       " u'#sunchat',\n",
       " u'Article 50',\n",
       " u'Barbara Bush',\n",
       " u'COME ON YOU SPURS',\n",
       " u'De Gea',\n",
       " u'Elena Ferrante',\n",
       " u'Football Sunday',\n",
       " u'Ibra',\n",
       " u'Julius Thomas',\n",
       " u'Lee Grant',\n",
       " u'Lingard',\n",
       " u'Loyal to Bill',\n",
       " u'Mark Hughes',\n",
       " u'NFL in London',\n",
       " u'Phillip Dorsett',\n",
       " u'Steve Cortes',\n",
       " u'Zlatan'}"
      ]
     },
     "execution_count": 38,
     "metadata": {},
     "output_type": "execute_result"
    }
   ],
   "source": [
    "us_trends_set-world_trends_set"
   ]
  },
  {
   "cell_type": "markdown",
   "metadata": {},
   "source": [
    "### Searching for Tweets\n",
    "\n",
    "Now we will search for tweets regarding the US presidential elections.\n",
    "We have two candidates: Hillary Clinton and Donald Trump\n",
    "\n",
    "*What do you think how should we add these names for searching?"
   ]
  },
  {
   "cell_type": "code",
   "execution_count": 39,
   "metadata": {
    "collapsed": false
   },
   "outputs": [],
   "source": [
    "clinton='hillary' or 'hillaryclinton' or 'Hillary Clinton' or 'Clinton' or '@HillaryCLinton'"
   ]
  },
  {
   "cell_type": "code",
   "execution_count": 47,
   "metadata": {
    "collapsed": true
   },
   "outputs": [],
   "source": [
    "trump='trump' or 'donaldtrump' or 'DonaldTrump'or 'Trump' or 'Donald J. Trump'or '@realDonaldTrump'"
   ]
  },
  {
   "cell_type": "code",
   "execution_count": 40,
   "metadata": {
    "collapsed": true
   },
   "outputs": [],
   "source": [
    "count=100"
   ]
  },
  {
   "cell_type": "code",
   "execution_count": 42,
   "metadata": {
    "collapsed": false
   },
   "outputs": [
    {
     "name": "stdout",
     "output_type": "stream",
     "text": [
      "Length of statuses 100\n",
      "Length of statuses 200\n",
      "Length of statuses 400\n",
      "Length of statuses 800\n",
      "Length of statuses 1600\n"
     ]
    }
   ],
   "source": [
    "result=twitter_api.search.tweets(q=clinton, count=count)\n",
    "statuses = result['statuses']\n",
    "\n",
    "for _ in range(5):\n",
    "    print \"Length of statuses\", len(statuses)\n",
    "    try:\n",
    "        next_results = result['search_metadata']['next_results']\n",
    "    except KeyError, e: # No more results when next_results doesn't exist\n",
    "        break\n",
    "        \n",
    "    # Create a dictionary from next_results, which has the following form:\n",
    "    # ?max_id=313519052523986943&q=NCAA&include_entities=1\n",
    "    kwargs = dict([ kv.split('=') for kv in next_results[1:].split(\"&\") ])\n",
    "    \n",
    "    search_results = twitter_api.search.tweets(**kwargs)\n",
    "    statuses += result['statuses']\n"
   ]
  },
  {
   "cell_type": "code",
   "execution_count": 43,
   "metadata": {
    "collapsed": false
   },
   "outputs": [
    {
     "name": "stdout",
     "output_type": "stream",
     "text": [
      "{\n",
      " \"contributors\": null, \n",
      " \"truncated\": false, \n",
      " \"text\": \"Hillary Clinton &amp; Conservative Catholics in common? #RT https://t.co/WMheDt2S90 #Catholics #CatholicLaity @Church_Militant #CatholicSynod\", \n",
      " \"is_quote_status\": false, \n",
      " \"in_reply_to_status_id\": null, \n",
      " \"id\": 782576164401315840, \n",
      " \"favorite_count\": 0, \n",
      " \"entities\": {\n",
      "  \"symbols\": [], \n",
      "  \"user_mentions\": [\n",
      "   {\n",
      "    \"id\": 606400487, \n",
      "    \"indices\": [\n",
      "     110, \n",
      "     126\n",
      "    ], \n",
      "    \"id_str\": \"606400487\", \n",
      "    \"screen_name\": \"Church_Militant\", \n",
      "    \"name\": \"Church Militant\"\n",
      "   }\n",
      "  ], \n",
      "  \"hashtags\": [\n",
      "   {\n",
      "    \"indices\": [\n",
      "     56, \n",
      "     59\n",
      "    ], \n",
      "    \"text\": \"RT\"\n",
      "   }, \n",
      "   {\n",
      "    \"indices\": [\n",
      "     84, \n",
      "     94\n",
      "    ], \n",
      "    \"text\": \"Catholics\"\n",
      "   }, \n",
      "   {\n",
      "    \"indices\": [\n",
      "     95, \n",
      "     109\n",
      "    ], \n",
      "    \"text\": \"CatholicLaity\"\n",
      "   }, \n",
      "   {\n",
      "    \"indices\": [\n",
      "     127, \n",
      "     141\n",
      "    ], \n",
      "    \"text\": \"CatholicSynod\"\n",
      "   }\n",
      "  ], \n",
      "  \"urls\": [\n",
      "   {\n",
      "    \"url\": \"https://t.co/WMheDt2S90\", \n",
      "    \"indices\": [\n",
      "     60, \n",
      "     83\n",
      "    ], \n",
      "    \"expanded_url\": \"http://conscores.org/6ftx\", \n",
      "    \"display_url\": \"conscores.org/6ftx\"\n",
      "   }\n",
      "  ]\n",
      " }, \n",
      " \"retweeted\": false, \n",
      " \"coordinates\": null, \n",
      " \"source\": \"<a href=\\\"https://smqueue.com\\\" rel=\\\"nofollow\\\">smqueue</a>\", \n",
      " \"in_reply_to_screen_name\": null, \n",
      " \"in_reply_to_user_id\": null, \n",
      " \"retweet_count\": 0, \n",
      " \"id_str\": \"782576164401315840\", \n",
      " \"favorited\": false, \n",
      " \"user\": {\n",
      "  \"follow_request_sent\": false, \n",
      "  \"has_extended_profile\": false, \n",
      "  \"profile_use_background_image\": true, \n",
      "  \"default_profile_image\": false, \n",
      "  \"id\": 438395887, \n",
      "  \"profile_background_image_url_https\": \"https://abs.twimg.com/images/themes/theme1/bg.png\", \n",
      "  \"verified\": false, \n",
      "  \"profile_text_color\": \"333333\", \n",
      "  \"profile_image_url_https\": \"https://pbs.twimg.com/profile_images/1696655984/Fotolia_20569964_S_normal.jpg\", \n",
      "  \"profile_sidebar_fill_color\": \"DDEEF6\", \n",
      "  \"entities\": {\n",
      "   \"description\": {\n",
      "    \"urls\": []\n",
      "   }\n",
      "  }, \n",
      "  \"followers_count\": 5877, \n",
      "  \"profile_sidebar_border_color\": \"C0DEED\", \n",
      "  \"id_str\": \"438395887\", \n",
      "  \"profile_background_color\": \"C0DEED\", \n",
      "  \"listed_count\": 273, \n",
      "  \"is_translation_enabled\": false, \n",
      "  \"utc_offset\": -25200, \n",
      "  \"statuses_count\": 205939, \n",
      "  \"description\": \"CHANGE & Follow: @CatholicsTweet = Catholicism and related News. @CatholicsPray = Prayers ONLY. Thank you & God Bless.\", \n",
      "  \"friends_count\": 5225, \n",
      "  \"location\": \"Roman Catholic World!\", \n",
      "  \"profile_link_color\": \"0084B4\", \n",
      "  \"profile_image_url\": \"http://pbs.twimg.com/profile_images/1696655984/Fotolia_20569964_S_normal.jpg\", \n",
      "  \"following\": false, \n",
      "  \"geo_enabled\": false, \n",
      "  \"profile_banner_url\": \"https://pbs.twimg.com/profile_banners/438395887/1411482297\", \n",
      "  \"profile_background_image_url\": \"http://abs.twimg.com/images/themes/theme1/bg.png\", \n",
      "  \"screen_name\": \"CatholicsTweet\", \n",
      "  \"lang\": \"en\", \n",
      "  \"profile_background_tile\": false, \n",
      "  \"favourites_count\": 489, \n",
      "  \"name\": \"CatholicsTweet\", \n",
      "  \"notifications\": false, \n",
      "  \"url\": null, \n",
      "  \"created_at\": \"Fri Dec 16 14:54:38 +0000 2011\", \n",
      "  \"contributors_enabled\": false, \n",
      "  \"time_zone\": \"Pacific Time (US & Canada)\", \n",
      "  \"protected\": false, \n",
      "  \"default_profile\": true, \n",
      "  \"is_translator\": false\n",
      " }, \n",
      " \"geo\": null, \n",
      " \"in_reply_to_user_id_str\": null, \n",
      " \"possibly_sensitive\": false, \n",
      " \"lang\": \"en\", \n",
      " \"created_at\": \"Sun Oct 02 13:41:11 +0000 2016\", \n",
      " \"in_reply_to_status_id_str\": null, \n",
      " \"place\": null, \n",
      " \"metadata\": {\n",
      "  \"iso_language_code\": \"en\", \n",
      "  \"result_type\": \"recent\"\n",
      " }\n",
      "}\n"
     ]
    }
   ],
   "source": [
    "# Show one sample search result by slicing the list...\n",
    "print json.dumps(statuses[0], indent=1)"
   ]
  },
  {
   "cell_type": "markdown",
   "metadata": {},
   "source": [
    "For a 140 characters long tweet, get quite  a huge amount of data. What kind of entities we have?"
   ]
  },
  {
   "cell_type": "code",
   "execution_count": 44,
   "metadata": {
    "collapsed": false
   },
   "outputs": [
    {
     "data": {
      "text/plain": [
       "[u'contributors',\n",
       " u'truncated',\n",
       " u'text',\n",
       " u'is_quote_status',\n",
       " u'in_reply_to_status_id',\n",
       " u'id',\n",
       " u'favorite_count',\n",
       " u'entities',\n",
       " u'retweeted',\n",
       " u'coordinates',\n",
       " u'source',\n",
       " u'in_reply_to_screen_name',\n",
       " u'in_reply_to_user_id',\n",
       " u'retweet_count',\n",
       " u'id_str',\n",
       " u'favorited',\n",
       " u'user',\n",
       " u'geo',\n",
       " u'in_reply_to_user_id_str',\n",
       " u'possibly_sensitive',\n",
       " u'lang',\n",
       " u'created_at',\n",
       " u'in_reply_to_status_id_str',\n",
       " u'place',\n",
       " u'metadata']"
      ]
     },
     "execution_count": 44,
     "metadata": {},
     "output_type": "execute_result"
    }
   ],
   "source": [
    "statuses[0].keys()"
   ]
  },
  {
   "cell_type": "code",
   "execution_count": 45,
   "metadata": {
    "collapsed": false
   },
   "outputs": [
    {
     "data": {
      "text/plain": [
       "u'Hillary Clinton &amp; Conservative Catholics in common? #RT https://t.co/WMheDt2S90 #Catholics #CatholicLaity @Church_Militant #CatholicSynod'"
      ]
     },
     "execution_count": 45,
     "metadata": {},
     "output_type": "execute_result"
    }
   ],
   "source": [
    "statuses[0]['text']"
   ]
  },
  {
   "cell_type": "markdown",
   "metadata": {},
   "source": [
    "### EXERCISE - Please work in pairs!\n",
    "\n",
    "1. Create a function which downloads the last 1600 tweets about a given query set. \n",
    "2. Create a function which finds the mentioned hastags in the downloaded tweets\n",
    "3. Create a function which  finds the mentioned usered in the downloaded tweets\n",
    "4. Save both presidential nominees data into two different json files.\n",
    "5. visualize the frequencies of hastags of Trump and Clinton on two plots or on the same plot! \n",
    "\n",
    "\n",
    "* Hints:  Feel free to google for the best maplotlib charts these can be useful: Counter, OrderedDict, Bar charts"
   ]
  },
  {
   "cell_type": "code",
   "execution_count": 46,
   "metadata": {
    "collapsed": true
   },
   "outputs": [],
   "source": [
    "def search_twitter(query, count):\n",
    "    \n",
    "        \n",
    "    return statuses\n"
   ]
  },
  {
   "cell_type": "code",
   "execution_count": 48,
   "metadata": {
    "collapsed": false
   },
   "outputs": [
    {
     "name": "stdout",
     "output_type": "stream",
     "text": [
      "Length of statuses 100\n",
      "Length of statuses 200\n",
      "Length of statuses 400\n",
      "Length of statuses 800\n",
      "Length of statuses 1600\n"
     ]
    }
   ],
   "source": [
    "trump_statuses=search_twitter(trump, 100)"
   ]
  },
  {
   "cell_type": "code",
   "execution_count": 51,
   "metadata": {
    "collapsed": false
   },
   "outputs": [
    {
     "name": "stdout",
     "output_type": "stream",
     "text": [
      "Length of statuses 100\n",
      "Length of statuses 200\n",
      "Length of statuses 400\n",
      "Length of statuses 800\n",
      "Length of statuses 1600\n"
     ]
    }
   ],
   "source": [
    "clinton_statuses=search_twitter(clinton, 100)"
   ]
  },
  {
   "cell_type": "markdown",
   "metadata": {},
   "source": [
    "2. write out the two json files:"
   ]
  },
  {
   "cell_type": "code",
   "execution_count": 52,
   "metadata": {
    "collapsed": false
   },
   "outputs": [],
   "source": []
  },
  {
   "cell_type": "code",
   "execution_count": 53,
   "metadata": {
    "collapsed": true
   },
   "outputs": [],
   "source": [
    "def find_hastags(data):\n",
    "    \n",
    "    return hashtags"
   ]
  },
  {
   "cell_type": "code",
   "execution_count": 54,
   "metadata": {
    "collapsed": false
   },
   "outputs": [],
   "source": [
    "clinton_hashtags=find_hastags(clinton_statuses)\n",
    "trump_hashtags=find_hastags(trump_statuses)"
   ]
  },
  {
   "cell_type": "code",
   "execution_count": 55,
   "metadata": {
    "collapsed": true
   },
   "outputs": [],
   "source": [
    "def find_mentioned_users(data):\n",
    "    \n",
    "    return screen_names"
   ]
  },
  {
   "cell_type": "code",
   "execution_count": 56,
   "metadata": {
    "collapsed": true
   },
   "outputs": [],
   "source": [
    "clinton_users=find_mentioned_users(clinton_statuses)\n",
    "trump_users=find_mentioned_users(trump_statuses)"
   ]
  },
  {
   "cell_type": "code",
   "execution_count": 57,
   "metadata": {
    "collapsed": false
   },
   "outputs": [],
   "source": [
    "from collections import Counter, OrderedDict\n",
    "#hint: Counter\n",
    "clinton_count=\n",
    "trump_count=\n",
    "\n",
    "#sorting by count, hint: OrderedDict\n",
    "clinton_sorted_by_value = \n",
    "trump_sorted_by_value = "
   ]
  },
  {
   "cell_type": "code",
   "execution_count": 58,
   "metadata": {
    "collapsed": false
   },
   "outputs": [
    {
     "data": {
      "text/plain": [
       "(35, 33)"
      ]
     },
     "execution_count": 58,
     "metadata": {},
     "output_type": "execute_result"
    }
   ],
   "source": [
    "len(clinton_sorted_by_value), len(trump_sorted_by_value)"
   ]
  },
  {
   "cell_type": "code",
   "execution_count": 59,
   "metadata": {
    "collapsed": false
   },
   "outputs": [],
   "source": [
    "import matplotlib.pyplot as plt\n",
    "plt.rcdefaults()\n",
    "import numpy as np\n",
    "import matplotlib.pyplot as plt\n",
    "\n",
    "%matplotlib inline\n",
    "\n",
    "\n",
    "def bar_chart(data, title, top):\n",
    "    \n",
    "\n",
    "    plt.show()\n",
    "\n"
   ]
  },
  {
   "cell_type": "code",
   "execution_count": null,
   "metadata": {
    "collapsed": true
   },
   "outputs": [],
   "source": [
    "bar_chart(clinton_sorted_by_value, '- Clinton', 10)"
   ]
  },
  {
   "cell_type": "code",
   "execution_count": null,
   "metadata": {
    "collapsed": true
   },
   "outputs": [],
   "source": [
    "bar_chart(trump_sorted_by_value, '- Trump', 10)"
   ]
  },
  {
   "cell_type": "markdown",
   "metadata": {
    "collapsed": true
   },
   "source": [
    "## Homework\n",
    "\n",
    "* I will upload the Midterm Assignment by tomorrow midnght, you have one week to complete it.\n",
    "* For the next class, please read the short [introduction to pandas](http://pandas.pydata.org/pandas-docs/stable/10min.html)"
   ]
  }
 ],
 "metadata": {
  "anaconda-cloud": {},
  "kernelspec": {
   "display_name": "Python [Root]",
   "language": "python",
   "name": "Python [Root]"
  },
  "language_info": {
   "codemirror_mode": {
    "name": "ipython",
    "version": 2
   },
   "file_extension": ".py",
   "mimetype": "text/x-python",
   "name": "python",
   "nbconvert_exporter": "python",
   "pygments_lexer": "ipython2",
   "version": "2.7.12"
  }
 },
 "nbformat": 4,
 "nbformat_minor": 0
}
